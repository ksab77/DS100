{
 "cells": [
  {
   "cell_type": "markdown",
   "metadata": {},
   "source": [
    "# Lab 3: Data Cleaning and Seaborn\n",
    "\n",
    "** If you are not attending lab, this assignment is due 09/12/2017 at 11:59pm (graded on accuracy) **\n",
    "\n",
    "** If you are attending lab, you do not need to submit the assignment; you just need to get checked off by your TA. **"
   ]
  },
  {
   "cell_type": "markdown",
   "metadata": {},
   "source": [
    "In this lab, you will be working on the Berkeley Police Department - Calls Data https://data.cityofberkeley.info/Public-Safety/Berkeley-PD-Calls-for-Service/k2nh-s5h5\n",
    "\n",
    "The data contains some interesting information but you may need to clean it a bit first.\n",
    "\n",
    "You may find the material in the lecture helpful http://www.ds100.org/fa17/assets/notebooks/04-lec/EDA_and_cleaning.html"
   ]
  },
  {
   "cell_type": "markdown",
   "metadata": {},
   "source": [
    "## Setup\n",
    "import the libraries and setup the okpy environment."
   ]
  },
  {
   "cell_type": "code",
   "execution_count": 1,
   "metadata": {},
   "outputs": [
    {
     "name": "stdout",
     "output_type": "stream",
     "text": [
      "=====================================================================\n",
      "Assignment: Lab 03\n",
      "OK, version v1.12.10\n",
      "=====================================================================\n",
      "\n"
     ]
    }
   ],
   "source": [
    "import pandas as pd\n",
    "import numpy as np\n",
    "import matplotlib.pyplot as plt\n",
    "import seaborn as sns\n",
    "%matplotlib inline\n",
    "sns.set()\n",
    "\n",
    "\n",
    "# These lines load the tests.\n",
    "# !pip install -U okpy\n",
    "\n",
    "from client.api.notebook import Notebook\n",
    "ok = Notebook('lab03.ok')"
   ]
  },
  {
   "cell_type": "code",
   "execution_count": 2,
   "metadata": {},
   "outputs": [
    {
     "name": "stdout",
     "output_type": "stream",
     "text": [
      "\n",
      "Open the following URL:\n",
      "\n",
      "https://okpy.org/client/login/\n",
      "\n",
      "After logging in, copy the code from the web page and paste it into the box.\n",
      "Then press the \"Enter\" key on your keyboard.\n",
      "\n",
      "Paste your code here: 5vftPvpJAqgvLyVaWlt2wrCwdN4An9\n",
      "Successfully logged in as sungbin.andy.kang@berkeley.edu\n"
     ]
    }
   ],
   "source": [
    "import os\n",
    "auth_refresh = os.path.join(os.path.expanduser('~'), '.config', 'ok', 'auth_refresh')\n",
    "if os.path.exists(auth_refresh):\n",
    "    os.remove(auth_refresh)\n",
    "ok.auth(force=True)"
   ]
  },
  {
   "cell_type": "markdown",
   "metadata": {},
   "source": [
    "## Loading Data and simple exploration"
   ]
  },
  {
   "cell_type": "code",
   "execution_count": 3,
   "metadata": {},
   "outputs": [
    {
     "data": {
      "text/html": [
       "<div>\n",
       "<style>\n",
       "    .dataframe thead tr:only-child th {\n",
       "        text-align: right;\n",
       "    }\n",
       "\n",
       "    .dataframe thead th {\n",
       "        text-align: left;\n",
       "    }\n",
       "\n",
       "    .dataframe tbody tr th {\n",
       "        vertical-align: top;\n",
       "    }\n",
       "</style>\n",
       "<table border=\"1\" class=\"dataframe\">\n",
       "  <thead>\n",
       "    <tr style=\"text-align: right;\">\n",
       "      <th></th>\n",
       "      <th>CASENO</th>\n",
       "      <th>OFFENSE</th>\n",
       "      <th>EVENTDT</th>\n",
       "      <th>EVENTTM</th>\n",
       "      <th>CVLEGEND</th>\n",
       "      <th>CVDOW</th>\n",
       "      <th>InDbDate</th>\n",
       "      <th>Block_Location</th>\n",
       "      <th>BLKADDR</th>\n",
       "      <th>City</th>\n",
       "      <th>State</th>\n",
       "    </tr>\n",
       "  </thead>\n",
       "  <tbody>\n",
       "    <tr>\n",
       "      <th>0</th>\n",
       "      <td>17091420</td>\n",
       "      <td>BURGLARY AUTO</td>\n",
       "      <td>07/23/2017 12:00:00 AM</td>\n",
       "      <td>06:00</td>\n",
       "      <td>BURGLARY - VEHICLE</td>\n",
       "      <td>0</td>\n",
       "      <td>08/29/2017 08:28:05 AM</td>\n",
       "      <td>2500 LE CONTE AVE\\nBerkeley, CA\\n(37.876965, -...</td>\n",
       "      <td>2500 LE CONTE AVE</td>\n",
       "      <td>Berkeley</td>\n",
       "      <td>CA</td>\n",
       "    </tr>\n",
       "    <tr>\n",
       "      <th>1</th>\n",
       "      <td>17020462</td>\n",
       "      <td>THEFT FROM PERSON</td>\n",
       "      <td>04/13/2017 12:00:00 AM</td>\n",
       "      <td>08:45</td>\n",
       "      <td>LARCENY</td>\n",
       "      <td>4</td>\n",
       "      <td>08/29/2017 08:28:00 AM</td>\n",
       "      <td>2200 SHATTUCK AVE\\nBerkeley, CA\\n(37.869363, -...</td>\n",
       "      <td>2200 SHATTUCK AVE</td>\n",
       "      <td>Berkeley</td>\n",
       "      <td>CA</td>\n",
       "    </tr>\n",
       "    <tr>\n",
       "      <th>2</th>\n",
       "      <td>17050275</td>\n",
       "      <td>BURGLARY AUTO</td>\n",
       "      <td>08/24/2017 12:00:00 AM</td>\n",
       "      <td>18:30</td>\n",
       "      <td>BURGLARY - VEHICLE</td>\n",
       "      <td>4</td>\n",
       "      <td>08/29/2017 08:28:06 AM</td>\n",
       "      <td>200 UNIVERSITY AVE\\nBerkeley, CA\\n(37.865491, ...</td>\n",
       "      <td>200 UNIVERSITY AVE</td>\n",
       "      <td>Berkeley</td>\n",
       "      <td>CA</td>\n",
       "    </tr>\n",
       "    <tr>\n",
       "      <th>3</th>\n",
       "      <td>17019145</td>\n",
       "      <td>GUN/WEAPON</td>\n",
       "      <td>04/06/2017 12:00:00 AM</td>\n",
       "      <td>17:30</td>\n",
       "      <td>WEAPONS OFFENSE</td>\n",
       "      <td>4</td>\n",
       "      <td>08/29/2017 08:27:59 AM</td>\n",
       "      <td>1900 SEVENTH ST\\nBerkeley, CA\\n(37.869318, -12...</td>\n",
       "      <td>1900 SEVENTH ST</td>\n",
       "      <td>Berkeley</td>\n",
       "      <td>CA</td>\n",
       "    </tr>\n",
       "    <tr>\n",
       "      <th>4</th>\n",
       "      <td>17044993</td>\n",
       "      <td>VEHICLE STOLEN</td>\n",
       "      <td>08/01/2017 12:00:00 AM</td>\n",
       "      <td>18:00</td>\n",
       "      <td>MOTOR VEHICLE THEFT</td>\n",
       "      <td>2</td>\n",
       "      <td>08/29/2017 08:28:05 AM</td>\n",
       "      <td>100 PARKSIDE DR\\nBerkeley, CA\\n(37.854247, -12...</td>\n",
       "      <td>100 PARKSIDE DR</td>\n",
       "      <td>Berkeley</td>\n",
       "      <td>CA</td>\n",
       "    </tr>\n",
       "  </tbody>\n",
       "</table>\n",
       "</div>"
      ],
      "text/plain": [
       "     CASENO            OFFENSE                 EVENTDT EVENTTM  \\\n",
       "0  17091420      BURGLARY AUTO  07/23/2017 12:00:00 AM   06:00   \n",
       "1  17020462  THEFT FROM PERSON  04/13/2017 12:00:00 AM   08:45   \n",
       "2  17050275      BURGLARY AUTO  08/24/2017 12:00:00 AM   18:30   \n",
       "3  17019145         GUN/WEAPON  04/06/2017 12:00:00 AM   17:30   \n",
       "4  17044993     VEHICLE STOLEN  08/01/2017 12:00:00 AM   18:00   \n",
       "\n",
       "              CVLEGEND  CVDOW                InDbDate  \\\n",
       "0   BURGLARY - VEHICLE      0  08/29/2017 08:28:05 AM   \n",
       "1              LARCENY      4  08/29/2017 08:28:00 AM   \n",
       "2   BURGLARY - VEHICLE      4  08/29/2017 08:28:06 AM   \n",
       "3      WEAPONS OFFENSE      4  08/29/2017 08:27:59 AM   \n",
       "4  MOTOR VEHICLE THEFT      2  08/29/2017 08:28:05 AM   \n",
       "\n",
       "                                      Block_Location             BLKADDR  \\\n",
       "0  2500 LE CONTE AVE\\nBerkeley, CA\\n(37.876965, -...   2500 LE CONTE AVE   \n",
       "1  2200 SHATTUCK AVE\\nBerkeley, CA\\n(37.869363, -...   2200 SHATTUCK AVE   \n",
       "2  200 UNIVERSITY AVE\\nBerkeley, CA\\n(37.865491, ...  200 UNIVERSITY AVE   \n",
       "3  1900 SEVENTH ST\\nBerkeley, CA\\n(37.869318, -12...     1900 SEVENTH ST   \n",
       "4  100 PARKSIDE DR\\nBerkeley, CA\\n(37.854247, -12...     100 PARKSIDE DR   \n",
       "\n",
       "       City State  \n",
       "0  Berkeley    CA  \n",
       "1  Berkeley    CA  \n",
       "2  Berkeley    CA  \n",
       "3  Berkeley    CA  \n",
       "4  Berkeley    CA  "
      ]
     },
     "execution_count": 3,
     "metadata": {},
     "output_type": "execute_result"
    }
   ],
   "source": [
    "calls = pd.read_csv(\"data/Berkeley_PD_-_Calls_for_Service.csv\")\n",
    "calls.head()"
   ]
  },
  {
   "cell_type": "markdown",
   "metadata": {},
   "source": [
    "First let's check how many records we have."
   ]
  },
  {
   "cell_type": "code",
   "execution_count": 4,
   "metadata": {},
   "outputs": [
    {
     "data": {
      "text/plain": [
       "5508"
      ]
     },
     "execution_count": 4,
     "metadata": {},
     "output_type": "execute_result"
    }
   ],
   "source": [
    "len(calls)"
   ]
  },
  {
   "cell_type": "markdown",
   "metadata": {},
   "source": [
    "Then we can go over the fields to see what are their meanings. We can first check if all events happened in Berkeley"
   ]
  },
  {
   "cell_type": "code",
   "execution_count": 5,
   "metadata": {},
   "outputs": [
    {
     "data": {
      "text/html": [
       "<div>\n",
       "<style>\n",
       "    .dataframe thead tr:only-child th {\n",
       "        text-align: right;\n",
       "    }\n",
       "\n",
       "    .dataframe thead th {\n",
       "        text-align: left;\n",
       "    }\n",
       "\n",
       "    .dataframe tbody tr th {\n",
       "        vertical-align: top;\n",
       "    }\n",
       "</style>\n",
       "<table border=\"1\" class=\"dataframe\">\n",
       "  <thead>\n",
       "    <tr style=\"text-align: right;\">\n",
       "      <th></th>\n",
       "      <th></th>\n",
       "      <th>CASENO</th>\n",
       "      <th>OFFENSE</th>\n",
       "      <th>EVENTDT</th>\n",
       "      <th>EVENTTM</th>\n",
       "      <th>CVLEGEND</th>\n",
       "      <th>CVDOW</th>\n",
       "      <th>InDbDate</th>\n",
       "      <th>Block_Location</th>\n",
       "      <th>BLKADDR</th>\n",
       "    </tr>\n",
       "    <tr>\n",
       "      <th>City</th>\n",
       "      <th>State</th>\n",
       "      <th></th>\n",
       "      <th></th>\n",
       "      <th></th>\n",
       "      <th></th>\n",
       "      <th></th>\n",
       "      <th></th>\n",
       "      <th></th>\n",
       "      <th></th>\n",
       "      <th></th>\n",
       "    </tr>\n",
       "  </thead>\n",
       "  <tbody>\n",
       "    <tr>\n",
       "      <th>Berkeley</th>\n",
       "      <th>CA</th>\n",
       "      <td>5508</td>\n",
       "      <td>5508</td>\n",
       "      <td>5508</td>\n",
       "      <td>5508</td>\n",
       "      <td>5508</td>\n",
       "      <td>5508</td>\n",
       "      <td>5508</td>\n",
       "      <td>5508</td>\n",
       "      <td>5481</td>\n",
       "    </tr>\n",
       "  </tbody>\n",
       "</table>\n",
       "</div>"
      ],
      "text/plain": [
       "                CASENO  OFFENSE  EVENTDT  EVENTTM  CVLEGEND  CVDOW  InDbDate  \\\n",
       "City     State                                                                 \n",
       "Berkeley CA       5508     5508     5508     5508      5508   5508      5508   \n",
       "\n",
       "                Block_Location  BLKADDR  \n",
       "City     State                           \n",
       "Berkeley CA               5508     5481  "
      ]
     },
     "execution_count": 5,
     "metadata": {},
     "output_type": "execute_result"
    }
   ],
   "source": [
    "calls.groupby([\"City\",\"State\"]).count()"
   ]
  },
  {
   "cell_type": "markdown",
   "metadata": {},
   "source": [
    "### Question 1\n",
    "It seems OFFENSE and CVLEGEND are both about the type of event. What is the difference between the two? Try to use the `groupby` method to group the two keys.\n",
    "\n",
    "You should be able to see that CVLEGEND is a broader category of crime. For example, there are three sub-categories in OFFENSE that correspond to LARCENY in CVLEGEND. Find them and save the results in `answer1` (should be a list of strings, you may manually type in the answer)."
   ]
  },
  {
   "cell_type": "code",
   "execution_count": 6,
   "metadata": {
    "collapsed": true,
    "tags": [
     "student"
    ]
   },
   "outputs": [],
   "source": [
    "# You may use this cell for your scratch work as long as you enter\n",
    "# in your final answers in the answer1 variable.\n",
    "\n",
    "calls.groupby\n",
    "answer1 = [\"THEFT FELONY (OVER $950)\", \"THEFT FROM PERSON\", \"THEFT MISD. (UNDER $950)\"]"
   ]
  },
  {
   "cell_type": "code",
   "execution_count": 7,
   "metadata": {},
   "outputs": [
    {
     "name": "stdout",
     "output_type": "stream",
     "text": [
      "~~~~~~~~~~~~~~~~~~~~~~~~~~~~~~~~~~~~~~~~~~~~~~~~~~~~~~~~~~~~~~~~~~~~~\n",
      "Running tests\n",
      "\n",
      "---------------------------------------------------------------------\n",
      "Test summary\n",
      "    Passed: 1\n",
      "    Failed: 0\n",
      "[ooooooooook] 100.0% passed\n",
      "\n"
     ]
    },
    {
     "data": {
      "application/javascript": [
       "IPython.notebook.save_checkpoint();"
      ],
      "text/plain": [
       "<IPython.core.display.Javascript object>"
      ]
     },
     "metadata": {},
     "output_type": "display_data"
    },
    {
     "data": {
      "application/javascript": [
       "IPython.notebook.save_notebook();"
      ],
      "text/plain": [
       "<IPython.core.display.Javascript object>"
      ]
     },
     "metadata": {},
     "output_type": "display_data"
    },
    {
     "name": "stdout",
     "output_type": "stream",
     "text": [
      "Saving notebook... Saved 'lab03.ipynb'.\n",
      "Backup... 100% complete\n",
      "Backup successful for user: sungbin.andy.kang@berkeley.edu\n",
      "URL: https://okpy.org/cal/ds100/fa17/lab03/backups/v2p4om\n",
      "NOTE: this is only a backup. To submit your assignment, use:\n",
      "\tpython3 ok --submit\n",
      "\n"
     ]
    }
   ],
   "source": [
    "_ = ok.grade('q01')\n",
    "_ = ok.backup()"
   ]
  },
  {
   "cell_type": "markdown",
   "metadata": {},
   "source": [
    "### Question 2\n",
    "\n",
    "#### Question 2a\n",
    "\n",
    "What are the five crime types of CVLEGEND that have the most crime events? You may need to use `value_counts` to find the answer. Save your results into `answer2a` as a list of strings"
   ]
  },
  {
   "cell_type": "code",
   "execution_count": 8,
   "metadata": {},
   "outputs": [
    {
     "data": {
      "text/plain": [
       "LARCENY                   1102\n",
       "BURGLARY - VEHICLE        1021\n",
       "VANDALISM                  438\n",
       "DISORDERLY CONDUCT         415\n",
       "ASSAULT                    352\n",
       "DRUG VIOLATION             328\n",
       "MOTOR VEHICLE THEFT        308\n",
       "BURGLARY - RESIDENTIAL     274\n",
       "FRAUD                      260\n",
       "ROBBERY                    187\n",
       "LIQUOR LAW VIOLATION       147\n",
       "LARCENY - FROM VEHICLE     140\n",
       "FAMILY OFFENSE             130\n",
       "BURGLARY - COMMERCIAL      104\n",
       "MISSING PERSON              96\n",
       "WEAPONS OFFENSE             77\n",
       "SEX CRIME                   50\n",
       "NOISE VIOLATION             46\n",
       "ARSON                       14\n",
       "ALL OTHER OFFENSES           9\n",
       "RECOVERED VEHICLE            8\n",
       "KIDNAPPING                   1\n",
       "HOMICIDE                     1\n",
       "Name: CVLEGEND, dtype: int64"
      ]
     },
     "execution_count": 8,
     "metadata": {},
     "output_type": "execute_result"
    }
   ],
   "source": [
    "answer2a = [\"LARCENY\", \"BURGLARY - VEHICLE\", \"VANDALISM\", \"DISORDERLY CONDUCT\", \"ASSAULT\"]\n",
    "calls.groupby([\"CVLEGEND\", \"OFFENSE\"]).count()\n",
    "calls['CVLEGEND'].value_counts().sort_values(ascending=False)"
   ]
  },
  {
   "cell_type": "code",
   "execution_count": 9,
   "metadata": {},
   "outputs": [
    {
     "name": "stdout",
     "output_type": "stream",
     "text": [
      "~~~~~~~~~~~~~~~~~~~~~~~~~~~~~~~~~~~~~~~~~~~~~~~~~~~~~~~~~~~~~~~~~~~~~\n",
      "Running tests\n",
      "\n",
      "---------------------------------------------------------------------\n",
      "Test summary\n",
      "    Passed: 1\n",
      "    Failed: 0\n",
      "[ooooooooook] 100.0% passed\n",
      "\n"
     ]
    },
    {
     "data": {
      "application/javascript": [
       "IPython.notebook.save_checkpoint();"
      ],
      "text/plain": [
       "<IPython.core.display.Javascript object>"
      ]
     },
     "metadata": {},
     "output_type": "display_data"
    },
    {
     "data": {
      "application/javascript": [
       "IPython.notebook.save_notebook();"
      ],
      "text/plain": [
       "<IPython.core.display.Javascript object>"
      ]
     },
     "metadata": {},
     "output_type": "display_data"
    },
    {
     "name": "stdout",
     "output_type": "stream",
     "text": [
      "Saving notebook... Saved 'lab03.ipynb'.\n",
      "Backup... 100% complete\n",
      "Backup successful for user: sungbin.andy.kang@berkeley.edu\n",
      "URL: https://okpy.org/cal/ds100/fa17/lab03/backups/o2g4QK\n",
      "NOTE: this is only a backup. To submit your assignment, use:\n",
      "\tpython3 ok --submit\n",
      "\n"
     ]
    }
   ],
   "source": [
    "_ = ok.grade('q02a')\n",
    "_ = ok.backup()"
   ]
  },
  {
   "cell_type": "markdown",
   "metadata": {},
   "source": [
    "#### Question 2b\n",
    "Also we can use the `countplot` to plot the distribution of different event types of `CVLEGEND`. "
   ]
  },
  {
   "cell_type": "code",
   "execution_count": 10,
   "metadata": {
    "scrolled": true
   },
   "outputs": [
    {
     "data": {
      "text/plain": [
       "<matplotlib.axes._subplots.AxesSubplot at 0x7f7bb111fe48>"
      ]
     },
     "execution_count": 10,
     "metadata": {},
     "output_type": "execute_result"
    },
    {
     "data": {
      "image/png": "[encoded data removed]",
      "text/plain": [
       "<matplotlib.figure.Figure at 0x7f7bb111fa90>"
      ]
     },
     "metadata": {},
     "output_type": "display_data"
    }
   ],
   "source": [
    "sns.countplot(data=calls,y='CVLEGEND')"
   ]
  },
  {
   "cell_type": "markdown",
   "metadata": {},
   "source": [
    "However, `countplot` didn't sort the rows according to the count. Try to use `value_counts` and `barplot` to plot a similar graph with the rows sorted according to the count"
   ]
  },
  {
   "cell_type": "code",
   "execution_count": 11,
   "metadata": {},
   "outputs": [
    {
     "data": {
      "text/plain": [
       "Index(['LARCENY', 'BURGLARY - VEHICLE', 'VANDALISM', 'DISORDERLY CONDUCT',\n",
       "       'ASSAULT', 'DRUG VIOLATION', 'MOTOR VEHICLE THEFT',\n",
       "       'BURGLARY - RESIDENTIAL', 'FRAUD', 'ROBBERY', 'LIQUOR LAW VIOLATION',\n",
       "       'LARCENY - FROM VEHICLE', 'FAMILY OFFENSE', 'BURGLARY - COMMERCIAL',\n",
       "       'MISSING PERSON', 'WEAPONS OFFENSE', 'SEX CRIME', 'NOISE VIOLATION',\n",
       "       'ARSON', 'ALL OTHER OFFENSES', 'RECOVERED VEHICLE', 'KIDNAPPING',\n",
       "       'HOMICIDE'],\n",
       "      dtype='object')"
      ]
     },
     "execution_count": 11,
     "metadata": {},
     "output_type": "execute_result"
    }
   ],
   "source": [
    "calls['CVLEGEND'].value_counts().sort_values(ascending=False).index"
   ]
  },
  {
   "cell_type": "code",
   "execution_count": 12,
   "metadata": {},
   "outputs": [
    {
     "data": {
      "image/png": "[encoded data removed]",
      "text/plain": [
       "<matplotlib.figure.Figure at 0x7f7bb111fe80>"
      ]
     },
     "metadata": {},
     "output_type": "display_data"
    }
   ],
   "source": [
    "sns.barplot(x=calls['CVLEGEND'].value_counts().sort_values(ascending=False).index, y=calls['CVLEGEND'].value_counts().sort_values(ascending=False).values, data=calls)\n",
    "sns.barplot?"
   ]
  },
  {
   "cell_type": "markdown",
   "metadata": {},
   "source": [
    "### Question 3a\n",
    "\n",
    "The CVDOW field isn't named helpfully and it is hard to see the meaning from the data alone. According to the website, CVDOW is actually indicating the day that events happend. 0->Sunday, 1->Monday ... 6->Saturday.  Add a new column `Day` into the `calls` dataframe that has the string weekday (eg. 'Sunday') for the corresponding value in CVDOW."
   ]
  },
  {
   "cell_type": "code",
   "execution_count": 13,
   "metadata": {
    "collapsed": true
   },
   "outputs": [],
   "source": [
    "days = np.array([\"Sunday\",\"Monday\",\"Tuesday\",\"Wednesday\",\"Thursday\",\"Friday\",\"Saturday\"])\n",
    "calls[\"Day\"] = days[calls['CVDOW']]"
   ]
  },
  {
   "cell_type": "code",
   "execution_count": 14,
   "metadata": {},
   "outputs": [
    {
     "data": {
      "text/plain": [
       "{'Friday', 'Monday', 'Saturday', 'Sunday', 'Thursday', 'Tuesday', 'Wednesday'}"
      ]
     },
     "execution_count": 14,
     "metadata": {},
     "output_type": "execute_result"
    }
   ],
   "source": [
    "set(calls[\"Day\"])"
   ]
  },
  {
   "cell_type": "code",
   "execution_count": 15,
   "metadata": {},
   "outputs": [
    {
     "name": "stdout",
     "output_type": "stream",
     "text": [
      "~~~~~~~~~~~~~~~~~~~~~~~~~~~~~~~~~~~~~~~~~~~~~~~~~~~~~~~~~~~~~~~~~~~~~\n",
      "Running tests\n",
      "\n",
      "---------------------------------------------------------------------\n",
      "Test summary\n",
      "    Passed: 1\n",
      "    Failed: 0\n",
      "[ooooooooook] 100.0% passed\n",
      "\n"
     ]
    },
    {
     "data": {
      "application/javascript": [
       "IPython.notebook.save_checkpoint();"
      ],
      "text/plain": [
       "<IPython.core.display.Javascript object>"
      ]
     },
     "metadata": {},
     "output_type": "display_data"
    },
    {
     "data": {
      "application/javascript": [
       "IPython.notebook.save_notebook();"
      ],
      "text/plain": [
       "<IPython.core.display.Javascript object>"
      ]
     },
     "metadata": {},
     "output_type": "display_data"
    },
    {
     "name": "stdout",
     "output_type": "stream",
     "text": [
      "Saving notebook... Saved 'lab03.ipynb'.\n",
      "Backup... 100% complete\n",
      "Backup successful for user: sungbin.andy.kang@berkeley.edu\n",
      "URL: https://okpy.org/cal/ds100/fa17/lab03/backups/zpwjK8\n",
      "NOTE: this is only a backup. To submit your assignment, use:\n",
      "\tpython3 ok --submit\n",
      "\n"
     ]
    }
   ],
   "source": [
    "_ = ok.grade('q03a')\n",
    "_ = ok.backup()"
   ]
  },
  {
   "cell_type": "markdown",
   "metadata": {},
   "source": [
    "### Question 3b\n",
    "We can plot the distribution of crime events on different days to see if there are some interesting findings."
   ]
  },
  {
   "cell_type": "code",
   "execution_count": 16,
   "metadata": {},
   "outputs": [
    {
     "data": {
      "text/plain": [
       "<matplotlib.axes._subplots.AxesSubplot at 0x7f7bb027b128>"
      ]
     },
     "execution_count": 16,
     "metadata": {},
     "output_type": "execute_result"
    },
    {
     "data": {
      "image/png": "[encoded data removed]",
      "text/plain": [
       "<matplotlib.figure.Figure at 0x7f7bb0f79128>"
      ]
     },
     "metadata": {},
     "output_type": "display_data"
    }
   ],
   "source": [
    "sns.countplot(x=\"Day\",data=calls)"
   ]
  },
  {
   "cell_type": "markdown",
   "metadata": {},
   "source": [
    "It seems Saturday and Friday have slightly more crimes than the others, while Sunday is the lowest. But the difference is not significant. We can break down into some particular types of events to see their distribution. For example, please make a `countplot` for the \"NOISE VIOLATION\". Which two days are the peak for \"NOISE VIOLATION\"? Put your results into `answer3b` as a list of strings. "
   ]
  },
  {
   "cell_type": "code",
   "execution_count": 19,
   "metadata": {},
   "outputs": [
    {
     "data": {
      "text/plain": [
       "<matplotlib.axes._subplots.AxesSubplot at 0x7f7bb033a2e8>"
      ]
     },
     "execution_count": 19,
     "metadata": {},
     "output_type": "execute_result"
    },
    {
     "data": {
      "image/png": "[encoded data removed]",
      "text/plain": [
       "<matplotlib.figure.Figure at 0x7f7bb0340358>"
      ]
     },
     "metadata": {},
     "output_type": "display_data"
    }
   ],
   "source": [
    "sns.countplot(x=\"Day\", data=calls[(calls[\"CVLEGEND\"] == \"NOISE VIOLATION\")])"
   ]
  },
  {
   "cell_type": "code",
   "execution_count": 24,
   "metadata": {
    "tags": [
     "student"
    ]
   },
   "outputs": [
    {
     "data": {
      "text/plain": [
       "5508"
      ]
     },
     "execution_count": 24,
     "metadata": {},
     "output_type": "execute_result"
    },
    {
     "data": {
      "image/png": "[encoded data removed]",
      "text/plain": [
       "<matplotlib.figure.Figure at 0x7f7ba8c74828>"
      ]
     },
     "metadata": {},
     "output_type": "display_data"
    }
   ],
   "source": [
    "# TODO: make some plots here\n",
    "sns.countplot(x=\"CVLEGEND\", hue=\"Day\", data=calls)\n",
    "answer3b = [\"Saturday\", \"Friday\"]\n",
    "calls[\"CVLEGEND\"].count()"
   ]
  },
  {
   "cell_type": "code",
   "execution_count": 40,
   "metadata": {},
   "outputs": [
    {
     "data": {
      "text/plain": [
       "<matplotlib.axes._subplots.AxesSubplot at 0x7f7bb024b748>"
      ]
     },
     "execution_count": 40,
     "metadata": {},
     "output_type": "execute_result"
    },
    {
     "data": {
      "image/png": "[encoded data removed]",
      "text/plain": [
       "<matplotlib.figure.Figure at 0x7f7ba8c4a320>"
      ]
     },
     "metadata": {},
     "output_type": "display_data"
    }
   ],
   "source": [
    "sns.countplot(x=\"Day\", data=calls[(calls[\"CVLEGEND\"] == \"LIQUOR LAW VIOLATION\")])"
   ]
  },
  {
   "cell_type": "code",
   "execution_count": 21,
   "metadata": {},
   "outputs": [
    {
     "name": "stdout",
     "output_type": "stream",
     "text": [
      "~~~~~~~~~~~~~~~~~~~~~~~~~~~~~~~~~~~~~~~~~~~~~~~~~~~~~~~~~~~~~~~~~~~~~\n",
      "Running tests\n",
      "\n",
      "---------------------------------------------------------------------\n",
      "Test summary\n",
      "    Passed: 1\n",
      "    Failed: 0\n",
      "[ooooooooook] 100.0% passed\n",
      "\n"
     ]
    },
    {
     "data": {
      "application/javascript": [
       "IPython.notebook.save_checkpoint();"
      ],
      "text/plain": [
       "<IPython.core.display.Javascript object>"
      ]
     },
     "metadata": {},
     "output_type": "display_data"
    },
    {
     "data": {
      "application/javascript": [
       "IPython.notebook.save_notebook();"
      ],
      "text/plain": [
       "<IPython.core.display.Javascript object>"
      ]
     },
     "metadata": {},
     "output_type": "display_data"
    },
    {
     "name": "stdout",
     "output_type": "stream",
     "text": [
      "Saving notebook... Saved 'lab03.ipynb'.\n",
      "Backup... 100% complete\n",
      "Backup successful for user: sungbin.andy.kang@berkeley.edu\n",
      "URL: https://okpy.org/cal/ds100/fa17/lab03/backups/pYj5Z1\n",
      "NOTE: this is only a backup. To submit your assignment, use:\n",
      "\tpython3 ok --submit\n",
      "\n"
     ]
    }
   ],
   "source": [
    "_ = ok.grade('q03b')\n",
    "_ = ok.backup()"
   ]
  },
  {
   "cell_type": "markdown",
   "metadata": {},
   "source": [
    "### Question 3c\n",
    "There are two more CVLEGEND types that have similar distribution as \"NOISE VIOLATION\" (peaks are weekends), find both and put your results into the `answer3c` as a list of strings."
   ]
  },
  {
   "cell_type": "code",
   "execution_count": 43,
   "metadata": {
    "collapsed": true
   },
   "outputs": [],
   "source": [
    "answer3c = [\"LARCENY\", \"LIQUOR LAW VIOLATION\"]"
   ]
  },
  {
   "cell_type": "code",
   "execution_count": 44,
   "metadata": {},
   "outputs": [
    {
     "name": "stdout",
     "output_type": "stream",
     "text": [
      "~~~~~~~~~~~~~~~~~~~~~~~~~~~~~~~~~~~~~~~~~~~~~~~~~~~~~~~~~~~~~~~~~~~~~\n",
      "Running tests\n",
      "\n",
      "---------------------------------------------------------------------\n",
      "Question 3c > Suite 1 > Case 1\n",
      "\n",
      ">>> def ascii_sum(ans):\n",
      "...     return sum([sum(map(ord, s.strip())) for s in ans])\n",
      ">>> ascii_sum(answer3c) == 2492\n",
      "False\n",
      "\n",
      "# Error: expected\n",
      "#     True\n",
      "# but got\n",
      "#     False\n",
      "\n",
      "Run only this test case with \"python3 ok -q q03c --suite 1 --case 1\"\n",
      "---------------------------------------------------------------------\n",
      "Test summary\n",
      "    Passed: 0\n",
      "    Failed: 1\n",
      "[k..........] 0.0% passed\n",
      "\n"
     ]
    },
    {
     "data": {
      "application/javascript": [
       "IPython.notebook.save_checkpoint();"
      ],
      "text/plain": [
       "<IPython.core.display.Javascript object>"
      ]
     },
     "metadata": {},
     "output_type": "display_data"
    },
    {
     "data": {
      "application/javascript": [
       "IPython.notebook.save_notebook();"
      ],
      "text/plain": [
       "<IPython.core.display.Javascript object>"
      ]
     },
     "metadata": {},
     "output_type": "display_data"
    },
    {
     "name": "stdout",
     "output_type": "stream",
     "text": [
      "Saving notebook... Saved 'lab03.ipynb'.\n",
      "Backup... 100% complete\n",
      "Backup successful for user: sungbin.andy.kang@berkeley.edu\n",
      "URL: https://okpy.org/cal/ds100/fa17/lab03/backups/1wvAvP\n",
      "NOTE: this is only a backup. To submit your assignment, use:\n",
      "\tpython3 ok --submit\n",
      "\n"
     ]
    }
   ],
   "source": [
    "_ = ok.grade('q03c')\n",
    "_ = ok.backup()"
   ]
  },
  {
   "cell_type": "markdown",
   "metadata": {},
   "source": [
    "### Question 4a\n",
    "Now let's look at the EVENTTM column which indicates the time for events. Since it contains hour and minute information, let's extract the hour info and create a new column named `hour` in the `calls` dataframe. You should save the hour as an int. Then plot the distribution of the `hour` column using `sns.countplot`."
   ]
  },
  {
   "cell_type": "code",
   "execution_count": 73,
   "metadata": {},
   "outputs": [
    {
     "name": "stderr",
     "output_type": "stream",
     "text": [
      "/home/ksab77/anaconda3/envs/ds100/lib/python3.6/site-packages/ipykernel_launcher.py:3: SettingWithCopyWarning: \n",
      "A value is trying to be set on a copy of a slice from a DataFrame\n",
      "\n",
      "See the caveats in the documentation: http://pandas.pydata.org/pandas-docs/stable/indexing.html#indexing-view-versus-copy\n",
      "  This is separate from the ipykernel package so we can avoid doing imports until\n"
     ]
    }
   ],
   "source": [
    "int(calls[\"EVENTTM\"][0][0:2])\n",
    "for x in np.arange(len(calls[\"EVENTTM\"])):\n",
    "    calls[\"hour\"][x] = int(calls[\"EVENTTM\"][x][0:2])"
   ]
  },
  {
   "cell_type": "code",
   "execution_count": 74,
   "metadata": {
    "tags": [
     "student"
    ]
   },
   "outputs": [
    {
     "data": {
      "text/html": [
       "<div>\n",
       "<style>\n",
       "    .dataframe thead tr:only-child th {\n",
       "        text-align: right;\n",
       "    }\n",
       "\n",
       "    .dataframe thead th {\n",
       "        text-align: left;\n",
       "    }\n",
       "\n",
       "    .dataframe tbody tr th {\n",
       "        vertical-align: top;\n",
       "    }\n",
       "</style>\n",
       "<table border=\"1\" class=\"dataframe\">\n",
       "  <thead>\n",
       "    <tr style=\"text-align: right;\">\n",
       "      <th></th>\n",
       "      <th>CASENO</th>\n",
       "      <th>OFFENSE</th>\n",
       "      <th>EVENTDT</th>\n",
       "      <th>EVENTTM</th>\n",
       "      <th>CVLEGEND</th>\n",
       "      <th>CVDOW</th>\n",
       "      <th>InDbDate</th>\n",
       "      <th>Block_Location</th>\n",
       "      <th>BLKADDR</th>\n",
       "      <th>City</th>\n",
       "      <th>State</th>\n",
       "      <th>Day</th>\n",
       "      <th>road</th>\n",
       "      <th>hour</th>\n",
       "    </tr>\n",
       "  </thead>\n",
       "  <tbody>\n",
       "    <tr>\n",
       "      <th>0</th>\n",
       "      <td>17091420</td>\n",
       "      <td>BURGLARY AUTO</td>\n",
       "      <td>07/23/2017 12:00:00 AM</td>\n",
       "      <td>06:00</td>\n",
       "      <td>BURGLARY - VEHICLE</td>\n",
       "      <td>0</td>\n",
       "      <td>08/29/2017 08:28:05 AM</td>\n",
       "      <td>2500 LE CONTE AVE\\nBerkeley, CA\\n(37.876965, -...</td>\n",
       "      <td>2500 LE CONTE AVE</td>\n",
       "      <td>Berkeley</td>\n",
       "      <td>CA</td>\n",
       "      <td>Sunday</td>\n",
       "      <td>LE CONTE AVE</td>\n",
       "      <td>6</td>\n",
       "    </tr>\n",
       "    <tr>\n",
       "      <th>1</th>\n",
       "      <td>17020462</td>\n",
       "      <td>THEFT FROM PERSON</td>\n",
       "      <td>04/13/2017 12:00:00 AM</td>\n",
       "      <td>08:45</td>\n",
       "      <td>LARCENY</td>\n",
       "      <td>4</td>\n",
       "      <td>08/29/2017 08:28:00 AM</td>\n",
       "      <td>2200 SHATTUCK AVE\\nBerkeley, CA\\n(37.869363, -...</td>\n",
       "      <td>2200 SHATTUCK AVE</td>\n",
       "      <td>Berkeley</td>\n",
       "      <td>CA</td>\n",
       "      <td>Thursday</td>\n",
       "      <td>SHATTUCK AVE</td>\n",
       "      <td>8</td>\n",
       "    </tr>\n",
       "    <tr>\n",
       "      <th>2</th>\n",
       "      <td>17050275</td>\n",
       "      <td>BURGLARY AUTO</td>\n",
       "      <td>08/24/2017 12:00:00 AM</td>\n",
       "      <td>18:30</td>\n",
       "      <td>BURGLARY - VEHICLE</td>\n",
       "      <td>4</td>\n",
       "      <td>08/29/2017 08:28:06 AM</td>\n",
       "      <td>200 UNIVERSITY AVE\\nBerkeley, CA\\n(37.865491, ...</td>\n",
       "      <td>200 UNIVERSITY AVE</td>\n",
       "      <td>Berkeley</td>\n",
       "      <td>CA</td>\n",
       "      <td>Thursday</td>\n",
       "      <td>UNIVERSITY AVE</td>\n",
       "      <td>18</td>\n",
       "    </tr>\n",
       "    <tr>\n",
       "      <th>3</th>\n",
       "      <td>17019145</td>\n",
       "      <td>GUN/WEAPON</td>\n",
       "      <td>04/06/2017 12:00:00 AM</td>\n",
       "      <td>17:30</td>\n",
       "      <td>WEAPONS OFFENSE</td>\n",
       "      <td>4</td>\n",
       "      <td>08/29/2017 08:27:59 AM</td>\n",
       "      <td>1900 SEVENTH ST\\nBerkeley, CA\\n(37.869318, -12...</td>\n",
       "      <td>1900 SEVENTH ST</td>\n",
       "      <td>Berkeley</td>\n",
       "      <td>CA</td>\n",
       "      <td>Thursday</td>\n",
       "      <td>SEVENTH ST</td>\n",
       "      <td>17</td>\n",
       "    </tr>\n",
       "    <tr>\n",
       "      <th>4</th>\n",
       "      <td>17044993</td>\n",
       "      <td>VEHICLE STOLEN</td>\n",
       "      <td>08/01/2017 12:00:00 AM</td>\n",
       "      <td>18:00</td>\n",
       "      <td>MOTOR VEHICLE THEFT</td>\n",
       "      <td>2</td>\n",
       "      <td>08/29/2017 08:28:05 AM</td>\n",
       "      <td>100 PARKSIDE DR\\nBerkeley, CA\\n(37.854247, -12...</td>\n",
       "      <td>100 PARKSIDE DR</td>\n",
       "      <td>Berkeley</td>\n",
       "      <td>CA</td>\n",
       "      <td>Tuesday</td>\n",
       "      <td>PARKSIDE DR</td>\n",
       "      <td>18</td>\n",
       "    </tr>\n",
       "    <tr>\n",
       "      <th>5</th>\n",
       "      <td>17037319</td>\n",
       "      <td>BURGLARY RESIDENTIAL</td>\n",
       "      <td>06/28/2017 12:00:00 AM</td>\n",
       "      <td>12:00</td>\n",
       "      <td>BURGLARY - RESIDENTIAL</td>\n",
       "      <td>3</td>\n",
       "      <td>08/29/2017 08:28:03 AM</td>\n",
       "      <td>1500 PRINCE ST\\nBerkeley, CA\\n(37.851503, -122...</td>\n",
       "      <td>1500 PRINCE ST</td>\n",
       "      <td>Berkeley</td>\n",
       "      <td>CA</td>\n",
       "      <td>Wednesday</td>\n",
       "      <td>PRINCE ST</td>\n",
       "      <td>12</td>\n",
       "    </tr>\n",
       "    <tr>\n",
       "      <th>6</th>\n",
       "      <td>17030791</td>\n",
       "      <td>BURGLARY RESIDENTIAL</td>\n",
       "      <td>05/30/2017 12:00:00 AM</td>\n",
       "      <td>08:45</td>\n",
       "      <td>BURGLARY - RESIDENTIAL</td>\n",
       "      <td>2</td>\n",
       "      <td>08/29/2017 08:28:00 AM</td>\n",
       "      <td>300 MENLO PL\\nBerkeley, CA\\n</td>\n",
       "      <td>300 MENLO PL</td>\n",
       "      <td>Berkeley</td>\n",
       "      <td>CA</td>\n",
       "      <td>Tuesday</td>\n",
       "      <td>MENLO PL</td>\n",
       "      <td>8</td>\n",
       "    </tr>\n",
       "    <tr>\n",
       "      <th>7</th>\n",
       "      <td>17091066</td>\n",
       "      <td>BURGLARY AUTO</td>\n",
       "      <td>05/29/2017 12:00:00 AM</td>\n",
       "      <td>17:00</td>\n",
       "      <td>BURGLARY - VEHICLE</td>\n",
       "      <td>1</td>\n",
       "      <td>08/29/2017 08:28:01 AM</td>\n",
       "      <td>2317 SHATTUCK AVE\\nBerkeley, CA\\n(37.867326, -...</td>\n",
       "      <td>2317 SHATTUCK AVE</td>\n",
       "      <td>Berkeley</td>\n",
       "      <td>CA</td>\n",
       "      <td>Monday</td>\n",
       "      <td>SHATTUCK AVE</td>\n",
       "      <td>17</td>\n",
       "    </tr>\n",
       "    <tr>\n",
       "      <th>8</th>\n",
       "      <td>17031395</td>\n",
       "      <td>VANDALISM</td>\n",
       "      <td>06/01/2017 12:00:00 AM</td>\n",
       "      <td>20:00</td>\n",
       "      <td>VANDALISM</td>\n",
       "      <td>4</td>\n",
       "      <td>08/29/2017 08:28:00 AM</td>\n",
       "      <td>ACTON STREET &amp;amp; PARKER ST\\nBerkeley, CA\\n(3...</td>\n",
       "      <td>ACTON STREET &amp; PARKER ST</td>\n",
       "      <td>Berkeley</td>\n",
       "      <td>CA</td>\n",
       "      <td>Thursday</td>\n",
       "      <td>ACTON STREET</td>\n",
       "      <td>20</td>\n",
       "    </tr>\n",
       "    <tr>\n",
       "      <th>9</th>\n",
       "      <td>17041467</td>\n",
       "      <td>DISTURBANCE</td>\n",
       "      <td>07/17/2017 12:00:00 AM</td>\n",
       "      <td>01:30</td>\n",
       "      <td>DISORDERLY CONDUCT</td>\n",
       "      <td>1</td>\n",
       "      <td>08/29/2017 08:28:04 AM</td>\n",
       "      <td>2100 SEVENTH ST\\nBerkeley, CA\\n(37.866936, -12...</td>\n",
       "      <td>2100 SEVENTH ST</td>\n",
       "      <td>Berkeley</td>\n",
       "      <td>CA</td>\n",
       "      <td>Monday</td>\n",
       "      <td>SEVENTH ST</td>\n",
       "      <td>1</td>\n",
       "    </tr>\n",
       "    <tr>\n",
       "      <th>10</th>\n",
       "      <td>17090841</td>\n",
       "      <td>THEFT MISD. (UNDER $950)</td>\n",
       "      <td>04/26/2017 12:00:00 AM</td>\n",
       "      <td>15:00</td>\n",
       "      <td>LARCENY</td>\n",
       "      <td>3</td>\n",
       "      <td>08/29/2017 08:28:00 AM</td>\n",
       "      <td>2500 COLLEGE AVE\\nBerkeley, CA\\n(37.865711, -1...</td>\n",
       "      <td>2500 COLLEGE AVE</td>\n",
       "      <td>Berkeley</td>\n",
       "      <td>CA</td>\n",
       "      <td>Wednesday</td>\n",
       "      <td>COLLEGE AVE</td>\n",
       "      <td>15</td>\n",
       "    </tr>\n",
       "    <tr>\n",
       "      <th>11</th>\n",
       "      <td>17038302</td>\n",
       "      <td>BURGLARY AUTO</td>\n",
       "      <td>07/02/2017 12:00:00 AM</td>\n",
       "      <td>22:00</td>\n",
       "      <td>BURGLARY - VEHICLE</td>\n",
       "      <td>0</td>\n",
       "      <td>08/29/2017 08:28:03 AM</td>\n",
       "      <td>BOWDITCH STREET &amp;amp; CHANNING WAY\\nBerkeley, ...</td>\n",
       "      <td>BOWDITCH STREET &amp; CHANNING WAY</td>\n",
       "      <td>Berkeley</td>\n",
       "      <td>CA</td>\n",
       "      <td>Sunday</td>\n",
       "      <td>BOWDITCH STREET</td>\n",
       "      <td>22</td>\n",
       "    </tr>\n",
       "    <tr>\n",
       "      <th>12</th>\n",
       "      <td>17018627</td>\n",
       "      <td>THEFT FROM AUTO</td>\n",
       "      <td>03/28/2017 12:00:00 AM</td>\n",
       "      <td>12:00</td>\n",
       "      <td>LARCENY - FROM VEHICLE</td>\n",
       "      <td>2</td>\n",
       "      <td>08/29/2017 08:27:59 AM</td>\n",
       "      <td>2000 FRANCISCO ST\\nBerkeley, CA\\n(37.875391, -...</td>\n",
       "      <td>2000 FRANCISCO ST</td>\n",
       "      <td>Berkeley</td>\n",
       "      <td>CA</td>\n",
       "      <td>Tuesday</td>\n",
       "      <td>FRANCISCO ST</td>\n",
       "      <td>12</td>\n",
       "    </tr>\n",
       "    <tr>\n",
       "      <th>13</th>\n",
       "      <td>17046489</td>\n",
       "      <td>DOMESTIC VIOLENCE</td>\n",
       "      <td>08/08/2017 12:00:00 AM</td>\n",
       "      <td>21:00</td>\n",
       "      <td>FAMILY OFFENSE</td>\n",
       "      <td>2</td>\n",
       "      <td>08/29/2017 08:28:05 AM</td>\n",
       "      <td>2100 ASHBY AVE\\nBerkeley, CA\\n(37.855293, -122...</td>\n",
       "      <td>2100 ASHBY AVE</td>\n",
       "      <td>Berkeley</td>\n",
       "      <td>CA</td>\n",
       "      <td>Tuesday</td>\n",
       "      <td>ASHBY AVE</td>\n",
       "      <td>21</td>\n",
       "    </tr>\n",
       "    <tr>\n",
       "      <th>14</th>\n",
       "      <td>17090794</td>\n",
       "      <td>THEFT MISD. (UNDER $950)</td>\n",
       "      <td>04/20/2017 12:00:00 AM</td>\n",
       "      <td>12:00</td>\n",
       "      <td>LARCENY</td>\n",
       "      <td>4</td>\n",
       "      <td>08/29/2017 08:28:00 AM</td>\n",
       "      <td>2100 EMERSON ST\\nBerkeley, CA\\n(37.854536, -12...</td>\n",
       "      <td>2100 EMERSON ST</td>\n",
       "      <td>Berkeley</td>\n",
       "      <td>CA</td>\n",
       "      <td>Thursday</td>\n",
       "      <td>EMERSON ST</td>\n",
       "      <td>12</td>\n",
       "    </tr>\n",
       "    <tr>\n",
       "      <th>15</th>\n",
       "      <td>17014095</td>\n",
       "      <td>THEFT FELONY (OVER $950)</td>\n",
       "      <td>03/13/2017 12:00:00 AM</td>\n",
       "      <td>16:45</td>\n",
       "      <td>LARCENY</td>\n",
       "      <td>1</td>\n",
       "      <td>08/29/2017 08:27:58 AM</td>\n",
       "      <td>SHATTUCK AVENUE &amp;amp; ALLSTON WAY\\nBerkeley, C...</td>\n",
       "      <td>SHATTUCK AVENUE &amp; ALLSTON WAY</td>\n",
       "      <td>Berkeley</td>\n",
       "      <td>CA</td>\n",
       "      <td>Monday</td>\n",
       "      <td>SHATTUCK AVENUE</td>\n",
       "      <td>16</td>\n",
       "    </tr>\n",
       "    <tr>\n",
       "      <th>16</th>\n",
       "      <td>17016587</td>\n",
       "      <td>ALCOHOL OFFENSE</td>\n",
       "      <td>03/25/2017 12:00:00 AM</td>\n",
       "      <td>00:55</td>\n",
       "      <td>LIQUOR LAW VIOLATION</td>\n",
       "      <td>6</td>\n",
       "      <td>08/29/2017 08:27:59 AM</td>\n",
       "      <td>UNIVERSITY AVENUE &amp;amp; GRANT ST\\nBerkeley, CA...</td>\n",
       "      <td>UNIVERSITY AVENUE &amp; GRANT ST</td>\n",
       "      <td>Berkeley</td>\n",
       "      <td>CA</td>\n",
       "      <td>Saturday</td>\n",
       "      <td>UNIVERSITY AVENUE</td>\n",
       "      <td>0</td>\n",
       "    </tr>\n",
       "    <tr>\n",
       "      <th>17</th>\n",
       "      <td>17049346</td>\n",
       "      <td>THEFT MISD. (UNDER $950)</td>\n",
       "      <td>08/20/2017 12:00:00 AM</td>\n",
       "      <td>23:20</td>\n",
       "      <td>LARCENY</td>\n",
       "      <td>0</td>\n",
       "      <td>08/29/2017 08:28:05 AM</td>\n",
       "      <td>2900 CHANNING WAY\\nBerkeley, CA\\n(37.867948, -...</td>\n",
       "      <td>2900 CHANNING WAY</td>\n",
       "      <td>Berkeley</td>\n",
       "      <td>CA</td>\n",
       "      <td>Sunday</td>\n",
       "      <td>CHANNING WAY</td>\n",
       "      <td>23</td>\n",
       "    </tr>\n",
       "    <tr>\n",
       "      <th>18</th>\n",
       "      <td>17014188</td>\n",
       "      <td>ALCOHOL OFFENSE</td>\n",
       "      <td>03/11/2017 12:00:00 AM</td>\n",
       "      <td>18:30</td>\n",
       "      <td>LIQUOR LAW VIOLATION</td>\n",
       "      <td>6</td>\n",
       "      <td>08/29/2017 08:27:59 AM</td>\n",
       "      <td>2500 DURANT AVE\\nBerkeley, CA\\n(37.867852, -12...</td>\n",
       "      <td>2500 DURANT AVE</td>\n",
       "      <td>Berkeley</td>\n",
       "      <td>CA</td>\n",
       "      <td>Saturday</td>\n",
       "      <td>DURANT AVE</td>\n",
       "      <td>18</td>\n",
       "    </tr>\n",
       "    <tr>\n",
       "      <th>19</th>\n",
       "      <td>17045903</td>\n",
       "      <td>MISSING JUVENILE</td>\n",
       "      <td>08/04/2017 12:00:00 AM</td>\n",
       "      <td>12:00</td>\n",
       "      <td>MISSING PERSON</td>\n",
       "      <td>5</td>\n",
       "      <td>08/29/2017 08:28:05 AM</td>\n",
       "      <td>1200 FRANCISCO ST\\nBerkeley, CA\\n(37.87304, -1...</td>\n",
       "      <td>1200 FRANCISCO ST</td>\n",
       "      <td>Berkeley</td>\n",
       "      <td>CA</td>\n",
       "      <td>Friday</td>\n",
       "      <td>FRANCISCO ST</td>\n",
       "      <td>12</td>\n",
       "    </tr>\n",
       "    <tr>\n",
       "      <th>20</th>\n",
       "      <td>17034383</td>\n",
       "      <td>DISTURBANCE</td>\n",
       "      <td>06/15/2017 12:00:00 AM</td>\n",
       "      <td>14:30</td>\n",
       "      <td>DISORDERLY CONDUCT</td>\n",
       "      <td>4</td>\n",
       "      <td>08/29/2017 08:28:03 AM</td>\n",
       "      <td>STUART STREET &amp;amp; ADELINE ST\\nBerkeley, CA\\n...</td>\n",
       "      <td>STUART STREET &amp; ADELINE ST</td>\n",
       "      <td>Berkeley</td>\n",
       "      <td>CA</td>\n",
       "      <td>Thursday</td>\n",
       "      <td>STUART STREET</td>\n",
       "      <td>14</td>\n",
       "    </tr>\n",
       "    <tr>\n",
       "      <th>21</th>\n",
       "      <td>17026118</td>\n",
       "      <td>BURGLARY AUTO</td>\n",
       "      <td>05/08/2017 12:00:00 AM</td>\n",
       "      <td>19:00</td>\n",
       "      <td>BURGLARY - VEHICLE</td>\n",
       "      <td>1</td>\n",
       "      <td>08/29/2017 08:28:00 AM</td>\n",
       "      <td>2400 MCGEE AVE\\nBerkeley, CA\\n(37.864397, -122...</td>\n",
       "      <td>2400 MCGEE AVE</td>\n",
       "      <td>Berkeley</td>\n",
       "      <td>CA</td>\n",
       "      <td>Monday</td>\n",
       "      <td>MCGEE AVE</td>\n",
       "      <td>19</td>\n",
       "    </tr>\n",
       "    <tr>\n",
       "      <th>22</th>\n",
       "      <td>17090933</td>\n",
       "      <td>BURGLARY AUTO</td>\n",
       "      <td>05/10/2017 12:00:00 AM</td>\n",
       "      <td>16:30</td>\n",
       "      <td>BURGLARY - VEHICLE</td>\n",
       "      <td>3</td>\n",
       "      <td>08/29/2017 08:28:00 AM</td>\n",
       "      <td>100 SEAWALL DR\\nBerkeley, CA\\n(37.863611, -122...</td>\n",
       "      <td>100 SEAWALL DR</td>\n",
       "      <td>Berkeley</td>\n",
       "      <td>CA</td>\n",
       "      <td>Wednesday</td>\n",
       "      <td>SEAWALL DR</td>\n",
       "      <td>16</td>\n",
       "    </tr>\n",
       "    <tr>\n",
       "      <th>23</th>\n",
       "      <td>17017335</td>\n",
       "      <td>ROBBERY</td>\n",
       "      <td>03/28/2017 12:00:00 AM</td>\n",
       "      <td>16:29</td>\n",
       "      <td>ROBBERY</td>\n",
       "      <td>2</td>\n",
       "      <td>08/29/2017 08:27:59 AM</td>\n",
       "      <td>2000 WOOLSEY ST\\nBerkeley, CA\\n(37.852174, -12...</td>\n",
       "      <td>2000 WOOLSEY ST</td>\n",
       "      <td>Berkeley</td>\n",
       "      <td>CA</td>\n",
       "      <td>Tuesday</td>\n",
       "      <td>WOOLSEY ST</td>\n",
       "      <td>16</td>\n",
       "    </tr>\n",
       "    <tr>\n",
       "      <th>24</th>\n",
       "      <td>17091319</td>\n",
       "      <td>THEFT MISD. (UNDER $950)</td>\n",
       "      <td>07/09/2017 12:00:00 AM</td>\n",
       "      <td>04:15</td>\n",
       "      <td>LARCENY</td>\n",
       "      <td>0</td>\n",
       "      <td>08/29/2017 08:28:04 AM</td>\n",
       "      <td>2100 RUSSELL ST\\nBerkeley, CA\\n(37.856719, -12...</td>\n",
       "      <td>2100 RUSSELL ST</td>\n",
       "      <td>Berkeley</td>\n",
       "      <td>CA</td>\n",
       "      <td>Sunday</td>\n",
       "      <td>RUSSELL ST</td>\n",
       "      <td>4</td>\n",
       "    </tr>\n",
       "    <tr>\n",
       "      <th>25</th>\n",
       "      <td>17091356</td>\n",
       "      <td>VANDALISM</td>\n",
       "      <td>07/13/2017 12:00:00 AM</td>\n",
       "      <td>21:30</td>\n",
       "      <td>VANDALISM</td>\n",
       "      <td>4</td>\n",
       "      <td>08/29/2017 08:28:04 AM</td>\n",
       "      <td>3000 DOHR ST\\nBerkeley, CA\\n(37.853221, -122.2...</td>\n",
       "      <td>3000 DOHR ST</td>\n",
       "      <td>Berkeley</td>\n",
       "      <td>CA</td>\n",
       "      <td>Thursday</td>\n",
       "      <td>DOHR ST</td>\n",
       "      <td>21</td>\n",
       "    </tr>\n",
       "    <tr>\n",
       "      <th>26</th>\n",
       "      <td>17091255</td>\n",
       "      <td>IDENTITY THEFT</td>\n",
       "      <td>06/29/2017 12:00:00 AM</td>\n",
       "      <td>13:10</td>\n",
       "      <td>FRAUD</td>\n",
       "      <td>4</td>\n",
       "      <td>08/29/2017 08:28:03 AM</td>\n",
       "      <td>10 BRIDGE RD\\nBerkeley, CA\\n(37.855584, -122.2...</td>\n",
       "      <td>10 BRIDGE RD</td>\n",
       "      <td>Berkeley</td>\n",
       "      <td>CA</td>\n",
       "      <td>Thursday</td>\n",
       "      <td>BRIDGE RD</td>\n",
       "      <td>13</td>\n",
       "    </tr>\n",
       "    <tr>\n",
       "      <th>27</th>\n",
       "      <td>17044238</td>\n",
       "      <td>DISTURBANCE</td>\n",
       "      <td>07/30/2017 12:00:00 AM</td>\n",
       "      <td>01:16</td>\n",
       "      <td>DISORDERLY CONDUCT</td>\n",
       "      <td>0</td>\n",
       "      <td>08/29/2017 08:28:05 AM</td>\n",
       "      <td>TELEGRAPH AVENUE &amp;amp; DURANT AVE\\nBerkeley, C...</td>\n",
       "      <td>TELEGRAPH AVENUE &amp; DURANT AVE</td>\n",
       "      <td>Berkeley</td>\n",
       "      <td>CA</td>\n",
       "      <td>Sunday</td>\n",
       "      <td>TELEGRAPH AVENUE</td>\n",
       "      <td>1</td>\n",
       "    </tr>\n",
       "    <tr>\n",
       "      <th>28</th>\n",
       "      <td>17043329</td>\n",
       "      <td>THEFT FELONY (OVER $950)</td>\n",
       "      <td>07/25/2017 12:00:00 AM</td>\n",
       "      <td>16:00</td>\n",
       "      <td>LARCENY</td>\n",
       "      <td>2</td>\n",
       "      <td>08/29/2017 08:28:05 AM</td>\n",
       "      <td>1900 SHATTUCK AVE\\nBerkeley, CA\\n(37.873687, -...</td>\n",
       "      <td>1900 SHATTUCK AVE</td>\n",
       "      <td>Berkeley</td>\n",
       "      <td>CA</td>\n",
       "      <td>Tuesday</td>\n",
       "      <td>SHATTUCK AVE</td>\n",
       "      <td>16</td>\n",
       "    </tr>\n",
       "    <tr>\n",
       "      <th>29</th>\n",
       "      <td>17012577</td>\n",
       "      <td>BURGLARY AUTO</td>\n",
       "      <td>03/06/2017 12:00:00 AM</td>\n",
       "      <td>05:56</td>\n",
       "      <td>BURGLARY - VEHICLE</td>\n",
       "      <td>1</td>\n",
       "      <td>08/29/2017 08:27:58 AM</td>\n",
       "      <td>COLUSA AVENUE &amp;amp; SOLANO AVE\\nBerkeley, CA\\n...</td>\n",
       "      <td>COLUSA AVENUE &amp; SOLANO AVE</td>\n",
       "      <td>Berkeley</td>\n",
       "      <td>CA</td>\n",
       "      <td>Monday</td>\n",
       "      <td>COLUSA AVENUE</td>\n",
       "      <td>5</td>\n",
       "    </tr>\n",
       "    <tr>\n",
       "      <th>...</th>\n",
       "      <td>...</td>\n",
       "      <td>...</td>\n",
       "      <td>...</td>\n",
       "      <td>...</td>\n",
       "      <td>...</td>\n",
       "      <td>...</td>\n",
       "      <td>...</td>\n",
       "      <td>...</td>\n",
       "      <td>...</td>\n",
       "      <td>...</td>\n",
       "      <td>...</td>\n",
       "      <td>...</td>\n",
       "      <td>...</td>\n",
       "      <td>...</td>\n",
       "    </tr>\n",
       "    <tr>\n",
       "      <th>5478</th>\n",
       "      <td>17025145</td>\n",
       "      <td>DOMESTIC VIOLENCE</td>\n",
       "      <td>05/04/2017 12:00:00 AM</td>\n",
       "      <td>19:00</td>\n",
       "      <td>FAMILY OFFENSE</td>\n",
       "      <td>4</td>\n",
       "      <td>08/29/2017 08:28:00 AM</td>\n",
       "      <td>SAN PABLO AVENUE &amp;amp; ASHBY AVE\\nBerkeley, CA...</td>\n",
       "      <td>SAN PABLO AVENUE &amp; ASHBY AVE</td>\n",
       "      <td>Berkeley</td>\n",
       "      <td>CA</td>\n",
       "      <td>Thursday</td>\n",
       "      <td>SAN PABLO AVENUE</td>\n",
       "      <td>19</td>\n",
       "    </tr>\n",
       "    <tr>\n",
       "      <th>5479</th>\n",
       "      <td>17048721</td>\n",
       "      <td>2ND RESPONSE</td>\n",
       "      <td>08/18/2017 12:00:00 AM</td>\n",
       "      <td>23:19</td>\n",
       "      <td>NOISE VIOLATION</td>\n",
       "      <td>5</td>\n",
       "      <td>08/29/2017 08:28:05 AM</td>\n",
       "      <td>2700 CHANNING WAY\\nBerkeley, CA\\n(37.867491, -...</td>\n",
       "      <td>2700 CHANNING WAY</td>\n",
       "      <td>Berkeley</td>\n",
       "      <td>CA</td>\n",
       "      <td>Friday</td>\n",
       "      <td>CHANNING WAY</td>\n",
       "      <td>23</td>\n",
       "    </tr>\n",
       "    <tr>\n",
       "      <th>5480</th>\n",
       "      <td>17021604</td>\n",
       "      <td>IDENTITY THEFT</td>\n",
       "      <td>03/31/2017 12:00:00 AM</td>\n",
       "      <td>00:00</td>\n",
       "      <td>FRAUD</td>\n",
       "      <td>5</td>\n",
       "      <td>08/29/2017 08:28:00 AM</td>\n",
       "      <td>100 MONTROSE RD\\nBerkeley, CA\\n(37.896218, -12...</td>\n",
       "      <td>100 MONTROSE RD</td>\n",
       "      <td>Berkeley</td>\n",
       "      <td>CA</td>\n",
       "      <td>Friday</td>\n",
       "      <td>MONTROSE RD</td>\n",
       "      <td>0</td>\n",
       "    </tr>\n",
       "    <tr>\n",
       "      <th>5481</th>\n",
       "      <td>17036894</td>\n",
       "      <td>BURGLARY AUTO</td>\n",
       "      <td>06/26/2017 12:00:00 AM</td>\n",
       "      <td>14:26</td>\n",
       "      <td>BURGLARY - VEHICLE</td>\n",
       "      <td>1</td>\n",
       "      <td>08/29/2017 08:28:03 AM</td>\n",
       "      <td>2000 KITTREDGE ST\\nBerkeley, CA\\n(37.868204, -...</td>\n",
       "      <td>2000 KITTREDGE ST</td>\n",
       "      <td>Berkeley</td>\n",
       "      <td>CA</td>\n",
       "      <td>Monday</td>\n",
       "      <td>KITTREDGE ST</td>\n",
       "      <td>14</td>\n",
       "    </tr>\n",
       "    <tr>\n",
       "      <th>5482</th>\n",
       "      <td>17038620</td>\n",
       "      <td>DISTURBANCE</td>\n",
       "      <td>07/04/2017 12:00:00 AM</td>\n",
       "      <td>17:50</td>\n",
       "      <td>DISORDERLY CONDUCT</td>\n",
       "      <td>2</td>\n",
       "      <td>08/29/2017 08:28:03 AM</td>\n",
       "      <td>1500 FAIRVIEW ST\\nBerkeley, CA\\n(37.849747, -1...</td>\n",
       "      <td>1500 FAIRVIEW ST</td>\n",
       "      <td>Berkeley</td>\n",
       "      <td>CA</td>\n",
       "      <td>Tuesday</td>\n",
       "      <td>FAIRVIEW ST</td>\n",
       "      <td>17</td>\n",
       "    </tr>\n",
       "    <tr>\n",
       "      <th>5483</th>\n",
       "      <td>17025429</td>\n",
       "      <td>NARCOTICS</td>\n",
       "      <td>05/06/2017 12:00:00 AM</td>\n",
       "      <td>00:08</td>\n",
       "      <td>DRUG VIOLATION</td>\n",
       "      <td>6</td>\n",
       "      <td>08/29/2017 08:28:00 AM</td>\n",
       "      <td>HILLEGASS AVENUE &amp;amp; PARKER ST\\nBerkeley, CA...</td>\n",
       "      <td>HILLEGASS AVENUE &amp; PARKER ST</td>\n",
       "      <td>Berkeley</td>\n",
       "      <td>CA</td>\n",
       "      <td>Saturday</td>\n",
       "      <td>HILLEGASS AVENUE</td>\n",
       "      <td>0</td>\n",
       "    </tr>\n",
       "    <tr>\n",
       "      <th>5484</th>\n",
       "      <td>17050170</td>\n",
       "      <td>THEFT MISD. (UNDER $950)</td>\n",
       "      <td>08/24/2017 12:00:00 AM</td>\n",
       "      <td>20:50</td>\n",
       "      <td>LARCENY</td>\n",
       "      <td>4</td>\n",
       "      <td>08/29/2017 08:28:06 AM</td>\n",
       "      <td>2600 TELEGRAPH AVE\\nBerkeley, CA\\n(37.862927, ...</td>\n",
       "      <td>2600 TELEGRAPH AVE</td>\n",
       "      <td>Berkeley</td>\n",
       "      <td>CA</td>\n",
       "      <td>Thursday</td>\n",
       "      <td>TELEGRAPH AVE</td>\n",
       "      <td>20</td>\n",
       "    </tr>\n",
       "    <tr>\n",
       "      <th>5485</th>\n",
       "      <td>17039033</td>\n",
       "      <td>ASSAULT/BATTERY FEL.</td>\n",
       "      <td>07/06/2017 12:00:00 AM</td>\n",
       "      <td>13:55</td>\n",
       "      <td>ASSAULT</td>\n",
       "      <td>4</td>\n",
       "      <td>08/29/2017 08:28:04 AM</td>\n",
       "      <td>1800 UNIVERSITY AVE\\nBerkeley, CA\\n(37.871246,...</td>\n",
       "      <td>1800 UNIVERSITY AVE</td>\n",
       "      <td>Berkeley</td>\n",
       "      <td>CA</td>\n",
       "      <td>Thursday</td>\n",
       "      <td>UNIVERSITY AVE</td>\n",
       "      <td>13</td>\n",
       "    </tr>\n",
       "    <tr>\n",
       "      <th>5486</th>\n",
       "      <td>17019827</td>\n",
       "      <td>ARSON</td>\n",
       "      <td>04/09/2017 12:00:00 AM</td>\n",
       "      <td>18:41</td>\n",
       "      <td>ARSON</td>\n",
       "      <td>0</td>\n",
       "      <td>08/29/2017 08:27:59 AM</td>\n",
       "      <td>2200 NINTH ST\\nBerkeley, CA\\n(37.865875, -122....</td>\n",
       "      <td>2200 NINTH ST</td>\n",
       "      <td>Berkeley</td>\n",
       "      <td>CA</td>\n",
       "      <td>Sunday</td>\n",
       "      <td>NINTH ST</td>\n",
       "      <td>18</td>\n",
       "    </tr>\n",
       "    <tr>\n",
       "      <th>5487</th>\n",
       "      <td>17018238</td>\n",
       "      <td>BURGLARY RESIDENTIAL</td>\n",
       "      <td>04/01/2017 12:00:00 AM</td>\n",
       "      <td>15:30</td>\n",
       "      <td>BURGLARY - RESIDENTIAL</td>\n",
       "      <td>6</td>\n",
       "      <td>08/29/2017 08:27:59 AM</td>\n",
       "      <td>1400 SIXTY-SIXTH ST\\nBerkeley, CA\\n</td>\n",
       "      <td>1400 SIXTY-SIXTH ST</td>\n",
       "      <td>Berkeley</td>\n",
       "      <td>CA</td>\n",
       "      <td>Saturday</td>\n",
       "      <td>SIXTY-SIXTH ST</td>\n",
       "      <td>15</td>\n",
       "    </tr>\n",
       "    <tr>\n",
       "      <th>5488</th>\n",
       "      <td>17040083</td>\n",
       "      <td>BURGLARY RESIDENTIAL</td>\n",
       "      <td>07/11/2017 12:00:00 AM</td>\n",
       "      <td>04:45</td>\n",
       "      <td>BURGLARY - RESIDENTIAL</td>\n",
       "      <td>2</td>\n",
       "      <td>08/29/2017 08:28:04 AM</td>\n",
       "      <td>2500 BENVENUE AVE\\nBerkeley, CA\\n(37.865535, -...</td>\n",
       "      <td>2500 BENVENUE AVE</td>\n",
       "      <td>Berkeley</td>\n",
       "      <td>CA</td>\n",
       "      <td>Tuesday</td>\n",
       "      <td>BENVENUE AVE</td>\n",
       "      <td>4</td>\n",
       "    </tr>\n",
       "    <tr>\n",
       "      <th>5489</th>\n",
       "      <td>17029497</td>\n",
       "      <td>THEFT MISD. (UNDER $950)</td>\n",
       "      <td>05/24/2017 12:00:00 AM</td>\n",
       "      <td>18:20</td>\n",
       "      <td>LARCENY</td>\n",
       "      <td>3</td>\n",
       "      <td>08/29/2017 08:28:00 AM</td>\n",
       "      <td>1800 BERKELEY WAY\\nBerkeley, CA\\n(37.872166, -...</td>\n",
       "      <td>1800 BERKELEY WAY</td>\n",
       "      <td>Berkeley</td>\n",
       "      <td>CA</td>\n",
       "      <td>Wednesday</td>\n",
       "      <td>BERKELEY WAY</td>\n",
       "      <td>18</td>\n",
       "    </tr>\n",
       "    <tr>\n",
       "      <th>5490</th>\n",
       "      <td>17040953</td>\n",
       "      <td>FRAUD/FORGERY</td>\n",
       "      <td>07/02/2017 12:00:00 AM</td>\n",
       "      <td>00:00</td>\n",
       "      <td>FRAUD</td>\n",
       "      <td>0</td>\n",
       "      <td>08/29/2017 08:28:05 AM</td>\n",
       "      <td>1700 OXFORD ST\\nBerkeley, CA\\n(37.876881, -122...</td>\n",
       "      <td>1700 OXFORD ST</td>\n",
       "      <td>Berkeley</td>\n",
       "      <td>CA</td>\n",
       "      <td>Sunday</td>\n",
       "      <td>OXFORD ST</td>\n",
       "      <td>0</td>\n",
       "    </tr>\n",
       "    <tr>\n",
       "      <th>5491</th>\n",
       "      <td>17030294</td>\n",
       "      <td>ROBBERY</td>\n",
       "      <td>05/27/2017 12:00:00 AM</td>\n",
       "      <td>22:48</td>\n",
       "      <td>ROBBERY</td>\n",
       "      <td>6</td>\n",
       "      <td>08/29/2017 08:28:00 AM</td>\n",
       "      <td>1600 WOOLSEY ST\\nBerkeley, CA\\n(37.850899, -12...</td>\n",
       "      <td>1600 WOOLSEY ST</td>\n",
       "      <td>Berkeley</td>\n",
       "      <td>CA</td>\n",
       "      <td>Saturday</td>\n",
       "      <td>WOOLSEY ST</td>\n",
       "      <td>22</td>\n",
       "    </tr>\n",
       "    <tr>\n",
       "      <th>5492</th>\n",
       "      <td>17032287</td>\n",
       "      <td>ASSAULT/BATTERY FEL.</td>\n",
       "      <td>06/06/2017 12:00:00 AM</td>\n",
       "      <td>05:15</td>\n",
       "      <td>ASSAULT</td>\n",
       "      <td>2</td>\n",
       "      <td>08/29/2017 08:28:01 AM</td>\n",
       "      <td>2500 BANCROFT WAY\\nBerkeley, CA\\n(37.868722, -...</td>\n",
       "      <td>2500 BANCROFT WAY</td>\n",
       "      <td>Berkeley</td>\n",
       "      <td>CA</td>\n",
       "      <td>Tuesday</td>\n",
       "      <td>BANCROFT WAY</td>\n",
       "      <td>5</td>\n",
       "    </tr>\n",
       "    <tr>\n",
       "      <th>5493</th>\n",
       "      <td>17041600</td>\n",
       "      <td>BRANDISHING</td>\n",
       "      <td>07/17/2017 12:00:00 AM</td>\n",
       "      <td>18:38</td>\n",
       "      <td>WEAPONS OFFENSE</td>\n",
       "      <td>1</td>\n",
       "      <td>08/29/2017 08:28:05 AM</td>\n",
       "      <td>1800 SAN PABLO AVE\\nBerkeley, CA\\n(37.871402, ...</td>\n",
       "      <td>1800 SAN PABLO AVE</td>\n",
       "      <td>Berkeley</td>\n",
       "      <td>CA</td>\n",
       "      <td>Monday</td>\n",
       "      <td>SAN PABLO AVE</td>\n",
       "      <td>18</td>\n",
       "    </tr>\n",
       "    <tr>\n",
       "      <th>5494</th>\n",
       "      <td>17029206</td>\n",
       "      <td>ASSAULT/BATTERY MISD.</td>\n",
       "      <td>05/23/2017 12:00:00 AM</td>\n",
       "      <td>13:25</td>\n",
       "      <td>ASSAULT</td>\n",
       "      <td>2</td>\n",
       "      <td>08/29/2017 08:28:00 AM</td>\n",
       "      <td>2500 TELEGRAPH AVE\\nBerkeley, CA\\n(37.865009, ...</td>\n",
       "      <td>2500 TELEGRAPH AVE</td>\n",
       "      <td>Berkeley</td>\n",
       "      <td>CA</td>\n",
       "      <td>Tuesday</td>\n",
       "      <td>TELEGRAPH AVE</td>\n",
       "      <td>13</td>\n",
       "    </tr>\n",
       "    <tr>\n",
       "      <th>5495</th>\n",
       "      <td>17049877</td>\n",
       "      <td>BURGLARY AUTO</td>\n",
       "      <td>08/23/2017 12:00:00 AM</td>\n",
       "      <td>14:40</td>\n",
       "      <td>BURGLARY - VEHICLE</td>\n",
       "      <td>3</td>\n",
       "      <td>08/29/2017 08:28:05 AM</td>\n",
       "      <td>2500 TELEGRAPH AVE\\nBerkeley, CA\\n(37.865009, ...</td>\n",
       "      <td>2500 TELEGRAPH AVE</td>\n",
       "      <td>Berkeley</td>\n",
       "      <td>CA</td>\n",
       "      <td>Wednesday</td>\n",
       "      <td>TELEGRAPH AVE</td>\n",
       "      <td>14</td>\n",
       "    </tr>\n",
       "    <tr>\n",
       "      <th>5496</th>\n",
       "      <td>17091181</td>\n",
       "      <td>BURGLARY AUTO</td>\n",
       "      <td>06/21/2017 12:00:00 AM</td>\n",
       "      <td>13:45</td>\n",
       "      <td>BURGLARY - VEHICLE</td>\n",
       "      <td>3</td>\n",
       "      <td>08/29/2017 08:28:02 AM</td>\n",
       "      <td>2300 FOURTH ST\\nBerkeley, CA\\n(37.862844, -122...</td>\n",
       "      <td>2300 FOURTH ST</td>\n",
       "      <td>Berkeley</td>\n",
       "      <td>CA</td>\n",
       "      <td>Wednesday</td>\n",
       "      <td>FOURTH ST</td>\n",
       "      <td>13</td>\n",
       "    </tr>\n",
       "    <tr>\n",
       "      <th>5497</th>\n",
       "      <td>17033201</td>\n",
       "      <td>DISTURBANCE</td>\n",
       "      <td>06/09/2017 12:00:00 AM</td>\n",
       "      <td>22:34</td>\n",
       "      <td>DISORDERLY CONDUCT</td>\n",
       "      <td>5</td>\n",
       "      <td>08/29/2017 08:28:01 AM</td>\n",
       "      <td>2300 COLLEGE AVE\\nBerkeley, CA\\n(37.868957, -1...</td>\n",
       "      <td>2300 COLLEGE AVE</td>\n",
       "      <td>Berkeley</td>\n",
       "      <td>CA</td>\n",
       "      <td>Friday</td>\n",
       "      <td>COLLEGE AVE</td>\n",
       "      <td>22</td>\n",
       "    </tr>\n",
       "    <tr>\n",
       "      <th>5498</th>\n",
       "      <td>17015458</td>\n",
       "      <td>NARCOTICS</td>\n",
       "      <td>03/20/2017 12:00:00 AM</td>\n",
       "      <td>01:02</td>\n",
       "      <td>DRUG VIOLATION</td>\n",
       "      <td>1</td>\n",
       "      <td>08/29/2017 08:27:59 AM</td>\n",
       "      <td>BONAR STREET &amp;amp; UNIVERSITY AVE\\nBerkeley, C...</td>\n",
       "      <td>BONAR STREET &amp; UNIVERSITY AVE</td>\n",
       "      <td>Berkeley</td>\n",
       "      <td>CA</td>\n",
       "      <td>Monday</td>\n",
       "      <td>BONAR STREET</td>\n",
       "      <td>1</td>\n",
       "    </tr>\n",
       "    <tr>\n",
       "      <th>5499</th>\n",
       "      <td>17036872</td>\n",
       "      <td>DISTURBANCE</td>\n",
       "      <td>06/26/2017 12:00:00 AM</td>\n",
       "      <td>11:45</td>\n",
       "      <td>DISORDERLY CONDUCT</td>\n",
       "      <td>1</td>\n",
       "      <td>08/29/2017 08:28:03 AM</td>\n",
       "      <td>1900 SHATTUCK AVE\\nBerkeley, CA\\n(37.873687, -...</td>\n",
       "      <td>1900 SHATTUCK AVE</td>\n",
       "      <td>Berkeley</td>\n",
       "      <td>CA</td>\n",
       "      <td>Monday</td>\n",
       "      <td>SHATTUCK AVE</td>\n",
       "      <td>11</td>\n",
       "    </tr>\n",
       "    <tr>\n",
       "      <th>5500</th>\n",
       "      <td>17036785</td>\n",
       "      <td>THEFT MISD. (UNDER $950)</td>\n",
       "      <td>06/25/2017 12:00:00 AM</td>\n",
       "      <td>22:20</td>\n",
       "      <td>LARCENY</td>\n",
       "      <td>0</td>\n",
       "      <td>08/29/2017 08:28:03 AM</td>\n",
       "      <td>1400 SHATTUCK AVE\\nBerkeley, CA\\n(37.881957, -...</td>\n",
       "      <td>1400 SHATTUCK AVE</td>\n",
       "      <td>Berkeley</td>\n",
       "      <td>CA</td>\n",
       "      <td>Sunday</td>\n",
       "      <td>SHATTUCK AVE</td>\n",
       "      <td>22</td>\n",
       "    </tr>\n",
       "    <tr>\n",
       "      <th>5501</th>\n",
       "      <td>17047247</td>\n",
       "      <td>BURGLARY AUTO</td>\n",
       "      <td>08/11/2017 12:00:00 AM</td>\n",
       "      <td>20:00</td>\n",
       "      <td>BURGLARY - VEHICLE</td>\n",
       "      <td>5</td>\n",
       "      <td>08/29/2017 08:28:05 AM</td>\n",
       "      <td>UNIVERSITY AVENUE &amp;amp; CHESTNUT ST\\nBerkeley,...</td>\n",
       "      <td>UNIVERSITY AVENUE &amp; CHESTNUT ST</td>\n",
       "      <td>Berkeley</td>\n",
       "      <td>CA</td>\n",
       "      <td>Friday</td>\n",
       "      <td>UNIVERSITY AVENUE</td>\n",
       "      <td>20</td>\n",
       "    </tr>\n",
       "    <tr>\n",
       "      <th>5502</th>\n",
       "      <td>17091276</td>\n",
       "      <td>VANDALISM</td>\n",
       "      <td>07/01/2017 12:00:00 AM</td>\n",
       "      <td>21:00</td>\n",
       "      <td>VANDALISM</td>\n",
       "      <td>6</td>\n",
       "      <td>08/29/2017 08:28:03 AM</td>\n",
       "      <td>1200 CARLOTTA AVE\\nBerkeley, CA\\n(37.884644, -...</td>\n",
       "      <td>1200 CARLOTTA AVE</td>\n",
       "      <td>Berkeley</td>\n",
       "      <td>CA</td>\n",
       "      <td>Saturday</td>\n",
       "      <td>CARLOTTA AVE</td>\n",
       "      <td>21</td>\n",
       "    </tr>\n",
       "    <tr>\n",
       "      <th>5503</th>\n",
       "      <td>17044461</td>\n",
       "      <td>BURGLARY AUTO</td>\n",
       "      <td>07/31/2017 12:00:00 AM</td>\n",
       "      <td>01:00</td>\n",
       "      <td>BURGLARY - VEHICLE</td>\n",
       "      <td>1</td>\n",
       "      <td>08/29/2017 08:28:05 AM</td>\n",
       "      <td>800 MENDOCINO AVE\\nBerkeley, CA\\n(37.893148, -...</td>\n",
       "      <td>800 MENDOCINO AVE</td>\n",
       "      <td>Berkeley</td>\n",
       "      <td>CA</td>\n",
       "      <td>Monday</td>\n",
       "      <td>MENDOCINO AVE</td>\n",
       "      <td>1</td>\n",
       "    </tr>\n",
       "    <tr>\n",
       "      <th>5504</th>\n",
       "      <td>17050771</td>\n",
       "      <td>NARCOTICS</td>\n",
       "      <td>08/27/2017 12:00:00 AM</td>\n",
       "      <td>02:00</td>\n",
       "      <td>DRUG VIOLATION</td>\n",
       "      <td>0</td>\n",
       "      <td>08/29/2017 08:28:06 AM</td>\n",
       "      <td>1700 UNIVERSITY AVE\\nBerkeley, CA\\n(37.870948,...</td>\n",
       "      <td>1700 UNIVERSITY AVE</td>\n",
       "      <td>Berkeley</td>\n",
       "      <td>CA</td>\n",
       "      <td>Sunday</td>\n",
       "      <td>UNIVERSITY AVE</td>\n",
       "      <td>2</td>\n",
       "    </tr>\n",
       "    <tr>\n",
       "      <th>5505</th>\n",
       "      <td>17018126</td>\n",
       "      <td>DISTURBANCE</td>\n",
       "      <td>04/01/2017 12:00:00 AM</td>\n",
       "      <td>12:22</td>\n",
       "      <td>DISORDERLY CONDUCT</td>\n",
       "      <td>6</td>\n",
       "      <td>08/29/2017 08:27:59 AM</td>\n",
       "      <td>1600 FAIRVIEW ST\\nBerkeley, CA\\n(37.850001, -1...</td>\n",
       "      <td>1600 FAIRVIEW ST</td>\n",
       "      <td>Berkeley</td>\n",
       "      <td>CA</td>\n",
       "      <td>Saturday</td>\n",
       "      <td>FAIRVIEW ST</td>\n",
       "      <td>12</td>\n",
       "    </tr>\n",
       "    <tr>\n",
       "      <th>5506</th>\n",
       "      <td>17090665</td>\n",
       "      <td>THEFT MISD. (UNDER $950)</td>\n",
       "      <td>04/01/2017 12:00:00 AM</td>\n",
       "      <td>12:00</td>\n",
       "      <td>LARCENY</td>\n",
       "      <td>6</td>\n",
       "      <td>08/29/2017 08:27:59 AM</td>\n",
       "      <td>2000 DELAWARE ST\\nBerkeley, CA\\n(37.874489, -1...</td>\n",
       "      <td>2000 DELAWARE ST</td>\n",
       "      <td>Berkeley</td>\n",
       "      <td>CA</td>\n",
       "      <td>Saturday</td>\n",
       "      <td>DELAWARE ST</td>\n",
       "      <td>12</td>\n",
       "    </tr>\n",
       "    <tr>\n",
       "      <th>5507</th>\n",
       "      <td>17049700</td>\n",
       "      <td>SEXUAL ASSAULT MISD.</td>\n",
       "      <td>08/22/2017 12:00:00 AM</td>\n",
       "      <td>20:02</td>\n",
       "      <td>SEX CRIME</td>\n",
       "      <td>2</td>\n",
       "      <td>08/29/2017 08:28:06 AM</td>\n",
       "      <td>2400 TELEGRAPH AVE\\nBerkeley, CA\\n(37.866761, ...</td>\n",
       "      <td>2400 TELEGRAPH AVE</td>\n",
       "      <td>Berkeley</td>\n",
       "      <td>CA</td>\n",
       "      <td>Tuesday</td>\n",
       "      <td>TELEGRAPH AVE</td>\n",
       "      <td>20</td>\n",
       "    </tr>\n",
       "  </tbody>\n",
       "</table>\n",
       "<p>5508 rows × 14 columns</p>\n",
       "</div>"
      ],
      "text/plain": [
       "        CASENO                   OFFENSE                 EVENTDT EVENTTM  \\\n",
       "0     17091420             BURGLARY AUTO  07/23/2017 12:00:00 AM   06:00   \n",
       "1     17020462         THEFT FROM PERSON  04/13/2017 12:00:00 AM   08:45   \n",
       "2     17050275             BURGLARY AUTO  08/24/2017 12:00:00 AM   18:30   \n",
       "3     17019145                GUN/WEAPON  04/06/2017 12:00:00 AM   17:30   \n",
       "4     17044993            VEHICLE STOLEN  08/01/2017 12:00:00 AM   18:00   \n",
       "5     17037319      BURGLARY RESIDENTIAL  06/28/2017 12:00:00 AM   12:00   \n",
       "6     17030791      BURGLARY RESIDENTIAL  05/30/2017 12:00:00 AM   08:45   \n",
       "7     17091066             BURGLARY AUTO  05/29/2017 12:00:00 AM   17:00   \n",
       "8     17031395                 VANDALISM  06/01/2017 12:00:00 AM   20:00   \n",
       "9     17041467               DISTURBANCE  07/17/2017 12:00:00 AM   01:30   \n",
       "10    17090841  THEFT MISD. (UNDER $950)  04/26/2017 12:00:00 AM   15:00   \n",
       "11    17038302             BURGLARY AUTO  07/02/2017 12:00:00 AM   22:00   \n",
       "12    17018627           THEFT FROM AUTO  03/28/2017 12:00:00 AM   12:00   \n",
       "13    17046489         DOMESTIC VIOLENCE  08/08/2017 12:00:00 AM   21:00   \n",
       "14    17090794  THEFT MISD. (UNDER $950)  04/20/2017 12:00:00 AM   12:00   \n",
       "15    17014095  THEFT FELONY (OVER $950)  03/13/2017 12:00:00 AM   16:45   \n",
       "16    17016587           ALCOHOL OFFENSE  03/25/2017 12:00:00 AM   00:55   \n",
       "17    17049346  THEFT MISD. (UNDER $950)  08/20/2017 12:00:00 AM   23:20   \n",
       "18    17014188           ALCOHOL OFFENSE  03/11/2017 12:00:00 AM   18:30   \n",
       "19    17045903          MISSING JUVENILE  08/04/2017 12:00:00 AM   12:00   \n",
       "20    17034383               DISTURBANCE  06/15/2017 12:00:00 AM   14:30   \n",
       "21    17026118             BURGLARY AUTO  05/08/2017 12:00:00 AM   19:00   \n",
       "22    17090933             BURGLARY AUTO  05/10/2017 12:00:00 AM   16:30   \n",
       "23    17017335                   ROBBERY  03/28/2017 12:00:00 AM   16:29   \n",
       "24    17091319  THEFT MISD. (UNDER $950)  07/09/2017 12:00:00 AM   04:15   \n",
       "25    17091356                 VANDALISM  07/13/2017 12:00:00 AM   21:30   \n",
       "26    17091255            IDENTITY THEFT  06/29/2017 12:00:00 AM   13:10   \n",
       "27    17044238               DISTURBANCE  07/30/2017 12:00:00 AM   01:16   \n",
       "28    17043329  THEFT FELONY (OVER $950)  07/25/2017 12:00:00 AM   16:00   \n",
       "29    17012577             BURGLARY AUTO  03/06/2017 12:00:00 AM   05:56   \n",
       "...        ...                       ...                     ...     ...   \n",
       "5478  17025145         DOMESTIC VIOLENCE  05/04/2017 12:00:00 AM   19:00   \n",
       "5479  17048721              2ND RESPONSE  08/18/2017 12:00:00 AM   23:19   \n",
       "5480  17021604            IDENTITY THEFT  03/31/2017 12:00:00 AM   00:00   \n",
       "5481  17036894             BURGLARY AUTO  06/26/2017 12:00:00 AM   14:26   \n",
       "5482  17038620               DISTURBANCE  07/04/2017 12:00:00 AM   17:50   \n",
       "5483  17025429                 NARCOTICS  05/06/2017 12:00:00 AM   00:08   \n",
       "5484  17050170  THEFT MISD. (UNDER $950)  08/24/2017 12:00:00 AM   20:50   \n",
       "5485  17039033      ASSAULT/BATTERY FEL.  07/06/2017 12:00:00 AM   13:55   \n",
       "5486  17019827                     ARSON  04/09/2017 12:00:00 AM   18:41   \n",
       "5487  17018238      BURGLARY RESIDENTIAL  04/01/2017 12:00:00 AM   15:30   \n",
       "5488  17040083      BURGLARY RESIDENTIAL  07/11/2017 12:00:00 AM   04:45   \n",
       "5489  17029497  THEFT MISD. (UNDER $950)  05/24/2017 12:00:00 AM   18:20   \n",
       "5490  17040953             FRAUD/FORGERY  07/02/2017 12:00:00 AM   00:00   \n",
       "5491  17030294                   ROBBERY  05/27/2017 12:00:00 AM   22:48   \n",
       "5492  17032287      ASSAULT/BATTERY FEL.  06/06/2017 12:00:00 AM   05:15   \n",
       "5493  17041600               BRANDISHING  07/17/2017 12:00:00 AM   18:38   \n",
       "5494  17029206     ASSAULT/BATTERY MISD.  05/23/2017 12:00:00 AM   13:25   \n",
       "5495  17049877             BURGLARY AUTO  08/23/2017 12:00:00 AM   14:40   \n",
       "5496  17091181             BURGLARY AUTO  06/21/2017 12:00:00 AM   13:45   \n",
       "5497  17033201               DISTURBANCE  06/09/2017 12:00:00 AM   22:34   \n",
       "5498  17015458                 NARCOTICS  03/20/2017 12:00:00 AM   01:02   \n",
       "5499  17036872               DISTURBANCE  06/26/2017 12:00:00 AM   11:45   \n",
       "5500  17036785  THEFT MISD. (UNDER $950)  06/25/2017 12:00:00 AM   22:20   \n",
       "5501  17047247             BURGLARY AUTO  08/11/2017 12:00:00 AM   20:00   \n",
       "5502  17091276                 VANDALISM  07/01/2017 12:00:00 AM   21:00   \n",
       "5503  17044461             BURGLARY AUTO  07/31/2017 12:00:00 AM   01:00   \n",
       "5504  17050771                 NARCOTICS  08/27/2017 12:00:00 AM   02:00   \n",
       "5505  17018126               DISTURBANCE  04/01/2017 12:00:00 AM   12:22   \n",
       "5506  17090665  THEFT MISD. (UNDER $950)  04/01/2017 12:00:00 AM   12:00   \n",
       "5507  17049700      SEXUAL ASSAULT MISD.  08/22/2017 12:00:00 AM   20:02   \n",
       "\n",
       "                    CVLEGEND  CVDOW                InDbDate  \\\n",
       "0         BURGLARY - VEHICLE      0  08/29/2017 08:28:05 AM   \n",
       "1                    LARCENY      4  08/29/2017 08:28:00 AM   \n",
       "2         BURGLARY - VEHICLE      4  08/29/2017 08:28:06 AM   \n",
       "3            WEAPONS OFFENSE      4  08/29/2017 08:27:59 AM   \n",
       "4        MOTOR VEHICLE THEFT      2  08/29/2017 08:28:05 AM   \n",
       "5     BURGLARY - RESIDENTIAL      3  08/29/2017 08:28:03 AM   \n",
       "6     BURGLARY - RESIDENTIAL      2  08/29/2017 08:28:00 AM   \n",
       "7         BURGLARY - VEHICLE      1  08/29/2017 08:28:01 AM   \n",
       "8                  VANDALISM      4  08/29/2017 08:28:00 AM   \n",
       "9         DISORDERLY CONDUCT      1  08/29/2017 08:28:04 AM   \n",
       "10                   LARCENY      3  08/29/2017 08:28:00 AM   \n",
       "11        BURGLARY - VEHICLE      0  08/29/2017 08:28:03 AM   \n",
       "12    LARCENY - FROM VEHICLE      2  08/29/2017 08:27:59 AM   \n",
       "13            FAMILY OFFENSE      2  08/29/2017 08:28:05 AM   \n",
       "14                   LARCENY      4  08/29/2017 08:28:00 AM   \n",
       "15                   LARCENY      1  08/29/2017 08:27:58 AM   \n",
       "16      LIQUOR LAW VIOLATION      6  08/29/2017 08:27:59 AM   \n",
       "17                   LARCENY      0  08/29/2017 08:28:05 AM   \n",
       "18      LIQUOR LAW VIOLATION      6  08/29/2017 08:27:59 AM   \n",
       "19            MISSING PERSON      5  08/29/2017 08:28:05 AM   \n",
       "20        DISORDERLY CONDUCT      4  08/29/2017 08:28:03 AM   \n",
       "21        BURGLARY - VEHICLE      1  08/29/2017 08:28:00 AM   \n",
       "22        BURGLARY - VEHICLE      3  08/29/2017 08:28:00 AM   \n",
       "23                   ROBBERY      2  08/29/2017 08:27:59 AM   \n",
       "24                   LARCENY      0  08/29/2017 08:28:04 AM   \n",
       "25                 VANDALISM      4  08/29/2017 08:28:04 AM   \n",
       "26                     FRAUD      4  08/29/2017 08:28:03 AM   \n",
       "27        DISORDERLY CONDUCT      0  08/29/2017 08:28:05 AM   \n",
       "28                   LARCENY      2  08/29/2017 08:28:05 AM   \n",
       "29        BURGLARY - VEHICLE      1  08/29/2017 08:27:58 AM   \n",
       "...                      ...    ...                     ...   \n",
       "5478          FAMILY OFFENSE      4  08/29/2017 08:28:00 AM   \n",
       "5479         NOISE VIOLATION      5  08/29/2017 08:28:05 AM   \n",
       "5480                   FRAUD      5  08/29/2017 08:28:00 AM   \n",
       "5481      BURGLARY - VEHICLE      1  08/29/2017 08:28:03 AM   \n",
       "5482      DISORDERLY CONDUCT      2  08/29/2017 08:28:03 AM   \n",
       "5483          DRUG VIOLATION      6  08/29/2017 08:28:00 AM   \n",
       "5484                 LARCENY      4  08/29/2017 08:28:06 AM   \n",
       "5485                 ASSAULT      4  08/29/2017 08:28:04 AM   \n",
       "5486                   ARSON      0  08/29/2017 08:27:59 AM   \n",
       "5487  BURGLARY - RESIDENTIAL      6  08/29/2017 08:27:59 AM   \n",
       "5488  BURGLARY - RESIDENTIAL      2  08/29/2017 08:28:04 AM   \n",
       "5489                 LARCENY      3  08/29/2017 08:28:00 AM   \n",
       "5490                   FRAUD      0  08/29/2017 08:28:05 AM   \n",
       "5491                 ROBBERY      6  08/29/2017 08:28:00 AM   \n",
       "5492                 ASSAULT      2  08/29/2017 08:28:01 AM   \n",
       "5493         WEAPONS OFFENSE      1  08/29/2017 08:28:05 AM   \n",
       "5494                 ASSAULT      2  08/29/2017 08:28:00 AM   \n",
       "5495      BURGLARY - VEHICLE      3  08/29/2017 08:28:05 AM   \n",
       "5496      BURGLARY - VEHICLE      3  08/29/2017 08:28:02 AM   \n",
       "5497      DISORDERLY CONDUCT      5  08/29/2017 08:28:01 AM   \n",
       "5498          DRUG VIOLATION      1  08/29/2017 08:27:59 AM   \n",
       "5499      DISORDERLY CONDUCT      1  08/29/2017 08:28:03 AM   \n",
       "5500                 LARCENY      0  08/29/2017 08:28:03 AM   \n",
       "5501      BURGLARY - VEHICLE      5  08/29/2017 08:28:05 AM   \n",
       "5502               VANDALISM      6  08/29/2017 08:28:03 AM   \n",
       "5503      BURGLARY - VEHICLE      1  08/29/2017 08:28:05 AM   \n",
       "5504          DRUG VIOLATION      0  08/29/2017 08:28:06 AM   \n",
       "5505      DISORDERLY CONDUCT      6  08/29/2017 08:27:59 AM   \n",
       "5506                 LARCENY      6  08/29/2017 08:27:59 AM   \n",
       "5507               SEX CRIME      2  08/29/2017 08:28:06 AM   \n",
       "\n",
       "                                         Block_Location  \\\n",
       "0     2500 LE CONTE AVE\\nBerkeley, CA\\n(37.876965, -...   \n",
       "1     2200 SHATTUCK AVE\\nBerkeley, CA\\n(37.869363, -...   \n",
       "2     200 UNIVERSITY AVE\\nBerkeley, CA\\n(37.865491, ...   \n",
       "3     1900 SEVENTH ST\\nBerkeley, CA\\n(37.869318, -12...   \n",
       "4     100 PARKSIDE DR\\nBerkeley, CA\\n(37.854247, -12...   \n",
       "5     1500 PRINCE ST\\nBerkeley, CA\\n(37.851503, -122...   \n",
       "6                          300 MENLO PL\\nBerkeley, CA\\n   \n",
       "7     2317 SHATTUCK AVE\\nBerkeley, CA\\n(37.867326, -...   \n",
       "8     ACTON STREET &amp; PARKER ST\\nBerkeley, CA\\n(3...   \n",
       "9     2100 SEVENTH ST\\nBerkeley, CA\\n(37.866936, -12...   \n",
       "10    2500 COLLEGE AVE\\nBerkeley, CA\\n(37.865711, -1...   \n",
       "11    BOWDITCH STREET &amp; CHANNING WAY\\nBerkeley, ...   \n",
       "12    2000 FRANCISCO ST\\nBerkeley, CA\\n(37.875391, -...   \n",
       "13    2100 ASHBY AVE\\nBerkeley, CA\\n(37.855293, -122...   \n",
       "14    2100 EMERSON ST\\nBerkeley, CA\\n(37.854536, -12...   \n",
       "15    SHATTUCK AVENUE &amp; ALLSTON WAY\\nBerkeley, C...   \n",
       "16    UNIVERSITY AVENUE &amp; GRANT ST\\nBerkeley, CA...   \n",
       "17    2900 CHANNING WAY\\nBerkeley, CA\\n(37.867948, -...   \n",
       "18    2500 DURANT AVE\\nBerkeley, CA\\n(37.867852, -12...   \n",
       "19    1200 FRANCISCO ST\\nBerkeley, CA\\n(37.87304, -1...   \n",
       "20    STUART STREET &amp; ADELINE ST\\nBerkeley, CA\\n...   \n",
       "21    2400 MCGEE AVE\\nBerkeley, CA\\n(37.864397, -122...   \n",
       "22    100 SEAWALL DR\\nBerkeley, CA\\n(37.863611, -122...   \n",
       "23    2000 WOOLSEY ST\\nBerkeley, CA\\n(37.852174, -12...   \n",
       "24    2100 RUSSELL ST\\nBerkeley, CA\\n(37.856719, -12...   \n",
       "25    3000 DOHR ST\\nBerkeley, CA\\n(37.853221, -122.2...   \n",
       "26    10 BRIDGE RD\\nBerkeley, CA\\n(37.855584, -122.2...   \n",
       "27    TELEGRAPH AVENUE &amp; DURANT AVE\\nBerkeley, C...   \n",
       "28    1900 SHATTUCK AVE\\nBerkeley, CA\\n(37.873687, -...   \n",
       "29    COLUSA AVENUE &amp; SOLANO AVE\\nBerkeley, CA\\n...   \n",
       "...                                                 ...   \n",
       "5478  SAN PABLO AVENUE &amp; ASHBY AVE\\nBerkeley, CA...   \n",
       "5479  2700 CHANNING WAY\\nBerkeley, CA\\n(37.867491, -...   \n",
       "5480  100 MONTROSE RD\\nBerkeley, CA\\n(37.896218, -12...   \n",
       "5481  2000 KITTREDGE ST\\nBerkeley, CA\\n(37.868204, -...   \n",
       "5482  1500 FAIRVIEW ST\\nBerkeley, CA\\n(37.849747, -1...   \n",
       "5483  HILLEGASS AVENUE &amp; PARKER ST\\nBerkeley, CA...   \n",
       "5484  2600 TELEGRAPH AVE\\nBerkeley, CA\\n(37.862927, ...   \n",
       "5485  1800 UNIVERSITY AVE\\nBerkeley, CA\\n(37.871246,...   \n",
       "5486  2200 NINTH ST\\nBerkeley, CA\\n(37.865875, -122....   \n",
       "5487                1400 SIXTY-SIXTH ST\\nBerkeley, CA\\n   \n",
       "5488  2500 BENVENUE AVE\\nBerkeley, CA\\n(37.865535, -...   \n",
       "5489  1800 BERKELEY WAY\\nBerkeley, CA\\n(37.872166, -...   \n",
       "5490  1700 OXFORD ST\\nBerkeley, CA\\n(37.876881, -122...   \n",
       "5491  1600 WOOLSEY ST\\nBerkeley, CA\\n(37.850899, -12...   \n",
       "5492  2500 BANCROFT WAY\\nBerkeley, CA\\n(37.868722, -...   \n",
       "5493  1800 SAN PABLO AVE\\nBerkeley, CA\\n(37.871402, ...   \n",
       "5494  2500 TELEGRAPH AVE\\nBerkeley, CA\\n(37.865009, ...   \n",
       "5495  2500 TELEGRAPH AVE\\nBerkeley, CA\\n(37.865009, ...   \n",
       "5496  2300 FOURTH ST\\nBerkeley, CA\\n(37.862844, -122...   \n",
       "5497  2300 COLLEGE AVE\\nBerkeley, CA\\n(37.868957, -1...   \n",
       "5498  BONAR STREET &amp; UNIVERSITY AVE\\nBerkeley, C...   \n",
       "5499  1900 SHATTUCK AVE\\nBerkeley, CA\\n(37.873687, -...   \n",
       "5500  1400 SHATTUCK AVE\\nBerkeley, CA\\n(37.881957, -...   \n",
       "5501  UNIVERSITY AVENUE &amp; CHESTNUT ST\\nBerkeley,...   \n",
       "5502  1200 CARLOTTA AVE\\nBerkeley, CA\\n(37.884644, -...   \n",
       "5503  800 MENDOCINO AVE\\nBerkeley, CA\\n(37.893148, -...   \n",
       "5504  1700 UNIVERSITY AVE\\nBerkeley, CA\\n(37.870948,...   \n",
       "5505  1600 FAIRVIEW ST\\nBerkeley, CA\\n(37.850001, -1...   \n",
       "5506  2000 DELAWARE ST\\nBerkeley, CA\\n(37.874489, -1...   \n",
       "5507  2400 TELEGRAPH AVE\\nBerkeley, CA\\n(37.866761, ...   \n",
       "\n",
       "                              BLKADDR      City State        Day  \\\n",
       "0                   2500 LE CONTE AVE  Berkeley    CA     Sunday   \n",
       "1                   2200 SHATTUCK AVE  Berkeley    CA   Thursday   \n",
       "2                  200 UNIVERSITY AVE  Berkeley    CA   Thursday   \n",
       "3                     1900 SEVENTH ST  Berkeley    CA   Thursday   \n",
       "4                     100 PARKSIDE DR  Berkeley    CA    Tuesday   \n",
       "5                      1500 PRINCE ST  Berkeley    CA  Wednesday   \n",
       "6                        300 MENLO PL  Berkeley    CA    Tuesday   \n",
       "7                   2317 SHATTUCK AVE  Berkeley    CA     Monday   \n",
       "8            ACTON STREET & PARKER ST  Berkeley    CA   Thursday   \n",
       "9                     2100 SEVENTH ST  Berkeley    CA     Monday   \n",
       "10                   2500 COLLEGE AVE  Berkeley    CA  Wednesday   \n",
       "11     BOWDITCH STREET & CHANNING WAY  Berkeley    CA     Sunday   \n",
       "12                  2000 FRANCISCO ST  Berkeley    CA    Tuesday   \n",
       "13                     2100 ASHBY AVE  Berkeley    CA    Tuesday   \n",
       "14                    2100 EMERSON ST  Berkeley    CA   Thursday   \n",
       "15      SHATTUCK AVENUE & ALLSTON WAY  Berkeley    CA     Monday   \n",
       "16       UNIVERSITY AVENUE & GRANT ST  Berkeley    CA   Saturday   \n",
       "17                  2900 CHANNING WAY  Berkeley    CA     Sunday   \n",
       "18                    2500 DURANT AVE  Berkeley    CA   Saturday   \n",
       "19                  1200 FRANCISCO ST  Berkeley    CA     Friday   \n",
       "20         STUART STREET & ADELINE ST  Berkeley    CA   Thursday   \n",
       "21                     2400 MCGEE AVE  Berkeley    CA     Monday   \n",
       "22                     100 SEAWALL DR  Berkeley    CA  Wednesday   \n",
       "23                    2000 WOOLSEY ST  Berkeley    CA    Tuesday   \n",
       "24                    2100 RUSSELL ST  Berkeley    CA     Sunday   \n",
       "25                       3000 DOHR ST  Berkeley    CA   Thursday   \n",
       "26                       10 BRIDGE RD  Berkeley    CA   Thursday   \n",
       "27      TELEGRAPH AVENUE & DURANT AVE  Berkeley    CA     Sunday   \n",
       "28                  1900 SHATTUCK AVE  Berkeley    CA    Tuesday   \n",
       "29         COLUSA AVENUE & SOLANO AVE  Berkeley    CA     Monday   \n",
       "...                               ...       ...   ...        ...   \n",
       "5478     SAN PABLO AVENUE & ASHBY AVE  Berkeley    CA   Thursday   \n",
       "5479                2700 CHANNING WAY  Berkeley    CA     Friday   \n",
       "5480                  100 MONTROSE RD  Berkeley    CA     Friday   \n",
       "5481                2000 KITTREDGE ST  Berkeley    CA     Monday   \n",
       "5482                 1500 FAIRVIEW ST  Berkeley    CA    Tuesday   \n",
       "5483     HILLEGASS AVENUE & PARKER ST  Berkeley    CA   Saturday   \n",
       "5484               2600 TELEGRAPH AVE  Berkeley    CA   Thursday   \n",
       "5485              1800 UNIVERSITY AVE  Berkeley    CA   Thursday   \n",
       "5486                    2200 NINTH ST  Berkeley    CA     Sunday   \n",
       "5487              1400 SIXTY-SIXTH ST  Berkeley    CA   Saturday   \n",
       "5488                2500 BENVENUE AVE  Berkeley    CA    Tuesday   \n",
       "5489                1800 BERKELEY WAY  Berkeley    CA  Wednesday   \n",
       "5490                   1700 OXFORD ST  Berkeley    CA     Sunday   \n",
       "5491                  1600 WOOLSEY ST  Berkeley    CA   Saturday   \n",
       "5492                2500 BANCROFT WAY  Berkeley    CA    Tuesday   \n",
       "5493               1800 SAN PABLO AVE  Berkeley    CA     Monday   \n",
       "5494               2500 TELEGRAPH AVE  Berkeley    CA    Tuesday   \n",
       "5495               2500 TELEGRAPH AVE  Berkeley    CA  Wednesday   \n",
       "5496                   2300 FOURTH ST  Berkeley    CA  Wednesday   \n",
       "5497                 2300 COLLEGE AVE  Berkeley    CA     Friday   \n",
       "5498    BONAR STREET & UNIVERSITY AVE  Berkeley    CA     Monday   \n",
       "5499                1900 SHATTUCK AVE  Berkeley    CA     Monday   \n",
       "5500                1400 SHATTUCK AVE  Berkeley    CA     Sunday   \n",
       "5501  UNIVERSITY AVENUE & CHESTNUT ST  Berkeley    CA     Friday   \n",
       "5502                1200 CARLOTTA AVE  Berkeley    CA   Saturday   \n",
       "5503                800 MENDOCINO AVE  Berkeley    CA     Monday   \n",
       "5504              1700 UNIVERSITY AVE  Berkeley    CA     Sunday   \n",
       "5505                 1600 FAIRVIEW ST  Berkeley    CA   Saturday   \n",
       "5506                 2000 DELAWARE ST  Berkeley    CA   Saturday   \n",
       "5507               2400 TELEGRAPH AVE  Berkeley    CA    Tuesday   \n",
       "\n",
       "                   road hour  \n",
       "0          LE CONTE AVE    6  \n",
       "1          SHATTUCK AVE    8  \n",
       "2        UNIVERSITY AVE   18  \n",
       "3            SEVENTH ST   17  \n",
       "4           PARKSIDE DR   18  \n",
       "5             PRINCE ST   12  \n",
       "6              MENLO PL    8  \n",
       "7          SHATTUCK AVE   17  \n",
       "8          ACTON STREET   20  \n",
       "9            SEVENTH ST    1  \n",
       "10          COLLEGE AVE   15  \n",
       "11      BOWDITCH STREET   22  \n",
       "12         FRANCISCO ST   12  \n",
       "13            ASHBY AVE   21  \n",
       "14           EMERSON ST   12  \n",
       "15      SHATTUCK AVENUE   16  \n",
       "16    UNIVERSITY AVENUE    0  \n",
       "17         CHANNING WAY   23  \n",
       "18           DURANT AVE   18  \n",
       "19         FRANCISCO ST   12  \n",
       "20        STUART STREET   14  \n",
       "21            MCGEE AVE   19  \n",
       "22           SEAWALL DR   16  \n",
       "23           WOOLSEY ST   16  \n",
       "24           RUSSELL ST    4  \n",
       "25              DOHR ST   21  \n",
       "26            BRIDGE RD   13  \n",
       "27     TELEGRAPH AVENUE    1  \n",
       "28         SHATTUCK AVE   16  \n",
       "29        COLUSA AVENUE    5  \n",
       "...                 ...  ...  \n",
       "5478   SAN PABLO AVENUE   19  \n",
       "5479       CHANNING WAY   23  \n",
       "5480        MONTROSE RD    0  \n",
       "5481       KITTREDGE ST   14  \n",
       "5482        FAIRVIEW ST   17  \n",
       "5483   HILLEGASS AVENUE    0  \n",
       "5484      TELEGRAPH AVE   20  \n",
       "5485     UNIVERSITY AVE   13  \n",
       "5486           NINTH ST   18  \n",
       "5487     SIXTY-SIXTH ST   15  \n",
       "5488       BENVENUE AVE    4  \n",
       "5489       BERKELEY WAY   18  \n",
       "5490          OXFORD ST    0  \n",
       "5491         WOOLSEY ST   22  \n",
       "5492       BANCROFT WAY    5  \n",
       "5493      SAN PABLO AVE   18  \n",
       "5494      TELEGRAPH AVE   13  \n",
       "5495      TELEGRAPH AVE   14  \n",
       "5496          FOURTH ST   13  \n",
       "5497        COLLEGE AVE   22  \n",
       "5498       BONAR STREET    1  \n",
       "5499       SHATTUCK AVE   11  \n",
       "5500       SHATTUCK AVE   22  \n",
       "5501  UNIVERSITY AVENUE   20  \n",
       "5502       CARLOTTA AVE   21  \n",
       "5503      MENDOCINO AVE    1  \n",
       "5504     UNIVERSITY AVE    2  \n",
       "5505        FAIRVIEW ST   12  \n",
       "5506        DELAWARE ST   12  \n",
       "5507      TELEGRAPH AVE   20  \n",
       "\n",
       "[5508 rows x 14 columns]"
      ]
     },
     "execution_count": 74,
     "metadata": {},
     "output_type": "execute_result"
    }
   ],
   "source": [
    "calls"
   ]
  },
  {
   "cell_type": "code",
   "execution_count": 75,
   "metadata": {},
   "outputs": [
    {
     "name": "stdout",
     "output_type": "stream",
     "text": [
      "~~~~~~~~~~~~~~~~~~~~~~~~~~~~~~~~~~~~~~~~~~~~~~~~~~~~~~~~~~~~~~~~~~~~~\n",
      "Running tests\n",
      "\n",
      "---------------------------------------------------------------------\n",
      "Test summary\n",
      "    Passed: 1\n",
      "    Failed: 0\n",
      "[ooooooooook] 100.0% passed\n",
      "\n"
     ]
    },
    {
     "data": {
      "application/javascript": [
       "IPython.notebook.save_checkpoint();"
      ],
      "text/plain": [
       "<IPython.core.display.Javascript object>"
      ]
     },
     "metadata": {},
     "output_type": "display_data"
    },
    {
     "data": {
      "application/javascript": [
       "IPython.notebook.save_notebook();"
      ],
      "text/plain": [
       "<IPython.core.display.Javascript object>"
      ]
     },
     "metadata": {},
     "output_type": "display_data"
    },
    {
     "name": "stdout",
     "output_type": "stream",
     "text": [
      "Saving notebook... Saved 'lab03.ipynb'.\n",
      "Submit... 0.0% complete\n",
      "Could not submit: Late Submission of cal/ds100/fa17/lab03\n",
      "\n"
     ]
    }
   ],
   "source": [
    "_ = ok.grade('q04a')\n",
    "_ = ok.backup()"
   ]
  },
  {
   "cell_type": "markdown",
   "metadata": {},
   "source": [
    "### Question 4b\n",
    "\n",
    "Now we can plot the hour distribution for each type of crime in CVLEGEND. Make a plot for \"NOISE VIOLATION\" and find out which 3 hours contain most of such events. Put your results into `answer4b` as a list of integers."
   ]
  },
  {
   "cell_type": "code",
   "execution_count": 85,
   "metadata": {
    "tags": [
     "student"
    ]
   },
   "outputs": [
    {
     "data": {
      "text/html": [
       "<div>\n",
       "<style>\n",
       "    .dataframe thead tr:only-child th {\n",
       "        text-align: right;\n",
       "    }\n",
       "\n",
       "    .dataframe thead th {\n",
       "        text-align: left;\n",
       "    }\n",
       "\n",
       "    .dataframe tbody tr th {\n",
       "        vertical-align: top;\n",
       "    }\n",
       "</style>\n",
       "<table border=\"1\" class=\"dataframe\">\n",
       "  <thead>\n",
       "    <tr style=\"text-align: right;\">\n",
       "      <th></th>\n",
       "      <th>CASENO</th>\n",
       "      <th>OFFENSE</th>\n",
       "      <th>EVENTDT</th>\n",
       "      <th>EVENTTM</th>\n",
       "      <th>CVLEGEND</th>\n",
       "      <th>CVDOW</th>\n",
       "      <th>InDbDate</th>\n",
       "      <th>Block_Location</th>\n",
       "      <th>BLKADDR</th>\n",
       "      <th>City</th>\n",
       "      <th>State</th>\n",
       "      <th>Day</th>\n",
       "      <th>road</th>\n",
       "    </tr>\n",
       "    <tr>\n",
       "      <th>hour</th>\n",
       "      <th></th>\n",
       "      <th></th>\n",
       "      <th></th>\n",
       "      <th></th>\n",
       "      <th></th>\n",
       "      <th></th>\n",
       "      <th></th>\n",
       "      <th></th>\n",
       "      <th></th>\n",
       "      <th></th>\n",
       "      <th></th>\n",
       "      <th></th>\n",
       "      <th></th>\n",
       "    </tr>\n",
       "  </thead>\n",
       "  <tbody>\n",
       "    <tr>\n",
       "      <th>0</th>\n",
       "      <td>15</td>\n",
       "      <td>15</td>\n",
       "      <td>15</td>\n",
       "      <td>15</td>\n",
       "      <td>15</td>\n",
       "      <td>15</td>\n",
       "      <td>15</td>\n",
       "      <td>15</td>\n",
       "      <td>15</td>\n",
       "      <td>15</td>\n",
       "      <td>15</td>\n",
       "      <td>15</td>\n",
       "      <td>15</td>\n",
       "    </tr>\n",
       "    <tr>\n",
       "      <th>1</th>\n",
       "      <td>3</td>\n",
       "      <td>3</td>\n",
       "      <td>3</td>\n",
       "      <td>3</td>\n",
       "      <td>3</td>\n",
       "      <td>3</td>\n",
       "      <td>3</td>\n",
       "      <td>3</td>\n",
       "      <td>3</td>\n",
       "      <td>3</td>\n",
       "      <td>3</td>\n",
       "      <td>3</td>\n",
       "      <td>3</td>\n",
       "    </tr>\n",
       "    <tr>\n",
       "      <th>6</th>\n",
       "      <td>2</td>\n",
       "      <td>2</td>\n",
       "      <td>2</td>\n",
       "      <td>2</td>\n",
       "      <td>2</td>\n",
       "      <td>2</td>\n",
       "      <td>2</td>\n",
       "      <td>2</td>\n",
       "      <td>2</td>\n",
       "      <td>2</td>\n",
       "      <td>2</td>\n",
       "      <td>2</td>\n",
       "      <td>2</td>\n",
       "    </tr>\n",
       "    <tr>\n",
       "      <th>19</th>\n",
       "      <td>1</td>\n",
       "      <td>1</td>\n",
       "      <td>1</td>\n",
       "      <td>1</td>\n",
       "      <td>1</td>\n",
       "      <td>1</td>\n",
       "      <td>1</td>\n",
       "      <td>1</td>\n",
       "      <td>1</td>\n",
       "      <td>1</td>\n",
       "      <td>1</td>\n",
       "      <td>1</td>\n",
       "      <td>1</td>\n",
       "    </tr>\n",
       "    <tr>\n",
       "      <th>22</th>\n",
       "      <td>12</td>\n",
       "      <td>12</td>\n",
       "      <td>12</td>\n",
       "      <td>12</td>\n",
       "      <td>12</td>\n",
       "      <td>12</td>\n",
       "      <td>12</td>\n",
       "      <td>12</td>\n",
       "      <td>12</td>\n",
       "      <td>12</td>\n",
       "      <td>12</td>\n",
       "      <td>12</td>\n",
       "      <td>12</td>\n",
       "    </tr>\n",
       "    <tr>\n",
       "      <th>23</th>\n",
       "      <td>13</td>\n",
       "      <td>13</td>\n",
       "      <td>13</td>\n",
       "      <td>13</td>\n",
       "      <td>13</td>\n",
       "      <td>13</td>\n",
       "      <td>13</td>\n",
       "      <td>13</td>\n",
       "      <td>13</td>\n",
       "      <td>13</td>\n",
       "      <td>13</td>\n",
       "      <td>13</td>\n",
       "      <td>13</td>\n",
       "    </tr>\n",
       "  </tbody>\n",
       "</table>\n",
       "</div>"
      ],
      "text/plain": [
       "      CASENO  OFFENSE  EVENTDT  EVENTTM  CVLEGEND  CVDOW  InDbDate  \\\n",
       "hour                                                                 \n",
       "0         15       15       15       15        15     15        15   \n",
       "1          3        3        3        3         3      3         3   \n",
       "6          2        2        2        2         2      2         2   \n",
       "19         1        1        1        1         1      1         1   \n",
       "22        12       12       12       12        12     12        12   \n",
       "23        13       13       13       13        13     13        13   \n",
       "\n",
       "      Block_Location  BLKADDR  City  State  Day  road  \n",
       "hour                                                   \n",
       "0                 15       15    15     15   15    15  \n",
       "1                  3        3     3      3    3     3  \n",
       "6                  2        2     2      2    2     2  \n",
       "19                 1        1     1      1    1     1  \n",
       "22                12       12    12     12   12    12  \n",
       "23                13       13    13     13   13    13  "
      ]
     },
     "execution_count": 85,
     "metadata": {},
     "output_type": "execute_result"
    }
   ],
   "source": [
    "\n",
    "answer4b = [0, 23, 22]\n",
    "calls[(calls[\"CVLEGEND\"] == \"NOISE VIOLATION\")].groupby(\"hour\").count()"
   ]
  },
  {
   "cell_type": "code",
   "execution_count": 86,
   "metadata": {},
   "outputs": [
    {
     "name": "stdout",
     "output_type": "stream",
     "text": [
      "~~~~~~~~~~~~~~~~~~~~~~~~~~~~~~~~~~~~~~~~~~~~~~~~~~~~~~~~~~~~~~~~~~~~~\n",
      "Running tests\n",
      "\n",
      "---------------------------------------------------------------------\n",
      "Test summary\n",
      "    Passed: 1\n",
      "    Failed: 0\n",
      "[ooooooooook] 100.0% passed\n",
      "\n"
     ]
    },
    {
     "data": {
      "application/javascript": [
       "IPython.notebook.save_checkpoint();"
      ],
      "text/plain": [
       "<IPython.core.display.Javascript object>"
      ]
     },
     "metadata": {},
     "output_type": "display_data"
    },
    {
     "data": {
      "application/javascript": [
       "IPython.notebook.save_notebook();"
      ],
      "text/plain": [
       "<IPython.core.display.Javascript object>"
      ]
     },
     "metadata": {},
     "output_type": "display_data"
    },
    {
     "name": "stdout",
     "output_type": "stream",
     "text": [
      "Saving notebook... Saved 'lab03.ipynb'.\n",
      "Submit... 0.0% complete\n",
      "Could not submit: Late Submission of cal/ds100/fa17/lab03\n",
      "Backup... 100% complete\n",
      "\n"
     ]
    }
   ],
   "source": [
    "_ = ok.grade('q04b')\n",
    "_ = ok.backup()"
   ]
  },
  {
   "cell_type": "markdown",
   "metadata": {},
   "source": [
    "### Question 4c\n",
    "Besides simple BarChart, another useful chart is the box plot. Use `sns.boxplot` to make a vertical boxplot of the hour distribution for each `CVLEGEND`. Each crime category should appear on the y-axis."
   ]
  },
  {
   "cell_type": "code",
   "execution_count": 95,
   "metadata": {},
   "outputs": [
    {
     "ename": "AttributeError",
     "evalue": "'numpy.ndarray' object has no attribute 'find'",
     "output_type": "error",
     "traceback": [
      "\u001b[0;31m---------------------------------------------------------------------------\u001b[0m",
      "\u001b[0;31mAttributeError\u001b[0m                            Traceback (most recent call last)",
      "\u001b[0;32m<ipython-input-95-39f15cfd759a>\u001b[0m in \u001b[0;36m<module>\u001b[0;34m()\u001b[0m\n\u001b[0;32m----> 1\u001b[0;31m \u001b[0msns\u001b[0m\u001b[0;34m.\u001b[0m\u001b[0mboxplot\u001b[0m\u001b[0;34m(\u001b[0m\u001b[0mx\u001b[0m\u001b[0;34m=\u001b[0m\u001b[0;34m\"CVLEGEND\"\u001b[0m\u001b[0;34m,\u001b[0m \u001b[0my\u001b[0m\u001b[0;34m=\u001b[0m\u001b[0;34m\"hour\"\u001b[0m\u001b[0;34m,\u001b[0m \u001b[0mdata\u001b[0m\u001b[0;34m=\u001b[0m\u001b[0mcalls\u001b[0m\u001b[0;34m)\u001b[0m\u001b[0;34m\u001b[0m\u001b[0m\n\u001b[0m",
      "\u001b[0;32m/home/ksab77/anaconda3/envs/ds100/lib/python3.6/site-packages/seaborn/categorical.py\u001b[0m in \u001b[0;36mboxplot\u001b[0;34m(x, y, hue, data, order, hue_order, orient, color, palette, saturation, width, fliersize, linewidth, whis, notch, ax, **kwargs)\u001b[0m\n\u001b[1;32m   2179\u001b[0m     \u001b[0mkwargs\u001b[0m\u001b[0;34m.\u001b[0m\u001b[0mupdate\u001b[0m\u001b[0;34m(\u001b[0m\u001b[0mdict\u001b[0m\u001b[0;34m(\u001b[0m\u001b[0mwhis\u001b[0m\u001b[0;34m=\u001b[0m\u001b[0mwhis\u001b[0m\u001b[0;34m,\u001b[0m \u001b[0mnotch\u001b[0m\u001b[0;34m=\u001b[0m\u001b[0mnotch\u001b[0m\u001b[0;34m)\u001b[0m\u001b[0;34m)\u001b[0m\u001b[0;34m\u001b[0m\u001b[0m\n\u001b[1;32m   2180\u001b[0m \u001b[0;34m\u001b[0m\u001b[0m\n\u001b[0;32m-> 2181\u001b[0;31m     \u001b[0mplotter\u001b[0m\u001b[0;34m.\u001b[0m\u001b[0mplot\u001b[0m\u001b[0;34m(\u001b[0m\u001b[0max\u001b[0m\u001b[0;34m,\u001b[0m \u001b[0mkwargs\u001b[0m\u001b[0;34m)\u001b[0m\u001b[0;34m\u001b[0m\u001b[0m\n\u001b[0m\u001b[1;32m   2182\u001b[0m     \u001b[0;32mreturn\u001b[0m \u001b[0max\u001b[0m\u001b[0;34m\u001b[0m\u001b[0m\n\u001b[1;32m   2183\u001b[0m \u001b[0;34m\u001b[0m\u001b[0m\n",
      "\u001b[0;32m/home/ksab77/anaconda3/envs/ds100/lib/python3.6/site-packages/seaborn/categorical.py\u001b[0m in \u001b[0;36mplot\u001b[0;34m(self, ax, boxplot_kws)\u001b[0m\n\u001b[1;32m    526\u001b[0m     \u001b[0;32mdef\u001b[0m \u001b[0mplot\u001b[0m\u001b[0;34m(\u001b[0m\u001b[0mself\u001b[0m\u001b[0;34m,\u001b[0m \u001b[0max\u001b[0m\u001b[0;34m,\u001b[0m \u001b[0mboxplot_kws\u001b[0m\u001b[0;34m)\u001b[0m\u001b[0;34m:\u001b[0m\u001b[0;34m\u001b[0m\u001b[0m\n\u001b[1;32m    527\u001b[0m         \u001b[0;34m\"\"\"Make the plot.\"\"\"\u001b[0m\u001b[0;34m\u001b[0m\u001b[0m\n\u001b[0;32m--> 528\u001b[0;31m         \u001b[0mself\u001b[0m\u001b[0;34m.\u001b[0m\u001b[0mdraw_boxplot\u001b[0m\u001b[0;34m(\u001b[0m\u001b[0max\u001b[0m\u001b[0;34m,\u001b[0m \u001b[0mboxplot_kws\u001b[0m\u001b[0;34m)\u001b[0m\u001b[0;34m\u001b[0m\u001b[0m\n\u001b[0m\u001b[1;32m    529\u001b[0m         \u001b[0mself\u001b[0m\u001b[0;34m.\u001b[0m\u001b[0mannotate_axes\u001b[0m\u001b[0;34m(\u001b[0m\u001b[0max\u001b[0m\u001b[0;34m)\u001b[0m\u001b[0;34m\u001b[0m\u001b[0m\n\u001b[1;32m    530\u001b[0m         \u001b[0;32mif\u001b[0m \u001b[0mself\u001b[0m\u001b[0;34m.\u001b[0m\u001b[0morient\u001b[0m \u001b[0;34m==\u001b[0m \u001b[0;34m\"h\"\u001b[0m\u001b[0;34m:\u001b[0m\u001b[0;34m\u001b[0m\u001b[0m\n",
      "\u001b[0;32m/home/ksab77/anaconda3/envs/ds100/lib/python3.6/site-packages/seaborn/categorical.py\u001b[0m in \u001b[0;36mdraw_boxplot\u001b[0;34m(self, ax, kws)\u001b[0m\n\u001b[1;32m    463\u001b[0m                                          \u001b[0mpositions\u001b[0m\u001b[0;34m=\u001b[0m\u001b[0;34m[\u001b[0m\u001b[0mi\u001b[0m\u001b[0;34m]\u001b[0m\u001b[0;34m,\u001b[0m\u001b[0;34m\u001b[0m\u001b[0m\n\u001b[1;32m    464\u001b[0m                                          \u001b[0mwidths\u001b[0m\u001b[0;34m=\u001b[0m\u001b[0mself\u001b[0m\u001b[0;34m.\u001b[0m\u001b[0mwidth\u001b[0m\u001b[0;34m,\u001b[0m\u001b[0;34m\u001b[0m\u001b[0m\n\u001b[0;32m--> 465\u001b[0;31m                                          **kws)\n\u001b[0m\u001b[1;32m    466\u001b[0m                 \u001b[0mcolor\u001b[0m \u001b[0;34m=\u001b[0m \u001b[0mself\u001b[0m\u001b[0;34m.\u001b[0m\u001b[0mcolors\u001b[0m\u001b[0;34m[\u001b[0m\u001b[0mi\u001b[0m\u001b[0;34m]\u001b[0m\u001b[0;34m\u001b[0m\u001b[0m\n\u001b[1;32m    467\u001b[0m                 \u001b[0mself\u001b[0m\u001b[0;34m.\u001b[0m\u001b[0mrestyle_boxplot\u001b[0m\u001b[0;34m(\u001b[0m\u001b[0martist_dict\u001b[0m\u001b[0;34m,\u001b[0m \u001b[0mcolor\u001b[0m\u001b[0;34m,\u001b[0m \u001b[0mprops\u001b[0m\u001b[0;34m)\u001b[0m\u001b[0;34m\u001b[0m\u001b[0m\n",
      "\u001b[0;32m/home/ksab77/anaconda3/envs/ds100/lib/python3.6/site-packages/matplotlib/__init__.py\u001b[0m in \u001b[0;36minner\u001b[0;34m(ax, *args, **kwargs)\u001b[0m\n\u001b[1;32m   1896\u001b[0m                     warnings.warn(msg % (label_namer, func.__name__),\n\u001b[1;32m   1897\u001b[0m                                   RuntimeWarning, stacklevel=2)\n\u001b[0;32m-> 1898\u001b[0;31m             \u001b[0;32mreturn\u001b[0m \u001b[0mfunc\u001b[0m\u001b[0;34m(\u001b[0m\u001b[0max\u001b[0m\u001b[0;34m,\u001b[0m \u001b[0;34m*\u001b[0m\u001b[0margs\u001b[0m\u001b[0;34m,\u001b[0m \u001b[0;34m**\u001b[0m\u001b[0mkwargs\u001b[0m\u001b[0;34m)\u001b[0m\u001b[0;34m\u001b[0m\u001b[0m\n\u001b[0m\u001b[1;32m   1899\u001b[0m         \u001b[0mpre_doc\u001b[0m \u001b[0;34m=\u001b[0m \u001b[0minner\u001b[0m\u001b[0;34m.\u001b[0m\u001b[0m__doc__\u001b[0m\u001b[0;34m\u001b[0m\u001b[0m\n\u001b[1;32m   1900\u001b[0m         \u001b[0;32mif\u001b[0m \u001b[0mpre_doc\u001b[0m \u001b[0;32mis\u001b[0m \u001b[0;32mNone\u001b[0m\u001b[0;34m:\u001b[0m\u001b[0;34m\u001b[0m\u001b[0m\n",
      "\u001b[0;32m/home/ksab77/anaconda3/envs/ds100/lib/python3.6/site-packages/matplotlib/axes/_axes.py\u001b[0m in \u001b[0;36mboxplot\u001b[0;34m(self, x, notch, sym, vert, whis, positions, widths, patch_artist, bootstrap, usermedians, conf_intervals, meanline, showmeans, showcaps, showbox, showfliers, boxprops, labels, flierprops, medianprops, meanprops, capprops, whiskerprops, manage_xticks, autorange, zorder)\u001b[0m\n\u001b[1;32m   3385\u001b[0m                            \u001b[0mmeanline\u001b[0m\u001b[0;34m=\u001b[0m\u001b[0mmeanline\u001b[0m\u001b[0;34m,\u001b[0m \u001b[0mshowfliers\u001b[0m\u001b[0;34m=\u001b[0m\u001b[0mshowfliers\u001b[0m\u001b[0;34m,\u001b[0m\u001b[0;34m\u001b[0m\u001b[0m\n\u001b[1;32m   3386\u001b[0m                            \u001b[0mcapprops\u001b[0m\u001b[0;34m=\u001b[0m\u001b[0mcapprops\u001b[0m\u001b[0;34m,\u001b[0m \u001b[0mwhiskerprops\u001b[0m\u001b[0;34m=\u001b[0m\u001b[0mwhiskerprops\u001b[0m\u001b[0;34m,\u001b[0m\u001b[0;34m\u001b[0m\u001b[0m\n\u001b[0;32m-> 3387\u001b[0;31m                            manage_xticks=manage_xticks, zorder=zorder)\n\u001b[0m\u001b[1;32m   3388\u001b[0m         \u001b[0;32mreturn\u001b[0m \u001b[0martists\u001b[0m\u001b[0;34m\u001b[0m\u001b[0m\n\u001b[1;32m   3389\u001b[0m \u001b[0;34m\u001b[0m\u001b[0m\n",
      "\u001b[0;32m/home/ksab77/anaconda3/envs/ds100/lib/python3.6/site-packages/matplotlib/axes/_axes.py\u001b[0m in \u001b[0;36mbxp\u001b[0;34m(self, bxpstats, positions, widths, vert, patch_artist, shownotches, showmeans, showcaps, showbox, showfliers, boxprops, whiskerprops, flierprops, medianprops, capprops, meanprops, meanline, manage_xticks, zorder)\u001b[0m\n\u001b[1;32m   3774\u001b[0m \u001b[0;34m\u001b[0m\u001b[0m\n\u001b[1;32m   3775\u001b[0m                 fliers.extend(doplot(\n\u001b[0;32m-> 3776\u001b[0;31m                     \u001b[0mflier_x\u001b[0m\u001b[0;34m,\u001b[0m \u001b[0mflier_y\u001b[0m\u001b[0;34m,\u001b[0m \u001b[0;34m**\u001b[0m\u001b[0mfinal_flierprops\u001b[0m\u001b[0;34m\u001b[0m\u001b[0m\n\u001b[0m\u001b[1;32m   3777\u001b[0m                 ))\n\u001b[1;32m   3778\u001b[0m \u001b[0;34m\u001b[0m\u001b[0m\n",
      "\u001b[0;32m/home/ksab77/anaconda3/envs/ds100/lib/python3.6/site-packages/matplotlib/axes/_axes.py\u001b[0m in \u001b[0;36mdoplot\u001b[0;34m(*args, **kwargs)\u001b[0m\n\u001b[1;32m   3654\u001b[0m         \u001b[0;32mif\u001b[0m \u001b[0mvert\u001b[0m\u001b[0;34m:\u001b[0m\u001b[0;34m\u001b[0m\u001b[0m\n\u001b[1;32m   3655\u001b[0m             \u001b[0;32mdef\u001b[0m \u001b[0mdoplot\u001b[0m\u001b[0;34m(\u001b[0m\u001b[0;34m*\u001b[0m\u001b[0margs\u001b[0m\u001b[0;34m,\u001b[0m \u001b[0;34m**\u001b[0m\u001b[0mkwargs\u001b[0m\u001b[0;34m)\u001b[0m\u001b[0;34m:\u001b[0m\u001b[0;34m\u001b[0m\u001b[0m\n\u001b[0;32m-> 3656\u001b[0;31m                 \u001b[0;32mreturn\u001b[0m \u001b[0mself\u001b[0m\u001b[0;34m.\u001b[0m\u001b[0mplot\u001b[0m\u001b[0;34m(\u001b[0m\u001b[0;34m*\u001b[0m\u001b[0margs\u001b[0m\u001b[0;34m,\u001b[0m \u001b[0;34m**\u001b[0m\u001b[0mkwargs\u001b[0m\u001b[0;34m)\u001b[0m\u001b[0;34m\u001b[0m\u001b[0m\n\u001b[0m\u001b[1;32m   3657\u001b[0m \u001b[0;34m\u001b[0m\u001b[0m\n\u001b[1;32m   3658\u001b[0m             \u001b[0;32mdef\u001b[0m \u001b[0mdopatch\u001b[0m\u001b[0;34m(\u001b[0m\u001b[0mxs\u001b[0m\u001b[0;34m,\u001b[0m \u001b[0mys\u001b[0m\u001b[0;34m,\u001b[0m \u001b[0;34m**\u001b[0m\u001b[0mkwargs\u001b[0m\u001b[0;34m)\u001b[0m\u001b[0;34m:\u001b[0m\u001b[0;34m\u001b[0m\u001b[0m\n",
      "\u001b[0;32m/home/ksab77/anaconda3/envs/ds100/lib/python3.6/site-packages/matplotlib/__init__.py\u001b[0m in \u001b[0;36minner\u001b[0;34m(ax, *args, **kwargs)\u001b[0m\n\u001b[1;32m   1896\u001b[0m                     warnings.warn(msg % (label_namer, func.__name__),\n\u001b[1;32m   1897\u001b[0m                                   RuntimeWarning, stacklevel=2)\n\u001b[0;32m-> 1898\u001b[0;31m             \u001b[0;32mreturn\u001b[0m \u001b[0mfunc\u001b[0m\u001b[0;34m(\u001b[0m\u001b[0max\u001b[0m\u001b[0;34m,\u001b[0m \u001b[0;34m*\u001b[0m\u001b[0margs\u001b[0m\u001b[0;34m,\u001b[0m \u001b[0;34m**\u001b[0m\u001b[0mkwargs\u001b[0m\u001b[0;34m)\u001b[0m\u001b[0;34m\u001b[0m\u001b[0m\n\u001b[0m\u001b[1;32m   1899\u001b[0m         \u001b[0mpre_doc\u001b[0m \u001b[0;34m=\u001b[0m \u001b[0minner\u001b[0m\u001b[0;34m.\u001b[0m\u001b[0m__doc__\u001b[0m\u001b[0;34m\u001b[0m\u001b[0m\n\u001b[1;32m   1900\u001b[0m         \u001b[0;32mif\u001b[0m \u001b[0mpre_doc\u001b[0m \u001b[0;32mis\u001b[0m \u001b[0;32mNone\u001b[0m\u001b[0;34m:\u001b[0m\u001b[0;34m\u001b[0m\u001b[0m\n",
      "\u001b[0;32m/home/ksab77/anaconda3/envs/ds100/lib/python3.6/site-packages/matplotlib/axes/_axes.py\u001b[0m in \u001b[0;36mplot\u001b[0;34m(self, *args, **kwargs)\u001b[0m\n\u001b[1;32m   1404\u001b[0m         \u001b[0mkwargs\u001b[0m \u001b[0;34m=\u001b[0m \u001b[0mcbook\u001b[0m\u001b[0;34m.\u001b[0m\u001b[0mnormalize_kwargs\u001b[0m\u001b[0;34m(\u001b[0m\u001b[0mkwargs\u001b[0m\u001b[0;34m,\u001b[0m \u001b[0m_alias_map\u001b[0m\u001b[0;34m)\u001b[0m\u001b[0;34m\u001b[0m\u001b[0m\n\u001b[1;32m   1405\u001b[0m \u001b[0;34m\u001b[0m\u001b[0m\n\u001b[0;32m-> 1406\u001b[0;31m         \u001b[0;32mfor\u001b[0m \u001b[0mline\u001b[0m \u001b[0;32min\u001b[0m \u001b[0mself\u001b[0m\u001b[0;34m.\u001b[0m\u001b[0m_get_lines\u001b[0m\u001b[0;34m(\u001b[0m\u001b[0;34m*\u001b[0m\u001b[0margs\u001b[0m\u001b[0;34m,\u001b[0m \u001b[0;34m**\u001b[0m\u001b[0mkwargs\u001b[0m\u001b[0;34m)\u001b[0m\u001b[0;34m:\u001b[0m\u001b[0;34m\u001b[0m\u001b[0m\n\u001b[0m\u001b[1;32m   1407\u001b[0m             \u001b[0mself\u001b[0m\u001b[0;34m.\u001b[0m\u001b[0madd_line\u001b[0m\u001b[0;34m(\u001b[0m\u001b[0mline\u001b[0m\u001b[0;34m)\u001b[0m\u001b[0;34m\u001b[0m\u001b[0m\n\u001b[1;32m   1408\u001b[0m             \u001b[0mlines\u001b[0m\u001b[0;34m.\u001b[0m\u001b[0mappend\u001b[0m\u001b[0;34m(\u001b[0m\u001b[0mline\u001b[0m\u001b[0;34m)\u001b[0m\u001b[0;34m\u001b[0m\u001b[0m\n",
      "\u001b[0;32m/home/ksab77/anaconda3/envs/ds100/lib/python3.6/site-packages/matplotlib/axes/_base.py\u001b[0m in \u001b[0;36m_grab_next_args\u001b[0;34m(self, *args, **kwargs)\u001b[0m\n\u001b[1;32m    405\u001b[0m                 \u001b[0;32mreturn\u001b[0m\u001b[0;34m\u001b[0m\u001b[0m\n\u001b[1;32m    406\u001b[0m             \u001b[0;32mif\u001b[0m \u001b[0mlen\u001b[0m\u001b[0;34m(\u001b[0m\u001b[0mremaining\u001b[0m\u001b[0;34m)\u001b[0m \u001b[0;34m<=\u001b[0m \u001b[0;36m3\u001b[0m\u001b[0;34m:\u001b[0m\u001b[0;34m\u001b[0m\u001b[0m\n\u001b[0;32m--> 407\u001b[0;31m                 \u001b[0;32mfor\u001b[0m \u001b[0mseg\u001b[0m \u001b[0;32min\u001b[0m \u001b[0mself\u001b[0m\u001b[0;34m.\u001b[0m\u001b[0m_plot_args\u001b[0m\u001b[0;34m(\u001b[0m\u001b[0mremaining\u001b[0m\u001b[0;34m,\u001b[0m \u001b[0mkwargs\u001b[0m\u001b[0;34m)\u001b[0m\u001b[0;34m:\u001b[0m\u001b[0;34m\u001b[0m\u001b[0m\n\u001b[0m\u001b[1;32m    408\u001b[0m                     \u001b[0;32myield\u001b[0m \u001b[0mseg\u001b[0m\u001b[0;34m\u001b[0m\u001b[0m\n\u001b[1;32m    409\u001b[0m                 \u001b[0;32mreturn\u001b[0m\u001b[0;34m\u001b[0m\u001b[0m\n",
      "\u001b[0;32m/home/ksab77/anaconda3/envs/ds100/lib/python3.6/site-packages/matplotlib/axes/_base.py\u001b[0m in \u001b[0;36m_plot_args\u001b[0;34m(self, tup, kwargs)\u001b[0m\n\u001b[1;32m    355\u001b[0m         \u001b[0mret\u001b[0m \u001b[0;34m=\u001b[0m \u001b[0;34m[\u001b[0m\u001b[0;34m]\u001b[0m\u001b[0;34m\u001b[0m\u001b[0m\n\u001b[1;32m    356\u001b[0m         \u001b[0;32mif\u001b[0m \u001b[0mlen\u001b[0m\u001b[0;34m(\u001b[0m\u001b[0mtup\u001b[0m\u001b[0;34m)\u001b[0m \u001b[0;34m>\u001b[0m \u001b[0;36m1\u001b[0m \u001b[0;32mand\u001b[0m \u001b[0mis_string_like\u001b[0m\u001b[0;34m(\u001b[0m\u001b[0mtup\u001b[0m\u001b[0;34m[\u001b[0m\u001b[0;34m-\u001b[0m\u001b[0;36m1\u001b[0m\u001b[0;34m]\u001b[0m\u001b[0;34m)\u001b[0m\u001b[0;34m:\u001b[0m\u001b[0;34m\u001b[0m\u001b[0m\n\u001b[0;32m--> 357\u001b[0;31m             \u001b[0mlinestyle\u001b[0m\u001b[0;34m,\u001b[0m \u001b[0mmarker\u001b[0m\u001b[0;34m,\u001b[0m \u001b[0mcolor\u001b[0m \u001b[0;34m=\u001b[0m \u001b[0m_process_plot_format\u001b[0m\u001b[0;34m(\u001b[0m\u001b[0mtup\u001b[0m\u001b[0;34m[\u001b[0m\u001b[0;34m-\u001b[0m\u001b[0;36m1\u001b[0m\u001b[0;34m]\u001b[0m\u001b[0;34m)\u001b[0m\u001b[0;34m\u001b[0m\u001b[0m\n\u001b[0m\u001b[1;32m    358\u001b[0m             \u001b[0mtup\u001b[0m \u001b[0;34m=\u001b[0m \u001b[0mtup\u001b[0m\u001b[0;34m[\u001b[0m\u001b[0;34m:\u001b[0m\u001b[0;34m-\u001b[0m\u001b[0;36m1\u001b[0m\u001b[0;34m]\u001b[0m\u001b[0;34m\u001b[0m\u001b[0m\n\u001b[1;32m    359\u001b[0m         \u001b[0;32melif\u001b[0m \u001b[0mlen\u001b[0m\u001b[0;34m(\u001b[0m\u001b[0mtup\u001b[0m\u001b[0;34m)\u001b[0m \u001b[0;34m==\u001b[0m \u001b[0;36m3\u001b[0m\u001b[0;34m:\u001b[0m\u001b[0;34m\u001b[0m\u001b[0m\n",
      "\u001b[0;32m/home/ksab77/anaconda3/envs/ds100/lib/python3.6/site-packages/matplotlib/axes/_base.py\u001b[0m in \u001b[0;36m_process_plot_format\u001b[0;34m(fmt)\u001b[0m\n\u001b[1;32m     92\u001b[0m     \u001b[0;31m# handle the multi char special cases and strip them from the\u001b[0m\u001b[0;34m\u001b[0m\u001b[0;34m\u001b[0m\u001b[0m\n\u001b[1;32m     93\u001b[0m     \u001b[0;31m# string\u001b[0m\u001b[0;34m\u001b[0m\u001b[0;34m\u001b[0m\u001b[0m\n\u001b[0;32m---> 94\u001b[0;31m     \u001b[0;32mif\u001b[0m \u001b[0mfmt\u001b[0m\u001b[0;34m.\u001b[0m\u001b[0mfind\u001b[0m\u001b[0;34m(\u001b[0m\u001b[0;34m'--'\u001b[0m\u001b[0;34m)\u001b[0m \u001b[0;34m>=\u001b[0m \u001b[0;36m0\u001b[0m\u001b[0;34m:\u001b[0m\u001b[0;34m\u001b[0m\u001b[0m\n\u001b[0m\u001b[1;32m     95\u001b[0m         \u001b[0mlinestyle\u001b[0m \u001b[0;34m=\u001b[0m \u001b[0;34m'--'\u001b[0m\u001b[0;34m\u001b[0m\u001b[0m\n\u001b[1;32m     96\u001b[0m         \u001b[0mfmt\u001b[0m \u001b[0;34m=\u001b[0m \u001b[0mfmt\u001b[0m\u001b[0;34m.\u001b[0m\u001b[0mreplace\u001b[0m\u001b[0;34m(\u001b[0m\u001b[0;34m'--'\u001b[0m\u001b[0;34m,\u001b[0m \u001b[0;34m''\u001b[0m\u001b[0;34m)\u001b[0m\u001b[0;34m\u001b[0m\u001b[0m\n",
      "\u001b[0;31mAttributeError\u001b[0m: 'numpy.ndarray' object has no attribute 'find'"
     ]
    },
    {
     "data": {
      "image/png": "[encoded data removed]",
      "text/plain": [
       "<matplotlib.figure.Figure at 0x7f7ba8740be0>"
      ]
     },
     "metadata": {},
     "output_type": "display_data"
    }
   ],
   "source": [
    "sns.boxplot(x=\"CVLEGEND\", y=\"hour\", data=calls)"
   ]
  },
  {
   "cell_type": "markdown",
   "metadata": {},
   "source": [
    "### Question 5\n",
    "Now we turn to the location info of the dataset. The `BLKADDR` column contains information about where the events happened. Let's see if we can find out which road has the most crimes.\n",
    "\n",
    "First we need to extract the road name from the address. So let's look at the format of the address to see if there are any patterns there.\n"
   ]
  },
  {
   "cell_type": "code",
   "execution_count": 96,
   "metadata": {},
   "outputs": [
    {
     "data": {
      "text/plain": [
       "0                  2500 LE CONTE AVE\n",
       "1                  2200 SHATTUCK AVE\n",
       "2                 200 UNIVERSITY AVE\n",
       "3                    1900 SEVENTH ST\n",
       "4                    100 PARKSIDE DR\n",
       "5                     1500 PRINCE ST\n",
       "6                       300 MENLO PL\n",
       "7                  2317 SHATTUCK AVE\n",
       "8           ACTON STREET & PARKER ST\n",
       "9                    2100 SEVENTH ST\n",
       "10                  2500 COLLEGE AVE\n",
       "11    BOWDITCH STREET & CHANNING WAY\n",
       "12                 2000 FRANCISCO ST\n",
       "13                    2100 ASHBY AVE\n",
       "14                   2100 EMERSON ST\n",
       "15     SHATTUCK AVENUE & ALLSTON WAY\n",
       "16      UNIVERSITY AVENUE & GRANT ST\n",
       "17                 2900 CHANNING WAY\n",
       "18                   2500 DURANT AVE\n",
       "19                 1200 FRANCISCO ST\n",
       "Name: BLKADDR, dtype: object"
      ]
     },
     "execution_count": 96,
     "metadata": {},
     "output_type": "execute_result"
    }
   ],
   "source": [
    "calls[\"BLKADDR\"].head(20)"
   ]
  },
  {
   "cell_type": "markdown",
   "metadata": {},
   "source": [
    "From the samples, we can find out two patterns for the road name: \"NUMBER ROADNAME\" or \"ROAD1 & ROAD2\". We can start from here to extract the name of the roads."
   ]
  },
  {
   "cell_type": "markdown",
   "metadata": {},
   "source": [
    "### Question 5a\n",
    "Write a script to create a new column `road` in `calls` to store the road name of the event. For the \"ROAD1 & ROAD2\" format just use ROAD1.\n",
    "\n",
    "HINT 1: You should ignore N/A values (leave them unchanged in your result).\n",
    "\n",
    "HINT 2: Consider using `apply` for this problem if you can't figure out how to use the `str` methods of pandas."
   ]
  },
  {
   "cell_type": "code",
   "execution_count": 28,
   "metadata": {
    "collapsed": true
   },
   "outputs": [],
   "source": [
    "calls[\"road\"] = calls['BLKADDR'].str.replace('^\\d+ ', '').str.split(' &').str.get(0)"
   ]
  },
  {
   "cell_type": "code",
   "execution_count": 29,
   "metadata": {},
   "outputs": [
    {
     "name": "stdout",
     "output_type": "stream",
     "text": [
      "~~~~~~~~~~~~~~~~~~~~~~~~~~~~~~~~~~~~~~~~~~~~~~~~~~~~~~~~~~~~~~~~~~~~~\n",
      "Running tests\n",
      "\n",
      "---------------------------------------------------------------------\n",
      "Test summary\n",
      "    Passed: 1\n",
      "    Failed: 0\n",
      "[ooooooooook] 100.0% passed\n",
      "\n"
     ]
    },
    {
     "data": {
      "application/javascript": [
       "IPython.notebook.save_checkpoint();"
      ],
      "text/plain": [
       "<IPython.core.display.Javascript object>"
      ]
     },
     "metadata": {},
     "output_type": "display_data"
    },
    {
     "data": {
      "application/javascript": [
       "IPython.notebook.save_notebook();"
      ],
      "text/plain": [
       "<IPython.core.display.Javascript object>"
      ]
     },
     "metadata": {},
     "output_type": "display_data"
    },
    {
     "name": "stdout",
     "output_type": "stream",
     "text": [
      "Saving notebook... Saved 'lab03.ipynb'.\n",
      "Backup... 100% complete\n",
      "Backup successful for user: sungbin.andy.kang@berkeley.edu\n",
      "URL: https://okpy.org/cal/ds100/fa17/lab03/backups/ERVoyW\n",
      "NOTE: this is only a backup. To submit your assignment, use:\n",
      "\tpython3 ok --submit\n",
      "\n"
     ]
    }
   ],
   "source": [
    "_ = ok.grade('q05a')\n",
    "_ = ok.backup()"
   ]
  },
  {
   "cell_type": "markdown",
   "metadata": {},
   "source": [
    "### Question 5b\n",
    "After you successfully extract the road name. Let's look at the distribution and find out what may be the most dangerous roads! Use the above methods (`countplot`, `value_counts`) to find out the top 5 roads that has the most crimes. Save you results into `answer5b` as a list of strings."
   ]
  },
  {
   "cell_type": "code",
   "execution_count": 97,
   "metadata": {},
   "outputs": [
    {
     "data": {
      "text/plain": [
       "SHATTUCK AVE                   355\n",
       "UNIVERSITY AVE                 267\n",
       "SAN PABLO AVE                  155\n",
       "TELEGRAPH AVE                  153\n",
       "DURANT AVE                     141\n",
       "DWIGHT WAY                     120\n",
       "FOURTH ST                      113\n",
       "BANCROFT WAY                   104\n",
       "ALLSTON WAY                    103\n",
       "CHANNING WAY                   101\n",
       "ADELINE ST                      89\n",
       "ASHBY AVE                       87\n",
       "COLLEGE AVE                     82\n",
       "M L KING JR WAY                 82\n",
       "UNIVERSITY AVENUE               66\n",
       "MILVIA ST                       59\n",
       "HEARST AVE                      58\n",
       "GILMAN ST                       57\n",
       "OREGON ST                       57\n",
       "SHATTUCK AVENUE                 57\n",
       "CENTER ST                       53\n",
       "OXFORD ST                       53\n",
       "HASTE ST                        51\n",
       "KITTREDGE ST                    48\n",
       "PARKER ST                       46\n",
       "BERKELEY WAY                    45\n",
       "SACRAMENTO ST                   44\n",
       "SIXTH ST                        42\n",
       "DELAWARE ST                     41\n",
       "HEINZ AVE                       39\n",
       "                              ... \n",
       "POSEN AVE                        1\n",
       "GILMAN AVE                       1\n",
       "BRIDGE RD                        1\n",
       "CRAGMONT AVENUE                  1\n",
       "9TH ST                           1\n",
       "ADA ST                           1\n",
       "THE BRIDGE RD                    1\n",
       "HAWTHORNE TER                    1\n",
       "ARCADE AVE                       1\n",
       "RUSSELL ST.&COLLEGE AVE. ST      1\n",
       "HEARST AVENUE E                  1\n",
       "23RD AVE                         1\n",
       "FOLGER AVE                       1\n",
       "PARDEE ST                        1\n",
       "EDITH ST                         1\n",
       "HARMON STREET                    1\n",
       "PERALTA AVENUE                   1\n",
       "WEST FRONTAGE ROAD               1\n",
       "COMSTOCK CT                      1\n",
       "PEAR ST                          1\n",
       "CIMARRON DR                      1\n",
       "RC JOSH BIRMINGHAM PKWY          1\n",
       "54TH ST                          1\n",
       "SAN PABLO AVENUE 409             1\n",
       "VALLEY ST                        1\n",
       "CHILTON WAY                      1\n",
       "KENTUCKY AVE                     1\n",
       "ASHBY AVE/CLAREMONT BLVD         1\n",
       "HOLLY ST                         1\n",
       "SHATTUCK AVE/WARD ST             1\n",
       "Name: road, Length: 478, dtype: int64"
      ]
     },
     "execution_count": 97,
     "metadata": {},
     "output_type": "execute_result"
    }
   ],
   "source": [
    "calls[\"road\"].value_counts()"
   ]
  },
  {
   "cell_type": "code",
   "execution_count": 99,
   "metadata": {
    "collapsed": true,
    "tags": [
     "student"
    ]
   },
   "outputs": [],
   "source": [
    "answer5b=[\"SHATTUCK AVE\", \"UNIVERSITY AVE\", \"SAN PABLO AVE\", \"TELEGRAPH AVE\", \"DURANT AVE\"]"
   ]
  },
  {
   "cell_type": "code",
   "execution_count": 100,
   "metadata": {},
   "outputs": [
    {
     "name": "stdout",
     "output_type": "stream",
     "text": [
      "~~~~~~~~~~~~~~~~~~~~~~~~~~~~~~~~~~~~~~~~~~~~~~~~~~~~~~~~~~~~~~~~~~~~~\n",
      "Running tests\n",
      "\n",
      "---------------------------------------------------------------------\n",
      "Test summary\n",
      "    Passed: 1\n",
      "    Failed: 0\n",
      "[ooooooooook] 100.0% passed\n",
      "\n"
     ]
    },
    {
     "data": {
      "application/javascript": [
       "IPython.notebook.save_checkpoint();"
      ],
      "text/plain": [
       "<IPython.core.display.Javascript object>"
      ]
     },
     "metadata": {},
     "output_type": "display_data"
    },
    {
     "data": {
      "application/javascript": [
       "IPython.notebook.save_notebook();"
      ],
      "text/plain": [
       "<IPython.core.display.Javascript object>"
      ]
     },
     "metadata": {},
     "output_type": "display_data"
    },
    {
     "name": "stdout",
     "output_type": "stream",
     "text": [
      "Saving notebook... Saved 'lab03.ipynb'.\n",
      "Submit... 0.0% complete\n",
      "Could not submit: Late Submission of cal/ds100/fa17/lab03\n",
      "Backup... 100% complete\n",
      "\n"
     ]
    }
   ],
   "source": [
    "_ = ok.grade('q05b')\n",
    "_ = ok.backup()"
   ]
  },
  {
   "cell_type": "markdown",
   "metadata": {},
   "source": [
    "### Question 5c\n",
    "If we look carefully into the road names, we may find out that there are \"SHATTUCK AVE\" and \"SHATTUCK AVENUE\". They refer to the same thing with different names. This is a very common problem for data analysis. And we can simply replace all the \"AVENUE\" with \"AVE\" in this case. But let's first find out all the context where \"AVENUE\" appears to make sure we're doing the right things."
   ]
  },
  {
   "cell_type": "code",
   "execution_count": 101,
   "metadata": {},
   "outputs": [
    {
     "data": {
      "text/plain": [
       "UNIVERSITY AVENUE        66\n",
       "SHATTUCK AVENUE          57\n",
       "DURANT AVENUE            29\n",
       "TELEGRAPH AVENUE         28\n",
       "SAN PABLO AVENUE         27\n",
       "ASHBY AVENUE             22\n",
       "HEARST AVENUE            20\n",
       "COLLEGE AVENUE           13\n",
       "ALCATRAZ AVENUE          11\n",
       "MARIN AVENUE              5\n",
       "HILLEGASS AVENUE          5\n",
       "EUCLID AVENUE             4\n",
       "BENVENUE AVENUE           3\n",
       "PIEDMONT AVENUE           3\n",
       "COLUSA AVENUE             3\n",
       "STANFORD AVENUE           2\n",
       "STANNAGE AVENUE           2\n",
       "SAN PABLO AVENUE 301      2\n",
       "BONITA AVENUE             2\n",
       "LA LOMA AVENUE            2\n",
       "MCGEE AVENUE              1\n",
       "MARKET AVENUE             1\n",
       "PERALTA AVENUE            1\n",
       "HEARST AVENUE E           1\n",
       "SAN PABLO AVENUE 409      1\n",
       "SOLANO AVENUE             1\n",
       "POSEN AVENUE              1\n",
       "UNIVERSITY AVENUE 100     1\n",
       "CRAGMONT AVENUE           1\n",
       "Name: road, dtype: int64"
      ]
     },
     "execution_count": 101,
     "metadata": {},
     "output_type": "execute_result"
    }
   ],
   "source": [
    "calls['road'][\n",
    "    (~calls['road'].isnull())\n",
    "    & (calls['road'].str.contains('AVENUE'))\n",
    "].value_counts()"
   ]
  },
  {
   "cell_type": "markdown",
   "metadata": {},
   "source": [
    "The results looks good, except for that some names have a numerical suffix. But let's not worry about them for now.\n",
    "\n",
    "Create a new column in `calls` called `road_ave` that has all the values in the `road` column where \"AVENUE\" is replaced with \"AVE\"."
   ]
  },
  {
   "cell_type": "code",
   "execution_count": 102,
   "metadata": {
    "collapsed": true
   },
   "outputs": [],
   "source": [
    "calls[\"road_ave\"] = calls[\"road\"].str.replace(\"AVENUE\", \"AVE\")"
   ]
  },
  {
   "cell_type": "code",
   "execution_count": 103,
   "metadata": {},
   "outputs": [
    {
     "name": "stdout",
     "output_type": "stream",
     "text": [
      "~~~~~~~~~~~~~~~~~~~~~~~~~~~~~~~~~~~~~~~~~~~~~~~~~~~~~~~~~~~~~~~~~~~~~\n",
      "Running tests\n",
      "\n",
      "---------------------------------------------------------------------\n",
      "Test summary\n",
      "    Passed: 1\n",
      "    Failed: 0\n",
      "[ooooooooook] 100.0% passed\n",
      "\n"
     ]
    },
    {
     "data": {
      "application/javascript": [
       "IPython.notebook.save_checkpoint();"
      ],
      "text/plain": [
       "<IPython.core.display.Javascript object>"
      ]
     },
     "metadata": {},
     "output_type": "display_data"
    },
    {
     "data": {
      "application/javascript": [
       "IPython.notebook.save_notebook();"
      ],
      "text/plain": [
       "<IPython.core.display.Javascript object>"
      ]
     },
     "metadata": {},
     "output_type": "display_data"
    },
    {
     "name": "stdout",
     "output_type": "stream",
     "text": [
      "Saving notebook... Saved 'lab03.ipynb'.\n",
      "Submit... 0.0% complete\n",
      "Could not submit: Late Submission of cal/ds100/fa17/lab03\n",
      "Backup... 100% complete\n",
      "\n"
     ]
    }
   ],
   "source": [
    "_ = ok.grade('q05c')\n",
    "_ = ok.backup()"
   ]
  },
  {
   "cell_type": "markdown",
   "metadata": {},
   "source": [
    "## Submission\n",
    "\n",
    "Congrats! You are finished with this assignment. For convenience, we've included a cell below that runs all the OkPy tests."
   ]
  },
  {
   "cell_type": "code",
   "execution_count": 104,
   "metadata": {},
   "outputs": [
    {
     "name": "stdout",
     "output_type": "stream",
     "text": [
      "Running all tests...\n",
      "~~~~~~~~~~~~~~~~~~~~~~~~~~~~~~~~~~~~~~~~~~~~~~~~~~~~~~~~~~~~~~~~~~~~~\n",
      "Running tests\n",
      "\n",
      "---------------------------------------------------------------------\n",
      "Test summary\n",
      "    Passed: 1\n",
      "    Failed: 0\n",
      "[ooooooooook] 100.0% passed\n",
      "\n",
      "~~~~~~~~~~~~~~~~~~~~~~~~~~~~~~~~~~~~~~~~~~~~~~~~~~~~~~~~~~~~~~~~~~~~~\n",
      "Running tests\n",
      "\n",
      "---------------------------------------------------------------------\n",
      "Test summary\n",
      "    Passed: 1\n",
      "    Failed: 0\n",
      "[ooooooooook] 100.0% passed\n",
      "\n",
      "~~~~~~~~~~~~~~~~~~~~~~~~~~~~~~~~~~~~~~~~~~~~~~~~~~~~~~~~~~~~~~~~~~~~~\n",
      "Running tests\n",
      "\n",
      "---------------------------------------------------------------------\n",
      "Test summary\n",
      "    Passed: 1\n",
      "    Failed: 0\n",
      "[ooooooooook] 100.0% passed\n",
      "\n",
      "~~~~~~~~~~~~~~~~~~~~~~~~~~~~~~~~~~~~~~~~~~~~~~~~~~~~~~~~~~~~~~~~~~~~~\n",
      "Running tests\n",
      "\n",
      "---------------------------------------------------------------------\n",
      "Test summary\n",
      "    Passed: 1\n",
      "    Failed: 0\n",
      "[ooooooooook] 100.0% passed\n",
      "\n",
      "~~~~~~~~~~~~~~~~~~~~~~~~~~~~~~~~~~~~~~~~~~~~~~~~~~~~~~~~~~~~~~~~~~~~~\n",
      "Running tests\n",
      "\n",
      "---------------------------------------------------------------------\n",
      "Test summary\n",
      "    Passed: 1\n",
      "    Failed: 0\n",
      "[ooooooooook] 100.0% passed\n",
      "\n",
      "~~~~~~~~~~~~~~~~~~~~~~~~~~~~~~~~~~~~~~~~~~~~~~~~~~~~~~~~~~~~~~~~~~~~~\n",
      "Running tests\n",
      "\n",
      "---------------------------------------------------------------------\n",
      "Test summary\n",
      "    Passed: 1\n",
      "    Failed: 0\n",
      "[ooooooooook] 100.0% passed\n",
      "\n",
      "~~~~~~~~~~~~~~~~~~~~~~~~~~~~~~~~~~~~~~~~~~~~~~~~~~~~~~~~~~~~~~~~~~~~~\n",
      "Running tests\n",
      "\n",
      "---------------------------------------------------------------------\n",
      "Test summary\n",
      "    Passed: 1\n",
      "    Failed: 0\n",
      "[ooooooooook] 100.0% passed\n",
      "\n",
      "~~~~~~~~~~~~~~~~~~~~~~~~~~~~~~~~~~~~~~~~~~~~~~~~~~~~~~~~~~~~~~~~~~~~~\n",
      "Running tests\n",
      "\n",
      "---------------------------------------------------------------------\n",
      "Test summary\n",
      "    Passed: 1\n",
      "    Failed: 0\n",
      "[ooooooooook] 100.0% passed\n",
      "\n",
      "~~~~~~~~~~~~~~~~~~~~~~~~~~~~~~~~~~~~~~~~~~~~~~~~~~~~~~~~~~~~~~~~~~~~~\n",
      "Running tests\n",
      "\n",
      "---------------------------------------------------------------------\n",
      "Test summary\n",
      "    Passed: 1\n",
      "    Failed: 0\n",
      "[ooooooooook] 100.0% passed\n",
      "\n",
      "~~~~~~~~~~~~~~~~~~~~~~~~~~~~~~~~~~~~~~~~~~~~~~~~~~~~~~~~~~~~~~~~~~~~~\n",
      "Running tests\n",
      "\n",
      "---------------------------------------------------------------------\n",
      "Question 3c > Suite 1 > Case 1\n",
      "\n",
      ">>> def ascii_sum(ans):\n",
      "...     return sum([sum(map(ord, s.strip())) for s in ans])\n",
      ">>> ascii_sum(answer3c) == 2492\n",
      "False\n",
      "\n",
      "# Error: expected\n",
      "#     True\n",
      "# but got\n",
      "#     False\n",
      "\n",
      "Run only this test case with \"python3 ok -q q03c --suite 1 --case 1\"\n",
      "---------------------------------------------------------------------\n",
      "Test summary\n",
      "    Passed: 0\n",
      "    Failed: 1\n",
      "[k..........] 0.0% passed\n",
      "\n"
     ]
    }
   ],
   "source": [
    "import os\n",
    "print(\"Running all tests...\")\n",
    "_ = [ok.grade(q[:-3]) for q in os.listdir(\"ok_tests\") if q.startswith('q')]"
   ]
  },
  {
   "cell_type": "markdown",
   "metadata": {},
   "source": [
    "Now, run the cell below to submit your assignment to OkPy. The autograder should email you shortly with your autograded score. The autograder will only run once every 30 minutes.\n",
    "\n",
    "**If you're failing tests on the autograder but pass them locally**, you should simulate the autograder by doing the following:\n",
    "\n",
    "1. In the top menu, click Kernel -> Restart and Run all.\n",
    "2. Run the cell above to run each OkPy test.\n",
    "\n",
    "**You must make sure that you pass all the tests when running steps 1 and 2 in order.** If you are still failing autograder tests, you should double check your results."
   ]
  },
  {
   "cell_type": "code",
   "execution_count": null,
   "metadata": {},
   "outputs": [
    {
     "data": {
      "application/javascript": [
       "IPython.notebook.save_checkpoint();"
      ],
      "text/plain": [
       "<IPython.core.display.Javascript object>"
      ]
     },
     "metadata": {},
     "output_type": "display_data"
    }
   ],
   "source": [
    "_ = ok.submit()"
   ]
  },
  {
   "cell_type": "code",
   "execution_count": null,
   "metadata": {
    "collapsed": true
   },
   "outputs": [],
   "source": []
  }
 ],
 "metadata": {
  "kernelspec": {
   "display_name": "Python 3",
   "language": "python",
   "name": "python3"
  },
  "language_info": {
   "codemirror_mode": {
    "name": "ipython",
    "version": 3
   },
   "file_extension": ".py",
   "mimetype": "text/x-python",
   "name": "python",
   "nbconvert_exporter": "python",
   "pygments_lexer": "ipython3",
   "version": "3.6.1"
  }
 },
 "nbformat": 4,
 "nbformat_minor": 2
}
