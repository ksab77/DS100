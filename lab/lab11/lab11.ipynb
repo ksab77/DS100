{
 "cells": [
  {
   "cell_type": "markdown",
   "metadata": {},
   "source": [
    "# Lab 11: Feature Engineering & Cross-Validation\n",
    "\n",
    "In this lab, you will gain practice with using the scikit learn library to do some feature engineering and how to use cross-validation to produce a model with the least error for new data."
   ]
  },
  {
   "cell_type": "code",
   "execution_count": 1,
   "metadata": {},
   "outputs": [
    {
     "name": "stdout",
     "output_type": "stream",
     "text": [
      "=====================================================================\n",
      "Assignment: Lab 11\n",
      "OK, version v1.13.9\n",
      "=====================================================================\n",
      "\n"
     ]
    }
   ],
   "source": [
    "# Run this cell to set up your notebook\n",
    "import seaborn as sns\n",
    "import csv\n",
    "import numpy as np\n",
    "import pandas as pd\n",
    "import matplotlib.pyplot as plt\n",
    "%matplotlib inline\n",
    "sns.set()\n",
    "sns.set_context(\"talk\")\n",
    "\n",
    "from IPython.display import display, Latex, Markdown\n",
    "from client.api.notebook import Notebook\n",
    "ok = Notebook('lab11.ok')"
   ]
  },
  {
   "cell_type": "markdown",
   "metadata": {},
   "source": [
    "### Introduction\n",
    "\n",
    "For this lab, we will be using a toy dataset to predict the house prices in Boston with data provided by the `sklearn.datasets` package.\n",
    "\n",
    "Run the following cell to load the data. This will return a dictionary object which includes keys for:\n",
    "    - `data` : the data to learn\n",
    "    - `target` : the response vector\n",
    "    - `feature_names`: the column names\n",
    "    - `DESCR` : a full description of the data"
   ]
  },
  {
   "cell_type": "code",
   "execution_count": 2,
   "metadata": {
    "scrolled": true
   },
   "outputs": [
    {
     "name": "stdout",
     "output_type": "stream",
     "text": [
      "dict_keys(['data', 'target', 'feature_names', 'DESCR'])\n"
     ]
    }
   ],
   "source": [
    "from sklearn.datasets import load_boston\n",
    "\n",
    "boston_data = load_boston()\n",
    "print(boston_data.keys())"
   ]
  },
  {
   "cell_type": "markdown",
   "metadata": {},
   "source": [
    "A look at the `DESCR` attribute tells us the data contains these features:\n",
    "\n",
    "    1. CRIM      per capita crime rate by town\n",
    "    2. ZN        proportion of residential land zoned for lots over \n",
    "                 25,000 sq.ft.\n",
    "    3. INDUS     proportion of non-retail business acres per town\n",
    "    4. CHAS      Charles River dummy variable (= 1 if tract bounds \n",
    "                 river; 0 otherwise)\n",
    "    5. NOX       nitric oxides concentration (parts per 10 million)\n",
    "    6. RM        average number of rooms per dwelling\n",
    "    7. AGE       proportion of owner-occupied units built prior to 1940\n",
    "    8. DIS       weighted distances to five Boston employment centres\n",
    "    9. RAD       index of accessibility to radial highways\n",
    "    10. TAX      full-value property-tax rate per 10,000 USD\n",
    "    11. PTRATIO  pupil-teacher ratio by town\n",
    "    12. B        1000(Bk - 0.63)^2 where Bk is the proportion of blacks \n",
    "                 by town\n",
    "    13. LSTAT    % lower status of the population\n",
    "    \n",
    "Let's now convert this data into a pandas DataFrame. "
   ]
  },
  {
   "cell_type": "code",
   "execution_count": 3,
   "metadata": {},
   "outputs": [
    {
     "data": {
      "text/html": [
       "<div>\n",
       "<style>\n",
       "    .dataframe thead tr:only-child th {\n",
       "        text-align: right;\n",
       "    }\n",
       "\n",
       "    .dataframe thead th {\n",
       "        text-align: left;\n",
       "    }\n",
       "\n",
       "    .dataframe tbody tr th {\n",
       "        vertical-align: top;\n",
       "    }\n",
       "</style>\n",
       "<table border=\"1\" class=\"dataframe\">\n",
       "  <thead>\n",
       "    <tr style=\"text-align: right;\">\n",
       "      <th></th>\n",
       "      <th>CRIM</th>\n",
       "      <th>ZN</th>\n",
       "      <th>INDUS</th>\n",
       "      <th>CHAS</th>\n",
       "      <th>NOX</th>\n",
       "      <th>RM</th>\n",
       "      <th>AGE</th>\n",
       "      <th>DIS</th>\n",
       "      <th>RAD</th>\n",
       "      <th>TAX</th>\n",
       "      <th>PTRATIO</th>\n",
       "      <th>B</th>\n",
       "      <th>LSTAT</th>\n",
       "    </tr>\n",
       "  </thead>\n",
       "  <tbody>\n",
       "    <tr>\n",
       "      <th>0</th>\n",
       "      <td>0.00632</td>\n",
       "      <td>18.0</td>\n",
       "      <td>2.31</td>\n",
       "      <td>0.0</td>\n",
       "      <td>0.538</td>\n",
       "      <td>6.575</td>\n",
       "      <td>65.2</td>\n",
       "      <td>4.0900</td>\n",
       "      <td>1.0</td>\n",
       "      <td>296.0</td>\n",
       "      <td>15.3</td>\n",
       "      <td>396.90</td>\n",
       "      <td>4.98</td>\n",
       "    </tr>\n",
       "    <tr>\n",
       "      <th>1</th>\n",
       "      <td>0.02731</td>\n",
       "      <td>0.0</td>\n",
       "      <td>7.07</td>\n",
       "      <td>0.0</td>\n",
       "      <td>0.469</td>\n",
       "      <td>6.421</td>\n",
       "      <td>78.9</td>\n",
       "      <td>4.9671</td>\n",
       "      <td>2.0</td>\n",
       "      <td>242.0</td>\n",
       "      <td>17.8</td>\n",
       "      <td>396.90</td>\n",
       "      <td>9.14</td>\n",
       "    </tr>\n",
       "    <tr>\n",
       "      <th>2</th>\n",
       "      <td>0.02729</td>\n",
       "      <td>0.0</td>\n",
       "      <td>7.07</td>\n",
       "      <td>0.0</td>\n",
       "      <td>0.469</td>\n",
       "      <td>7.185</td>\n",
       "      <td>61.1</td>\n",
       "      <td>4.9671</td>\n",
       "      <td>2.0</td>\n",
       "      <td>242.0</td>\n",
       "      <td>17.8</td>\n",
       "      <td>392.83</td>\n",
       "      <td>4.03</td>\n",
       "    </tr>\n",
       "    <tr>\n",
       "      <th>3</th>\n",
       "      <td>0.03237</td>\n",
       "      <td>0.0</td>\n",
       "      <td>2.18</td>\n",
       "      <td>0.0</td>\n",
       "      <td>0.458</td>\n",
       "      <td>6.998</td>\n",
       "      <td>45.8</td>\n",
       "      <td>6.0622</td>\n",
       "      <td>3.0</td>\n",
       "      <td>222.0</td>\n",
       "      <td>18.7</td>\n",
       "      <td>394.63</td>\n",
       "      <td>2.94</td>\n",
       "    </tr>\n",
       "    <tr>\n",
       "      <th>4</th>\n",
       "      <td>0.06905</td>\n",
       "      <td>0.0</td>\n",
       "      <td>2.18</td>\n",
       "      <td>0.0</td>\n",
       "      <td>0.458</td>\n",
       "      <td>7.147</td>\n",
       "      <td>54.2</td>\n",
       "      <td>6.0622</td>\n",
       "      <td>3.0</td>\n",
       "      <td>222.0</td>\n",
       "      <td>18.7</td>\n",
       "      <td>396.90</td>\n",
       "      <td>5.33</td>\n",
       "    </tr>\n",
       "  </tbody>\n",
       "</table>\n",
       "</div>"
      ],
      "text/plain": [
       "      CRIM    ZN  INDUS  CHAS    NOX     RM   AGE     DIS  RAD    TAX  \\\n",
       "0  0.00632  18.0   2.31   0.0  0.538  6.575  65.2  4.0900  1.0  296.0   \n",
       "1  0.02731   0.0   7.07   0.0  0.469  6.421  78.9  4.9671  2.0  242.0   \n",
       "2  0.02729   0.0   7.07   0.0  0.469  7.185  61.1  4.9671  2.0  242.0   \n",
       "3  0.03237   0.0   2.18   0.0  0.458  6.998  45.8  6.0622  3.0  222.0   \n",
       "4  0.06905   0.0   2.18   0.0  0.458  7.147  54.2  6.0622  3.0  222.0   \n",
       "\n",
       "   PTRATIO       B  LSTAT  \n",
       "0     15.3  396.90   4.98  \n",
       "1     17.8  396.90   9.14  \n",
       "2     17.8  392.83   4.03  \n",
       "3     18.7  394.63   2.94  \n",
       "4     18.7  396.90   5.33  "
      ]
     },
     "execution_count": 3,
     "metadata": {},
     "output_type": "execute_result"
    }
   ],
   "source": [
    "boston = pd.DataFrame(boston_data.data, columns=boston_data.feature_names)\n",
    "boston.head()"
   ]
  },
  {
   "cell_type": "markdown",
   "metadata": {},
   "source": [
    "### Question 1\n",
    "\n",
    "Let's train some data! Before we can do this however, we need to split our data into a training set and validation set. These hold out points will be used to choose our best model. Additionally, remember that the response vector (housing prices) lives separate of the data in the `target` attribute.\n",
    "\n",
    "Use the [`train_test_split`](http://scikit-learn.org/stable/modules/generated/sklearn.model_selection.train_test_split.html) function to split out one third of the training data for validation. Call the resulting datasets `X_train`, `X_test`, `Y_train`, `Y_test`."
   ]
  },
  {
   "cell_type": "code",
   "execution_count": 17,
   "metadata": {
    "tags": [
     "student"
    ]
   },
   "outputs": [
    {
     "name": "stdout",
     "output_type": "stream",
     "text": [
      "(339, 13)\n",
      "(167, 13)\n",
      "(339,)\n",
      "(167,)\n"
     ]
    },
    {
     "name": "stderr",
     "output_type": "stream",
     "text": [
      "/home/ksab77/anaconda3/envs/ds100/lib/python3.6/site-packages/sklearn/model_selection/_split.py:2026: FutureWarning: From version 0.21, test_size will always complement train_size unless both are specified.\n",
      "  FutureWarning)\n"
     ]
    }
   ],
   "source": [
    "from sklearn.model_selection import train_test_split\n",
    "np.random.seed(42)\n",
    "\n",
    "X = boston\n",
    "Y = pd.Series(boston_data.target)\n",
    "\n",
    "X_train, X_test, Y_train, Y_test = train_test_split(X, train_size=0.67)[0], train_test_split(X, train_size=0.67)[1], train_test_split(Y, train_size=0.67)[0], train_test_split(Y, train_size=0.67)[1]\n",
    "print(X_train.shape)\n",
    "print(X_test.shape)\n",
    "print(Y_train.shape)\n",
    "print(Y_test.shape)"
   ]
  },
  {
   "cell_type": "code",
   "execution_count": 18,
   "metadata": {
    "tags": [
     "test",
     "q01"
    ]
   },
   "outputs": [
    {
     "name": "stdout",
     "output_type": "stream",
     "text": [
      "~~~~~~~~~~~~~~~~~~~~~~~~~~~~~~~~~~~~~~~~~~~~~~~~~~~~~~~~~~~~~~~~~~~~~\n",
      "Running tests\n",
      "\n",
      "---------------------------------------------------------------------\n",
      "Test summary\n",
      "    Passed: 1\n",
      "    Failed: 0\n",
      "[ooooooooook] 100.0% passed\n",
      "\n"
     ]
    },
    {
     "data": {
      "application/javascript": [
       "IPython.notebook.save_checkpoint();"
      ],
      "text/plain": [
       "<IPython.core.display.Javascript object>"
      ]
     },
     "metadata": {},
     "output_type": "display_data"
    },
    {
     "data": {
      "application/javascript": [
       "IPython.notebook.save_notebook();"
      ],
      "text/plain": [
       "<IPython.core.display.Javascript object>"
      ]
     },
     "metadata": {},
     "output_type": "display_data"
    },
    {
     "name": "stdout",
     "output_type": "stream",
     "text": [
      "Saving notebook... Saved 'lab11.ipynb'.\n",
      "Backup... 100% complete\n",
      "Backup successful for user: sungbin.andy.kang@berkeley.edu\n",
      "URL: https://okpy.org/cal/ds100/fa17/lab11/backups/48R3D0\n",
      "NOTE: this is only a backup. To submit your assignment, use:\n",
      "\tpython3 ok --submit\n",
      "\n"
     ]
    }
   ],
   "source": [
    "_ = ok.grade('q01')\n",
    "_ = ok.backup()"
   ]
  },
  {
   "cell_type": "markdown",
   "metadata": {},
   "source": [
    "### Question 2\n",
    "\n",
    "As a warmup, let's regress a line to this data using `sklearn`. We've imported `sklearn.linear_model` as lm, so you can use that instead of typing out the whole module name. Running the cell should create a scatter plot for our predictions vs the true prices."
   ]
  },
  {
   "cell_type": "code",
   "execution_count": 20,
   "metadata": {
    "tags": [
     "student"
    ]
   },
   "outputs": [
    {
     "data": {
      "text/plain": [
       "Text(0.5,1,'Prices vs Predicted prices')"
      ]
     },
     "execution_count": 20,
     "metadata": {},
     "output_type": "execute_result"
    },
    {
     "data": {
      "image/png": "[encoded data removed]",
      "text/plain": [
       "<matplotlib.figure.Figure at 0x7ff600bd7fd0>"
      ]
     },
     "metadata": {},
     "output_type": "display_data"
    }
   ],
   "source": [
    "import sklearn.linear_model as lm\n",
    "\n",
    "linear_clf = lm.LinearRegression()\n",
    "\n",
    "# Fit your classifier\n",
    "linear_clf.fit(X_train, Y_train)\n",
    "\n",
    "# Predict points from our test set\n",
    "Y_pred = linear_clf.predict(X_test)\n",
    "\n",
    "# Plot predicted vs true prices\n",
    "plt.scatter(Y_test, Y_pred)\n",
    "plt.xlabel(\"Prices\")\n",
    "plt.ylabel(\"Predicted prices\")\n",
    "plt.title(\"Prices vs Predicted prices\")"
   ]
  },
  {
   "cell_type": "markdown",
   "metadata": {},
   "source": [
    "### Question 3\n",
    "\n",
    "As shown from the scatter plot, our model is not perfect. Ideally, we would see a line of slope 1 from the points if our model was 100% accurate.\n",
    "\n",
    "Now let's also compute our mean squared error. Fill out the function below and compute the MSE for our predictions on both the training data `X_train` and the test set `X_test`."
   ]
  },
  {
   "cell_type": "code",
   "execution_count": 50,
   "metadata": {},
   "outputs": [
    {
     "data": {
      "text/plain": [
       "LinearRegression(copy_X=True, fit_intercept=True, n_jobs=1, normalize=False)"
      ]
     },
     "execution_count": 50,
     "metadata": {},
     "output_type": "execute_result"
    }
   ],
   "source": [
    "linear_clf.fit(X_train, Y_train)"
   ]
  },
  {
   "cell_type": "code",
   "execution_count": 52,
   "metadata": {},
   "outputs": [
    {
     "data": {
      "text/plain": [
       "478    10.23300\n",
       "26      0.67191\n",
       "7       0.14455\n",
       "492     0.11132\n",
       "108     0.12802\n",
       "37      0.08014\n",
       "157     1.22358\n",
       "472     3.56868\n",
       "118     0.13058\n",
       "114     0.14231\n",
       "175     0.06664\n",
       "192     0.08664\n",
       "272     0.11460\n",
       "144     2.77974\n",
       "373    11.10810\n",
       "383     7.99248\n",
       "356     8.98296\n",
       "277     0.06127\n",
       "220     0.35809\n",
       "450     6.71772\n",
       "141     1.62864\n",
       "369     5.66998\n",
       "67      0.05789\n",
       "361     3.83684\n",
       "168     2.30040\n",
       "499     0.17783\n",
       "394    13.35980\n",
       "400    25.04610\n",
       "193     0.02187\n",
       "249     0.19073\n",
       "         ...   \n",
       "276     0.10469\n",
       "443     9.96654\n",
       "191     0.06911\n",
       "385    16.81180\n",
       "293     0.08265\n",
       "413    28.65580\n",
       "343     0.02543\n",
       "257     0.61154\n",
       "308     0.49298\n",
       "149     2.73397\n",
       "130     0.34006\n",
       "151     1.49632\n",
       "359     4.26131\n",
       "99      0.06860\n",
       "372     8.26725\n",
       "87      0.07151\n",
       "458     7.75223\n",
       "330     0.04544\n",
       "214     0.28955\n",
       "466     3.77498\n",
       "121     0.07165\n",
       "505     0.04741\n",
       "20      1.25179\n",
       "188     0.12579\n",
       "71      0.15876\n",
       "106     0.17120\n",
       "270     0.29916\n",
       "348     0.01501\n",
       "435    11.16040\n",
       "102     0.22876\n",
       "Name: CRIM, Length: 339, dtype: float64"
      ]
     },
     "execution_count": 52,
     "metadata": {},
     "output_type": "execute_result"
    }
   ],
   "source": [
    "X_train[\"CRIM\"]"
   ]
  },
  {
   "cell_type": "code",
   "execution_count": 51,
   "metadata": {},
   "outputs": [
    {
     "ename": "ValueError",
     "evalue": "Expected 2D array, got 1D array instead:\narray=[  1.02330000e+01   6.71910000e-01   1.44550000e-01   1.11320000e-01\n   1.28020000e-01   8.01400000e-02   1.22358000e+00   3.56868000e+00\n   1.30580000e-01   1.42310000e-01   6.66400000e-02   8.66400000e-02\n   1.14600000e-01   2.77974000e+00   1.11081000e+01   7.99248000e+00\n   8.98296000e+00   6.12700000e-02   3.58090000e-01   6.71772000e+00\n   1.62864000e+00   5.66998000e+00   5.78900000e-02   3.83684000e+00\n   2.30040000e+00   1.77830000e-01   1.33598000e+01   2.50461000e+01\n   2.18700000e-02   1.90730000e-01   2.63630000e-01   1.10874000e+01\n   2.37934000e+00   4.20300000e-02   1.12658000e+00   6.23560000e-01\n   5.51500000e-02   3.55100000e-02   1.64390000e-01   2.92400000e+00\n   1.51902000e+00   3.15000000e-02   4.62960000e-01   7.89600000e-02\n   7.90410000e-01   4.75237000e+00   3.68940000e-01   1.44760000e-01\n   9.06000000e-03   9.26600000e-02   2.81838000e+00   3.84970000e+00\n   2.48017000e+01   2.98190000e-01   5.34120000e-01   5.11830000e-01\n   2.43938000e+01   4.87141000e+00   9.74400000e-02   4.01100000e-02\n   5.44520000e-01   4.89822000e+00   1.96570000e-01   3.87100000e-02\n   2.36482000e+01   1.03280000e-01   1.00840000e-01   5.30200000e-02\n   7.85700000e-01   8.82900000e-02   3.47428000e+00   6.07600000e-02\n   1.30100000e-02   1.34284000e+00   1.65660000e+00   5.42500000e-02\n   7.67202000e+00   8.30800000e-02   4.02020000e-01   2.24890000e-01\n   2.00849000e+01   2.11610000e-01   4.46200000e-02   1.75050000e-01\n   2.45220000e-01   1.80028000e+00   6.39312000e+00   5.56100000e-02\n   5.37200000e-02   3.76800000e-02   9.82349000e+00   2.15505000e+00\n   5.87205000e+00   2.36862000e+00   7.36711000e+00   4.29700000e-02\n   1.50380000e-01   2.07460000e-01   1.15040000e-01   4.09740000e+00\n   9.25200000e-02   9.60400000e-02   1.20830000e-01   1.70900000e-02\n   9.29900000e-02   1.00080000e-01   2.17700000e-02   3.39830000e-01\n   2.37857000e+00   3.53700000e-02   4.30100000e-02   5.11358000e+01\n   9.91655000e+00   1.96500000e-02   1.69020000e-01   5.47900000e-02\n   6.14700000e-01   1.20482000e+01   1.14250000e-01   8.81250000e-01\n   8.79212000e+00   7.88600000e-02   5.02300000e-02   8.89762000e+01\n   5.82401000e+00   5.20177000e+00   1.41030000e-01   8.19900000e-02\n   6.53876000e+00   1.36781000e+01   1.23290000e-01   5.78000000e-02\n   2.63548000e+00   2.49800000e-02   5.08300000e-02   4.83567000e+00\n   8.20058000e+00   3.31470000e-01   3.69200000e-01   2.24236000e+00\n   3.22640000e-01   4.66600000e-02   6.63510000e-01   5.75290000e-01\n   1.71340000e-01   6.89900000e-02   7.24400000e-02   3.15330000e-01\n   2.07162000e+01   6.15100000e-02   2.59150000e-01   1.09600000e-02\n   1.80846000e+01   1.31170000e-01   1.84982000e+01   7.52601000e+00\n   3.29820000e-01   1.35222000e+01   1.22690000e-01   1.78990000e-01\n   3.58400000e-02   1.50100000e-02   5.73500000e-02   1.02900000e-01\n   5.60200000e-02   1.58603000e+01   1.42502000e+00   9.37800000e-02\n   6.41700000e-02   7.72990000e-01   1.20742000e+00   3.32105000e+00\n   9.59571000e+00   2.89900000e-02   4.07710000e-01   1.22040000e-01\n   4.33700000e-02   1.13290000e-01   1.52880000e+01   9.18702000e+00\n   6.64200000e-02   1.27440000e-01   2.20511000e+01   5.29305000e+00\n   2.29690000e-01   6.12900000e-02   4.81900000e-02   1.08342000e+01\n   6.90500000e-02   1.53800000e-02   8.24809000e+00   1.48660000e-01\n   3.82140000e-01   1.00623000e+01   1.40520000e-01   1.22472000e+01\n   2.31390000e+00   8.18700000e-02   3.61500000e-02   1.98020000e-01\n   1.71710000e-01   2.29270000e-01   1.38799000e+00   5.78340000e-01\n   2.41030000e-01   1.77800000e-02   5.44114000e+00   9.55770000e-01\n   8.64476000e+00   5.37000000e-01   5.40110000e-01   4.59000000e-02\n   1.83377000e+00   9.33889000e+00   2.49800000e-01   1.10270000e-01\n   5.57780000e-01   3.25430000e-01   5.73116000e+00   2.11240000e-01\n   3.03470000e-01   1.30751000e+01   1.95100000e-02   4.41700000e-02\n   6.37960000e-01   2.44668000e+00   3.35900000e-02   1.78667000e+01\n   3.16360000e+00   1.19511000e+01   4.56000000e-02   2.10380000e-01\n   9.39063000e+00   1.09590000e-01   3.04100000e-02   5.20580000e-01\n   2.51990000e-01   2.17190000e-01   1.29320000e-01   6.65492000e+00\n   2.14090000e-01   2.79570000e-01   7.83932000e+00   1.00000000e-01\n   6.21100000e-02   9.06500000e-02   3.44500000e-02   1.46336000e+00\n   1.59360000e-01   7.01300000e-02   1.42362000e+01   9.06800000e-02\n   3.49400000e-01   6.56650000e-01   1.32620000e-01   4.98100000e-02\n   8.15174000e+00   2.73100000e-02   6.28807000e+00   1.50860000e-01\n   2.19770000e-01   1.18123000e+01   4.11300000e-02   1.36420000e-01\n   1.61282000e+00   8.49213000e+00   8.25260000e-01   3.76619000e+01\n   3.69695000e+00   3.93200000e-02   5.49700000e-02   1.43337000e+01\n   5.36000000e-02   3.11300000e-02   5.50070000e-01   1.06120000e-01\n   6.29760000e-01   2.53560000e-01   5.66000000e-02   2.25971000e+01\n   2.21880000e-01   2.01019000e+00   6.61700000e-02   2.39120000e-01\n   9.76170000e-01   7.50300000e-02   5.69175000e+00   4.75470000e-01\n   1.27570000e-01   1.36000000e-02   4.22239000e+00   8.87300000e-02\n   3.69311000e+00   8.44700000e-02   6.71800000e-01   8.37000000e-02\n   4.52700000e-02   5.82115000e+00   7.87500000e-02   2.44953000e+00\n   1.54450000e-01   2.53870000e-01   3.04900000e-02   3.30450000e-01\n   8.22100000e-02   8.52040000e-01   2.69380000e-01   6.80117000e+00\n   1.27346000e+00   1.04690000e-01   9.96654000e+00   6.91100000e-02\n   1.68118000e+01   8.26500000e-02   2.86558000e+01   2.54300000e-02\n   6.11540000e-01   4.92980000e-01   2.73397000e+00   3.40060000e-01\n   1.49632000e+00   4.26131000e+00   6.86000000e-02   8.26725000e+00\n   7.15100000e-02   7.75223000e+00   4.54400000e-02   2.89550000e-01\n   3.77498000e+00   7.16500000e-02   4.74100000e-02   1.25179000e+00\n   1.25790000e-01   1.58760000e-01   1.71200000e-01   2.99160000e-01\n   1.50100000e-02   1.11604000e+01   2.28760000e-01].\nReshape your data either using array.reshape(-1, 1) if your data has a single feature or array.reshape(1, -1) if it contains a single sample.",
     "output_type": "error",
     "traceback": [
      "\u001b[0;31m---------------------------------------------------------------------------\u001b[0m",
      "\u001b[0;31mValueError\u001b[0m                                Traceback (most recent call last)",
      "\u001b[0;32m<ipython-input-51-9616fc4755ba>\u001b[0m in \u001b[0;36m<module>\u001b[0;34m()\u001b[0m\n\u001b[0;32m----> 1\u001b[0;31m \u001b[0mlinear_clf\u001b[0m\u001b[0;34m.\u001b[0m\u001b[0mfit\u001b[0m\u001b[0;34m(\u001b[0m\u001b[0mX_train\u001b[0m\u001b[0;34m[\u001b[0m\u001b[0;34m\"CRIM\"\u001b[0m\u001b[0;34m]\u001b[0m\u001b[0;34m,\u001b[0m \u001b[0mY_train\u001b[0m\u001b[0;34m)\u001b[0m\u001b[0;34m\u001b[0m\u001b[0m\n\u001b[0m",
      "\u001b[0;32m~/anaconda3/envs/ds100/lib/python3.6/site-packages/sklearn/linear_model/base.py\u001b[0m in \u001b[0;36mfit\u001b[0;34m(self, X, y, sample_weight)\u001b[0m\n\u001b[1;32m    480\u001b[0m         \u001b[0mn_jobs_\u001b[0m \u001b[0;34m=\u001b[0m \u001b[0mself\u001b[0m\u001b[0;34m.\u001b[0m\u001b[0mn_jobs\u001b[0m\u001b[0;34m\u001b[0m\u001b[0m\n\u001b[1;32m    481\u001b[0m         X, y = check_X_y(X, y, accept_sparse=['csr', 'csc', 'coo'],\n\u001b[0;32m--> 482\u001b[0;31m                          y_numeric=True, multi_output=True)\n\u001b[0m\u001b[1;32m    483\u001b[0m \u001b[0;34m\u001b[0m\u001b[0m\n\u001b[1;32m    484\u001b[0m         \u001b[0;32mif\u001b[0m \u001b[0msample_weight\u001b[0m \u001b[0;32mis\u001b[0m \u001b[0;32mnot\u001b[0m \u001b[0;32mNone\u001b[0m \u001b[0;32mand\u001b[0m \u001b[0mnp\u001b[0m\u001b[0;34m.\u001b[0m\u001b[0matleast_1d\u001b[0m\u001b[0;34m(\u001b[0m\u001b[0msample_weight\u001b[0m\u001b[0;34m)\u001b[0m\u001b[0;34m.\u001b[0m\u001b[0mndim\u001b[0m \u001b[0;34m>\u001b[0m \u001b[0;36m1\u001b[0m\u001b[0;34m:\u001b[0m\u001b[0;34m\u001b[0m\u001b[0m\n",
      "\u001b[0;32m~/anaconda3/envs/ds100/lib/python3.6/site-packages/sklearn/utils/validation.py\u001b[0m in \u001b[0;36mcheck_X_y\u001b[0;34m(X, y, accept_sparse, dtype, order, copy, force_all_finite, ensure_2d, allow_nd, multi_output, ensure_min_samples, ensure_min_features, y_numeric, warn_on_dtype, estimator)\u001b[0m\n\u001b[1;32m    571\u001b[0m     X = check_array(X, accept_sparse, dtype, order, copy, force_all_finite,\n\u001b[1;32m    572\u001b[0m                     \u001b[0mensure_2d\u001b[0m\u001b[0;34m,\u001b[0m \u001b[0mallow_nd\u001b[0m\u001b[0;34m,\u001b[0m \u001b[0mensure_min_samples\u001b[0m\u001b[0;34m,\u001b[0m\u001b[0;34m\u001b[0m\u001b[0m\n\u001b[0;32m--> 573\u001b[0;31m                     ensure_min_features, warn_on_dtype, estimator)\n\u001b[0m\u001b[1;32m    574\u001b[0m     \u001b[0;32mif\u001b[0m \u001b[0mmulti_output\u001b[0m\u001b[0;34m:\u001b[0m\u001b[0;34m\u001b[0m\u001b[0m\n\u001b[1;32m    575\u001b[0m         y = check_array(y, 'csr', force_all_finite=True, ensure_2d=False,\n",
      "\u001b[0;32m~/anaconda3/envs/ds100/lib/python3.6/site-packages/sklearn/utils/validation.py\u001b[0m in \u001b[0;36mcheck_array\u001b[0;34m(array, accept_sparse, dtype, order, copy, force_all_finite, ensure_2d, allow_nd, ensure_min_samples, ensure_min_features, warn_on_dtype, estimator)\u001b[0m\n\u001b[1;32m    439\u001b[0m                     \u001b[0;34m\"Reshape your data either using array.reshape(-1, 1) if \"\u001b[0m\u001b[0;34m\u001b[0m\u001b[0m\n\u001b[1;32m    440\u001b[0m                     \u001b[0;34m\"your data has a single feature or array.reshape(1, -1) \"\u001b[0m\u001b[0;34m\u001b[0m\u001b[0m\n\u001b[0;32m--> 441\u001b[0;31m                     \"if it contains a single sample.\".format(array))\n\u001b[0m\u001b[1;32m    442\u001b[0m             \u001b[0marray\u001b[0m \u001b[0;34m=\u001b[0m \u001b[0mnp\u001b[0m\u001b[0;34m.\u001b[0m\u001b[0matleast_2d\u001b[0m\u001b[0;34m(\u001b[0m\u001b[0marray\u001b[0m\u001b[0;34m)\u001b[0m\u001b[0;34m\u001b[0m\u001b[0m\n\u001b[1;32m    443\u001b[0m             \u001b[0;31m# To ensure that array flags are maintained\u001b[0m\u001b[0;34m\u001b[0m\u001b[0;34m\u001b[0m\u001b[0m\n",
      "\u001b[0;31mValueError\u001b[0m: Expected 2D array, got 1D array instead:\narray=[  1.02330000e+01   6.71910000e-01   1.44550000e-01   1.11320000e-01\n   1.28020000e-01   8.01400000e-02   1.22358000e+00   3.56868000e+00\n   1.30580000e-01   1.42310000e-01   6.66400000e-02   8.66400000e-02\n   1.14600000e-01   2.77974000e+00   1.11081000e+01   7.99248000e+00\n   8.98296000e+00   6.12700000e-02   3.58090000e-01   6.71772000e+00\n   1.62864000e+00   5.66998000e+00   5.78900000e-02   3.83684000e+00\n   2.30040000e+00   1.77830000e-01   1.33598000e+01   2.50461000e+01\n   2.18700000e-02   1.90730000e-01   2.63630000e-01   1.10874000e+01\n   2.37934000e+00   4.20300000e-02   1.12658000e+00   6.23560000e-01\n   5.51500000e-02   3.55100000e-02   1.64390000e-01   2.92400000e+00\n   1.51902000e+00   3.15000000e-02   4.62960000e-01   7.89600000e-02\n   7.90410000e-01   4.75237000e+00   3.68940000e-01   1.44760000e-01\n   9.06000000e-03   9.26600000e-02   2.81838000e+00   3.84970000e+00\n   2.48017000e+01   2.98190000e-01   5.34120000e-01   5.11830000e-01\n   2.43938000e+01   4.87141000e+00   9.74400000e-02   4.01100000e-02\n   5.44520000e-01   4.89822000e+00   1.96570000e-01   3.87100000e-02\n   2.36482000e+01   1.03280000e-01   1.00840000e-01   5.30200000e-02\n   7.85700000e-01   8.82900000e-02   3.47428000e+00   6.07600000e-02\n   1.30100000e-02   1.34284000e+00   1.65660000e+00   5.42500000e-02\n   7.67202000e+00   8.30800000e-02   4.02020000e-01   2.24890000e-01\n   2.00849000e+01   2.11610000e-01   4.46200000e-02   1.75050000e-01\n   2.45220000e-01   1.80028000e+00   6.39312000e+00   5.56100000e-02\n   5.37200000e-02   3.76800000e-02   9.82349000e+00   2.15505000e+00\n   5.87205000e+00   2.36862000e+00   7.36711000e+00   4.29700000e-02\n   1.50380000e-01   2.07460000e-01   1.15040000e-01   4.09740000e+00\n   9.25200000e-02   9.60400000e-02   1.20830000e-01   1.70900000e-02\n   9.29900000e-02   1.00080000e-01   2.17700000e-02   3.39830000e-01\n   2.37857000e+00   3.53700000e-02   4.30100000e-02   5.11358000e+01\n   9.91655000e+00   1.96500000e-02   1.69020000e-01   5.47900000e-02\n   6.14700000e-01   1.20482000e+01   1.14250000e-01   8.81250000e-01\n   8.79212000e+00   7.88600000e-02   5.02300000e-02   8.89762000e+01\n   5.82401000e+00   5.20177000e+00   1.41030000e-01   8.19900000e-02\n   6.53876000e+00   1.36781000e+01   1.23290000e-01   5.78000000e-02\n   2.63548000e+00   2.49800000e-02   5.08300000e-02   4.83567000e+00\n   8.20058000e+00   3.31470000e-01   3.69200000e-01   2.24236000e+00\n   3.22640000e-01   4.66600000e-02   6.63510000e-01   5.75290000e-01\n   1.71340000e-01   6.89900000e-02   7.24400000e-02   3.15330000e-01\n   2.07162000e+01   6.15100000e-02   2.59150000e-01   1.09600000e-02\n   1.80846000e+01   1.31170000e-01   1.84982000e+01   7.52601000e+00\n   3.29820000e-01   1.35222000e+01   1.22690000e-01   1.78990000e-01\n   3.58400000e-02   1.50100000e-02   5.73500000e-02   1.02900000e-01\n   5.60200000e-02   1.58603000e+01   1.42502000e+00   9.37800000e-02\n   6.41700000e-02   7.72990000e-01   1.20742000e+00   3.32105000e+00\n   9.59571000e+00   2.89900000e-02   4.07710000e-01   1.22040000e-01\n   4.33700000e-02   1.13290000e-01   1.52880000e+01   9.18702000e+00\n   6.64200000e-02   1.27440000e-01   2.20511000e+01   5.29305000e+00\n   2.29690000e-01   6.12900000e-02   4.81900000e-02   1.08342000e+01\n   6.90500000e-02   1.53800000e-02   8.24809000e+00   1.48660000e-01\n   3.82140000e-01   1.00623000e+01   1.40520000e-01   1.22472000e+01\n   2.31390000e+00   8.18700000e-02   3.61500000e-02   1.98020000e-01\n   1.71710000e-01   2.29270000e-01   1.38799000e+00   5.78340000e-01\n   2.41030000e-01   1.77800000e-02   5.44114000e+00   9.55770000e-01\n   8.64476000e+00   5.37000000e-01   5.40110000e-01   4.59000000e-02\n   1.83377000e+00   9.33889000e+00   2.49800000e-01   1.10270000e-01\n   5.57780000e-01   3.25430000e-01   5.73116000e+00   2.11240000e-01\n   3.03470000e-01   1.30751000e+01   1.95100000e-02   4.41700000e-02\n   6.37960000e-01   2.44668000e+00   3.35900000e-02   1.78667000e+01\n   3.16360000e+00   1.19511000e+01   4.56000000e-02   2.10380000e-01\n   9.39063000e+00   1.09590000e-01   3.04100000e-02   5.20580000e-01\n   2.51990000e-01   2.17190000e-01   1.29320000e-01   6.65492000e+00\n   2.14090000e-01   2.79570000e-01   7.83932000e+00   1.00000000e-01\n   6.21100000e-02   9.06500000e-02   3.44500000e-02   1.46336000e+00\n   1.59360000e-01   7.01300000e-02   1.42362000e+01   9.06800000e-02\n   3.49400000e-01   6.56650000e-01   1.32620000e-01   4.98100000e-02\n   8.15174000e+00   2.73100000e-02   6.28807000e+00   1.50860000e-01\n   2.19770000e-01   1.18123000e+01   4.11300000e-02   1.36420000e-01\n   1.61282000e+00   8.49213000e+00   8.25260000e-01   3.76619000e+01\n   3.69695000e+00   3.93200000e-02   5.49700000e-02   1.43337000e+01\n   5.36000000e-02   3.11300000e-02   5.50070000e-01   1.06120000e-01\n   6.29760000e-01   2.53560000e-01   5.66000000e-02   2.25971000e+01\n   2.21880000e-01   2.01019000e+00   6.61700000e-02   2.39120000e-01\n   9.76170000e-01   7.50300000e-02   5.69175000e+00   4.75470000e-01\n   1.27570000e-01   1.36000000e-02   4.22239000e+00   8.87300000e-02\n   3.69311000e+00   8.44700000e-02   6.71800000e-01   8.37000000e-02\n   4.52700000e-02   5.82115000e+00   7.87500000e-02   2.44953000e+00\n   1.54450000e-01   2.53870000e-01   3.04900000e-02   3.30450000e-01\n   8.22100000e-02   8.52040000e-01   2.69380000e-01   6.80117000e+00\n   1.27346000e+00   1.04690000e-01   9.96654000e+00   6.91100000e-02\n   1.68118000e+01   8.26500000e-02   2.86558000e+01   2.54300000e-02\n   6.11540000e-01   4.92980000e-01   2.73397000e+00   3.40060000e-01\n   1.49632000e+00   4.26131000e+00   6.86000000e-02   8.26725000e+00\n   7.15100000e-02   7.75223000e+00   4.54400000e-02   2.89550000e-01\n   3.77498000e+00   7.16500000e-02   4.74100000e-02   1.25179000e+00\n   1.25790000e-01   1.58760000e-01   1.71200000e-01   2.99160000e-01\n   1.50100000e-02   1.11604000e+01   2.28760000e-01].\nReshape your data either using array.reshape(-1, 1) if your data has a single feature or array.reshape(1, -1) if it contains a single sample."
     ]
    }
   ],
   "source": [
    "linear_clf.fit(X_train[\"CRIM\"], Y_train)"
   ]
  },
  {
   "cell_type": "code",
   "execution_count": 38,
   "metadata": {},
   "outputs": [
    {
     "data": {
      "text/plain": [
       "71.361313157240943"
      ]
     },
     "execution_count": 38,
     "metadata": {},
     "output_type": "execute_result"
    }
   ],
   "source": [
    "from sklearn.metrics import mean_squared_error\n",
    "\n",
    "mean_squared_error(Y_train, linear_clf.predict(X_train))"
   ]
  },
  {
   "cell_type": "code",
   "execution_count": 36,
   "metadata": {
    "tags": [
     "student"
    ]
   },
   "outputs": [
    {
     "data": {
      "text/plain": [
       "71.361313157241"
      ]
     },
     "execution_count": 36,
     "metadata": {},
     "output_type": "execute_result"
    }
   ],
   "source": [
    "def mse(predicted_y, actual_y):\n",
    "    return np.mean((predicted_y - actual_y)**2)\n",
    "\n",
    "train_error = mse(linear_clf.predict(X_train), Y_train)\n",
    "test_error = mse(linear_clf.predict(X_test), Y_test)\n",
    "train_error"
   ]
  },
  {
   "cell_type": "code",
   "execution_count": 28,
   "metadata": {
    "tags": [
     "test",
     "q03"
    ]
   },
   "outputs": [
    {
     "name": "stdout",
     "output_type": "stream",
     "text": [
      "~~~~~~~~~~~~~~~~~~~~~~~~~~~~~~~~~~~~~~~~~~~~~~~~~~~~~~~~~~~~~~~~~~~~~\n",
      "Running tests\n",
      "\n",
      "---------------------------------------------------------------------\n",
      "q03 > Suite 1 > Case 1\n",
      "\n",
      ">>> np.allclose((train_error, test_error), (22.98349, 20.74714))\n",
      "False\n",
      "\n",
      "# Error: expected\n",
      "#     True\n",
      "# but got\n",
      "#     False\n",
      "\n",
      "Run only this test case with \"python3 ok -q q03 --suite 1 --case 1\"\n",
      "---------------------------------------------------------------------\n",
      "Test summary\n",
      "    Passed: 0\n",
      "    Failed: 1\n",
      "[k..........] 0.0% passed\n",
      "\n"
     ]
    },
    {
     "data": {
      "application/javascript": [
       "IPython.notebook.save_checkpoint();"
      ],
      "text/plain": [
       "<IPython.core.display.Javascript object>"
      ]
     },
     "metadata": {},
     "output_type": "display_data"
    },
    {
     "data": {
      "application/javascript": [
       "IPython.notebook.save_notebook();"
      ],
      "text/plain": [
       "<IPython.core.display.Javascript object>"
      ]
     },
     "metadata": {},
     "output_type": "display_data"
    },
    {
     "name": "stdout",
     "output_type": "stream",
     "text": [
      "Saving notebook... Saved 'lab11.ipynb'.\n",
      "Backup... 100% complete\n",
      "Backup successful for user: sungbin.andy.kang@berkeley.edu\n",
      "URL: https://okpy.org/cal/ds100/fa17/lab11/backups/Wn791v\n",
      "NOTE: this is only a backup. To submit your assignment, use:\n",
      "\tpython3 ok --submit\n",
      "\n"
     ]
    }
   ],
   "source": [
    "_ = ok.grade('q03')\n",
    "_ = ok.backup()"
   ]
  },
  {
   "cell_type": "markdown",
   "metadata": {},
   "source": [
    "### Question 4\n",
    "\n",
    "We have just executed a linear regression on our data. Can we get this predictor to be any better though? The following sections will go through cross-validation and some feature engineering in order to try and produce the best model with the least error.\n",
    "\n",
    "Let's start by seeing what is the **single** best feature for predicting boston house prices. For each feature in the given features list, fit a Linear Regression model to the training set where just that feature is selected for and check its accuracy on the validation set. Use the `mse` function you defined above."
   ]
  },
  {
   "cell_type": "code",
   "execution_count": null,
   "metadata": {
    "collapsed": true,
    "tags": [
     "student"
    ]
   },
   "outputs": [],
   "source": [
    "features = boston_data.feature_names\n",
    "\n",
    "# Your code to find the single best feature\n",
    "...\n",
    "\n",
    "best_feature, best_error"
   ]
  },
  {
   "cell_type": "code",
   "execution_count": null,
   "metadata": {
    "collapsed": true,
    "tags": [
     "test",
     "q04"
    ]
   },
   "outputs": [],
   "source": [
    "_ = ok.grade('q04')\n",
    "_ = ok.backup()"
   ]
  },
  {
   "cell_type": "markdown",
   "metadata": {},
   "source": [
    "## K-Folds Cross Validation\n",
    "\n",
    "We've so far been working with the generalized method of cross-validation where we split our data into a test and train set. Now let's try k-folds cross-validation to select the best subset of features for our model. Recall the approach looks something like:\n",
    "\n",
    "<img src=\"cv.png\" width=500px>"
   ]
  },
  {
   "cell_type": "markdown",
   "metadata": {},
   "source": [
    "### Question 5\n",
    "\n",
    "For the sake of this lab, we have a provided a list of feature subsets and will try to find out which subset produces the best model predictor. In future assignments (Project 2?!?!), you will be given the full feature set and use EDA and other techniques you've learned in this class to select your set of best features.\n",
    "\n",
    "Here are the necessary steps to find your best linear predictor:\n",
    "\n",
    "1. Use the [`KFold.split`](http://scikit-learn.org/stable/modules/generated/sklearn.model_selection.KFold.html) function to get 4 splits on your training data. Note that `split` returns the indices of the data for that split.\n",
    "2. For each split, select out the rows and columns based on the split indices and features.\n",
    "3. Compute the MSE from your prediction.\n",
    "4. Based on the set with that gave the smallest MSE, choose your best set of features.\n"
   ]
  },
  {
   "cell_type": "code",
   "execution_count": null,
   "metadata": {
    "collapsed": true,
    "tags": [
     "student"
    ]
   },
   "outputs": [],
   "source": [
    "from sklearn.model_selection import KFold\n",
    "feature_sets = [['TAX', 'INDUS', 'CRIM'], ['RM', 'LSTAT', 'PTRATIO'], ['RM', 'B', 'NOX'], ['TAX', 'LSTAT', 'DIS']]\n",
    "\n",
    "kf = ...\n",
    "splits = \n",
    "\n",
    "def compute_error(train_idx, valid_idx, features):\n",
    "    '''\n",
    "    Splits the original training data based on the passed in indices.\n",
    "    Fits the data to the split's train set and returns the MSE \n",
    "    \n",
    "    Args:\n",
    "        train_idx (array): Indices of the split training data\n",
    "        valid_idx (array): Indicies of the split validation data\n",
    "        features (array): List of features (strings)\n",
    "\n",
    "    Returns:\n",
    "        Returns the MSE of predictions on the validation data\n",
    "    '''\n",
    "    return\n",
    "    \n",
    "# Your code to find the best feature set based on the error\n",
    "...\n",
    "        \n",
    "best_feature_set = ...\n",
    "best_feature_set"
   ]
  },
  {
   "cell_type": "code",
   "execution_count": null,
   "metadata": {
    "collapsed": true,
    "tags": [
     "test",
     "q05"
    ]
   },
   "outputs": [],
   "source": [
    "_ = ok.grade('q05')\n",
    "_ = ok.backup()"
   ]
  },
  {
   "cell_type": "markdown",
   "metadata": {},
   "source": [
    "### Question 6\n",
    "Finally, fit a linear classifier using your best feature set and predict housing prices for your original test set. Compute the final MSE."
   ]
  },
  {
   "cell_type": "code",
   "execution_count": null,
   "metadata": {
    "collapsed": true,
    "tags": [
     "student"
    ]
   },
   "outputs": [],
   "source": [
    "# Fit your classifier\n",
    "...\n",
    "\n",
    "# Predict points from our test set and calculate the mse\n",
    "final_mse = ...\n",
    "final_mse"
   ]
  },
  {
   "cell_type": "code",
   "execution_count": null,
   "metadata": {
    "collapsed": true,
    "tags": [
     "test",
     "q06"
    ]
   },
   "outputs": [],
   "source": [
    "_ = ok.grade('q06')\n",
    "_ = ok.backup()"
   ]
  },
  {
   "cell_type": "markdown",
   "metadata": {},
   "source": [
    "Nice! You've used kfolds cross-validation to fit an accurate linear regression model to the dataset.\n",
    "\n",
    "In the future, you'd probably want to use something like [`cross_val_predict`](http://scikit-learn.org/stable/modules/generated/sklearn.model_selection.cross_val_predict.html) to automatically perform cross-validation, but it's instructive to do it yourself at least once."
   ]
  },
  {
   "cell_type": "code",
   "execution_count": null,
   "metadata": {
    "collapsed": true
   },
   "outputs": [],
   "source": [
    "# Log into OkPy.\n",
    "# You might need to change this to ok.auth(force=True) if you get an error\n",
    "ok.auth(force=False)"
   ]
  },
  {
   "cell_type": "markdown",
   "metadata": {},
   "source": [
    "## Submission\n",
    "\n",
    "Run the cell below to run all the OkPy tests at once:"
   ]
  },
  {
   "cell_type": "code",
   "execution_count": null,
   "metadata": {
    "collapsed": true
   },
   "outputs": [],
   "source": [
    "import os\n",
    "print(\"Running all tests...\")\n",
    "_ = ok.grade_all()"
   ]
  },
  {
   "cell_type": "markdown",
   "metadata": {},
   "source": [
    "Now, run the cell below to submit your assignment to OkPy. The autograder should email you shortly with your autograded score. The autograder will only run once every 30 minutes.\n",
    "\n",
    "**If you're failing tests on the autograder but pass them locally**, you should simulate the autograder by doing the following:\n",
    "\n",
    "1. In the top menu, click Kernel -> Restart and Run all.\n",
    "2. Run the cell above to run each OkPy test.\n",
    "\n",
    "**You must make sure that you pass all the tests when running steps 1 and 2 in order.** If you are still failing autograder tests, you should double check your results."
   ]
  },
  {
   "cell_type": "code",
   "execution_count": null,
   "metadata": {
    "collapsed": true
   },
   "outputs": [],
   "source": [
    "_ = ok.submit()"
   ]
  }
 ],
 "metadata": {
  "kernelspec": {
   "display_name": "Python 3",
   "language": "python",
   "name": "python3"
  },
  "language_info": {
   "codemirror_mode": {
    "name": "ipython",
    "version": 3
   },
   "file_extension": ".py",
   "mimetype": "text/x-python",
   "name": "python",
   "nbconvert_exporter": "python",
   "pygments_lexer": "ipython3",
   "version": "3.6.3"
  }
 },
 "nbformat": 4,
 "nbformat_minor": 2
}
