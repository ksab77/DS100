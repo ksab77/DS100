{
 "cells": [
  {
   "cell_type": "markdown",
   "metadata": {},
   "source": [
    "# Lab 10: Introduction to Least Squares Regression and the Normal Equations\n",
    "\n",
    "\n",
    "In this lab you will implement the normal equations to estimate the parameters of a least squares regression model.  This lab will also help prepare you for the homework this week."
   ]
  },
  {
   "cell_type": "code",
   "execution_count": 1,
   "metadata": {},
   "outputs": [
    {
     "name": "stdout",
     "output_type": "stream",
     "text": [
      "=====================================================================\n",
      "Assignment: lab10\n",
      "OK, version v1.12.10\n",
      "=====================================================================\n",
      "\n"
     ]
    }
   ],
   "source": [
    "# Run this cell to set up your notebook\n",
    "import numpy as np\n",
    "import pandas as pd\n",
    "import seaborn as sns\n",
    "import matplotlib.pyplot as plt\n",
    "\n",
    "%matplotlib notebook\n",
    "\n",
    "from client.api.notebook import Notebook\n",
    "ok = Notebook('lab10.ok')"
   ]
  },
  {
   "cell_type": "code",
   "execution_count": 2,
   "metadata": {
    "collapsed": true
   },
   "outputs": [],
   "source": [
    "np.set_printoptions(16)\n",
    "# For instructor use only. Call this function to force refresh okpy tests\n",
    "def refresh():\n",
    "    import sys\n",
    "    keys = [k for k in sys.modules.keys() if 'ok_tests' in k]\n",
    "    for k in keys:\n",
    "        del sys.modules[k]\n",
    "    global ok\n",
    "    ok = Notebook('lab09.ok')"
   ]
  },
  {
   "cell_type": "code",
   "execution_count": 3,
   "metadata": {},
   "outputs": [
    {
     "name": "stdout",
     "output_type": "stream",
     "text": [
      "\n",
      "Open the following URL:\n",
      "\n",
      "https://okpy.org/client/login/\n",
      "\n",
      "After logging in, copy the code from the web page and paste it into the box.\n",
      "Then press the \"Enter\" key on your keyboard.\n",
      "\n",
      "Paste your code here: 9G8wYb5hAT6XHgBIXi9qubrGNjE2Yb\n",
      "Successfully logged in as sungbin.andy.kang@berkeley.edu\n"
     ]
    }
   ],
   "source": [
    "ok.auth(force=True) # Change False to True if you are getting errors authenticating"
   ]
  },
  {
   "cell_type": "markdown",
   "metadata": {},
   "source": [
    "### Creating the Data\n",
    "\n",
    "Before we implement least squares linear regression in the cloud, let's first try implementing it within this notebook.\n",
    "\n",
    "The following code downloads and plots a small toy dataset."
   ]
  },
  {
   "cell_type": "code",
   "execution_count": 4,
   "metadata": {
    "collapsed": true
   },
   "outputs": [],
   "source": [
    "n = 100\n",
    "p = 2\n",
    "theta_true = np.array([-2.2, 1.0])\n",
    "intercept = 4.0 \n",
    "np.random.seed(42)\n",
    "X = np.random.rand(n, p)*2.0 - 1.0\n",
    "Y =  X @ theta_true + intercept + np.random.randn(n) * 0.2 "
   ]
  },
  {
   "cell_type": "markdown",
   "metadata": {},
   "source": [
    "Take the following plot for a spin (literally).  Drag across the plot to spin it. Notice that we added the origin in red."
   ]
  },
  {
   "cell_type": "code",
   "execution_count": 5,
   "metadata": {},
   "outputs": [
    {
     "data": {
      "application/javascript": [
       "/* Put everything inside the global mpl namespace */\n",
       "window.mpl = {};\n",
       "\n",
       "\n",
       "mpl.get_websocket_type = function() {\n",
       "    if (typeof(WebSocket) !== 'undefined') {\n",
       "        return WebSocket;\n",
       "    } else if (typeof(MozWebSocket) !== 'undefined') {\n",
       "        return MozWebSocket;\n",
       "    } else {\n",
       "        alert('Your browser does not have WebSocket support.' +\n",
       "              'Please try Chrome, Safari or Firefox ≥ 6. ' +\n",
       "              'Firefox 4 and 5 are also supported but you ' +\n",
       "              'have to enable WebSockets in about:config.');\n",
       "    };\n",
       "}\n",
       "\n",
       "mpl.figure = function(figure_id, websocket, ondownload, parent_element) {\n",
       "    this.id = figure_id;\n",
       "\n",
       "    this.ws = websocket;\n",
       "\n",
       "    this.supports_binary = (this.ws.binaryType != undefined);\n",
       "\n",
       "    if (!this.supports_binary) {\n",
       "        var warnings = document.getElementById(\"mpl-warnings\");\n",
       "        if (warnings) {\n",
       "            warnings.style.display = 'block';\n",
       "            warnings.textContent = (\n",
       "                \"This browser does not support binary websocket messages. \" +\n",
       "                    \"Performance may be slow.\");\n",
       "        }\n",
       "    }\n",
       "\n",
       "    this.imageObj = new Image();\n",
       "\n",
       "    this.context = undefined;\n",
       "    this.message = undefined;\n",
       "    this.canvas = undefined;\n",
       "    this.rubberband_canvas = undefined;\n",
       "    this.rubberband_context = undefined;\n",
       "    this.format_dropdown = undefined;\n",
       "\n",
       "    this.image_mode = 'full';\n",
       "\n",
       "    this.root = $('<div/>');\n",
       "    this._root_extra_style(this.root)\n",
       "    this.root.attr('style', 'display: inline-block');\n",
       "\n",
       "    $(parent_element).append(this.root);\n",
       "\n",
       "    this._init_header(this);\n",
       "    this._init_canvas(this);\n",
       "    this._init_toolbar(this);\n",
       "\n",
       "    var fig = this;\n",
       "\n",
       "    this.waiting = false;\n",
       "\n",
       "    this.ws.onopen =  function () {\n",
       "            fig.send_message(\"supports_binary\", {value: fig.supports_binary});\n",
       "            fig.send_message(\"send_image_mode\", {});\n",
       "            if (mpl.ratio != 1) {\n",
       "                fig.send_message(\"set_dpi_ratio\", {'dpi_ratio': mpl.ratio});\n",
       "            }\n",
       "            fig.send_message(\"refresh\", {});\n",
       "        }\n",
       "\n",
       "    this.imageObj.onload = function() {\n",
       "            if (fig.image_mode == 'full') {\n",
       "                // Full images could contain transparency (where diff images\n",
       "                // almost always do), so we need to clear the canvas so that\n",
       "                // there is no ghosting.\n",
       "                fig.context.clearRect(0, 0, fig.canvas.width, fig.canvas.height);\n",
       "            }\n",
       "            fig.context.drawImage(fig.imageObj, 0, 0);\n",
       "        };\n",
       "\n",
       "    this.imageObj.onunload = function() {\n",
       "        this.ws.close();\n",
       "    }\n",
       "\n",
       "    this.ws.onmessage = this._make_on_message_function(this);\n",
       "\n",
       "    this.ondownload = ondownload;\n",
       "}\n",
       "\n",
       "mpl.figure.prototype._init_header = function() {\n",
       "    var titlebar = $(\n",
       "        '<div class=\"ui-dialog-titlebar ui-widget-header ui-corner-all ' +\n",
       "        'ui-helper-clearfix\"/>');\n",
       "    var titletext = $(\n",
       "        '<div class=\"ui-dialog-title\" style=\"width: 100%; ' +\n",
       "        'text-align: center; padding: 3px;\"/>');\n",
       "    titlebar.append(titletext)\n",
       "    this.root.append(titlebar);\n",
       "    this.header = titletext[0];\n",
       "}\n",
       "\n",
       "\n",
       "\n",
       "mpl.figure.prototype._canvas_extra_style = function(canvas_div) {\n",
       "\n",
       "}\n",
       "\n",
       "\n",
       "mpl.figure.prototype._root_extra_style = function(canvas_div) {\n",
       "\n",
       "}\n",
       "\n",
       "mpl.figure.prototype._init_canvas = function() {\n",
       "    var fig = this;\n",
       "\n",
       "    var canvas_div = $('<div/>');\n",
       "\n",
       "    canvas_div.attr('style', 'position: relative; clear: both; outline: 0');\n",
       "\n",
       "    function canvas_keyboard_event(event) {\n",
       "        return fig.key_event(event, event['data']);\n",
       "    }\n",
       "\n",
       "    canvas_div.keydown('key_press', canvas_keyboard_event);\n",
       "    canvas_div.keyup('key_release', canvas_keyboard_event);\n",
       "    this.canvas_div = canvas_div\n",
       "    this._canvas_extra_style(canvas_div)\n",
       "    this.root.append(canvas_div);\n",
       "\n",
       "    var canvas = $('<canvas/>');\n",
       "    canvas.addClass('mpl-canvas');\n",
       "    canvas.attr('style', \"left: 0; top: 0; z-index: 0; outline: 0\")\n",
       "\n",
       "    this.canvas = canvas[0];\n",
       "    this.context = canvas[0].getContext(\"2d\");\n",
       "\n",
       "    var backingStore = this.context.backingStorePixelRatio ||\n",
       "\tthis.context.webkitBackingStorePixelRatio ||\n",
       "\tthis.context.mozBackingStorePixelRatio ||\n",
       "\tthis.context.msBackingStorePixelRatio ||\n",
       "\tthis.context.oBackingStorePixelRatio ||\n",
       "\tthis.context.backingStorePixelRatio || 1;\n",
       "\n",
       "    mpl.ratio = (window.devicePixelRatio || 1) / backingStore;\n",
       "\n",
       "    var rubberband = $('<canvas/>');\n",
       "    rubberband.attr('style', \"position: absolute; left: 0; top: 0; z-index: 1;\")\n",
       "\n",
       "    var pass_mouse_events = true;\n",
       "\n",
       "    canvas_div.resizable({\n",
       "        start: function(event, ui) {\n",
       "            pass_mouse_events = false;\n",
       "        },\n",
       "        resize: function(event, ui) {\n",
       "            fig.request_resize(ui.size.width, ui.size.height);\n",
       "        },\n",
       "        stop: function(event, ui) {\n",
       "            pass_mouse_events = true;\n",
       "            fig.request_resize(ui.size.width, ui.size.height);\n",
       "        },\n",
       "    });\n",
       "\n",
       "    function mouse_event_fn(event) {\n",
       "        if (pass_mouse_events)\n",
       "            return fig.mouse_event(event, event['data']);\n",
       "    }\n",
       "\n",
       "    rubberband.mousedown('button_press', mouse_event_fn);\n",
       "    rubberband.mouseup('button_release', mouse_event_fn);\n",
       "    // Throttle sequential mouse events to 1 every 20ms.\n",
       "    rubberband.mousemove('motion_notify', mouse_event_fn);\n",
       "\n",
       "    rubberband.mouseenter('figure_enter', mouse_event_fn);\n",
       "    rubberband.mouseleave('figure_leave', mouse_event_fn);\n",
       "\n",
       "    canvas_div.on(\"wheel\", function (event) {\n",
       "        event = event.originalEvent;\n",
       "        event['data'] = 'scroll'\n",
       "        if (event.deltaY < 0) {\n",
       "            event.step = 1;\n",
       "        } else {\n",
       "            event.step = -1;\n",
       "        }\n",
       "        mouse_event_fn(event);\n",
       "    });\n",
       "\n",
       "    canvas_div.append(canvas);\n",
       "    canvas_div.append(rubberband);\n",
       "\n",
       "    this.rubberband = rubberband;\n",
       "    this.rubberband_canvas = rubberband[0];\n",
       "    this.rubberband_context = rubberband[0].getContext(\"2d\");\n",
       "    this.rubberband_context.strokeStyle = \"#000000\";\n",
       "\n",
       "    this._resize_canvas = function(width, height) {\n",
       "        // Keep the size of the canvas, canvas container, and rubber band\n",
       "        // canvas in synch.\n",
       "        canvas_div.css('width', width)\n",
       "        canvas_div.css('height', height)\n",
       "\n",
       "        canvas.attr('width', width * mpl.ratio);\n",
       "        canvas.attr('height', height * mpl.ratio);\n",
       "        canvas.attr('style', 'width: ' + width + 'px; height: ' + height + 'px;');\n",
       "\n",
       "        rubberband.attr('width', width);\n",
       "        rubberband.attr('height', height);\n",
       "    }\n",
       "\n",
       "    // Set the figure to an initial 600x600px, this will subsequently be updated\n",
       "    // upon first draw.\n",
       "    this._resize_canvas(600, 600);\n",
       "\n",
       "    // Disable right mouse context menu.\n",
       "    $(this.rubberband_canvas).bind(\"contextmenu\",function(e){\n",
       "        return false;\n",
       "    });\n",
       "\n",
       "    function set_focus () {\n",
       "        canvas.focus();\n",
       "        canvas_div.focus();\n",
       "    }\n",
       "\n",
       "    window.setTimeout(set_focus, 100);\n",
       "}\n",
       "\n",
       "mpl.figure.prototype._init_toolbar = function() {\n",
       "    var fig = this;\n",
       "\n",
       "    var nav_element = $('<div/>')\n",
       "    nav_element.attr('style', 'width: 100%');\n",
       "    this.root.append(nav_element);\n",
       "\n",
       "    // Define a callback function for later on.\n",
       "    function toolbar_event(event) {\n",
       "        return fig.toolbar_button_onclick(event['data']);\n",
       "    }\n",
       "    function toolbar_mouse_event(event) {\n",
       "        return fig.toolbar_button_onmouseover(event['data']);\n",
       "    }\n",
       "\n",
       "    for(var toolbar_ind in mpl.toolbar_items) {\n",
       "        var name = mpl.toolbar_items[toolbar_ind][0];\n",
       "        var tooltip = mpl.toolbar_items[toolbar_ind][1];\n",
       "        var image = mpl.toolbar_items[toolbar_ind][2];\n",
       "        var method_name = mpl.toolbar_items[toolbar_ind][3];\n",
       "\n",
       "        if (!name) {\n",
       "            // put a spacer in here.\n",
       "            continue;\n",
       "        }\n",
       "        var button = $('<button/>');\n",
       "        button.addClass('ui-button ui-widget ui-state-default ui-corner-all ' +\n",
       "                        'ui-button-icon-only');\n",
       "        button.attr('role', 'button');\n",
       "        button.attr('aria-disabled', 'false');\n",
       "        button.click(method_name, toolbar_event);\n",
       "        button.mouseover(tooltip, toolbar_mouse_event);\n",
       "\n",
       "        var icon_img = $('<span/>');\n",
       "        icon_img.addClass('ui-button-icon-primary ui-icon');\n",
       "        icon_img.addClass(image);\n",
       "        icon_img.addClass('ui-corner-all');\n",
       "\n",
       "        var tooltip_span = $('<span/>');\n",
       "        tooltip_span.addClass('ui-button-text');\n",
       "        tooltip_span.html(tooltip);\n",
       "\n",
       "        button.append(icon_img);\n",
       "        button.append(tooltip_span);\n",
       "\n",
       "        nav_element.append(button);\n",
       "    }\n",
       "\n",
       "    var fmt_picker_span = $('<span/>');\n",
       "\n",
       "    var fmt_picker = $('<select/>');\n",
       "    fmt_picker.addClass('mpl-toolbar-option ui-widget ui-widget-content');\n",
       "    fmt_picker_span.append(fmt_picker);\n",
       "    nav_element.append(fmt_picker_span);\n",
       "    this.format_dropdown = fmt_picker[0];\n",
       "\n",
       "    for (var ind in mpl.extensions) {\n",
       "        var fmt = mpl.extensions[ind];\n",
       "        var option = $(\n",
       "            '<option/>', {selected: fmt === mpl.default_extension}).html(fmt);\n",
       "        fmt_picker.append(option)\n",
       "    }\n",
       "\n",
       "    // Add hover states to the ui-buttons\n",
       "    $( \".ui-button\" ).hover(\n",
       "        function() { $(this).addClass(\"ui-state-hover\");},\n",
       "        function() { $(this).removeClass(\"ui-state-hover\");}\n",
       "    );\n",
       "\n",
       "    var status_bar = $('<span class=\"mpl-message\"/>');\n",
       "    nav_element.append(status_bar);\n",
       "    this.message = status_bar[0];\n",
       "}\n",
       "\n",
       "mpl.figure.prototype.request_resize = function(x_pixels, y_pixels) {\n",
       "    // Request matplotlib to resize the figure. Matplotlib will then trigger a resize in the client,\n",
       "    // which will in turn request a refresh of the image.\n",
       "    this.send_message('resize', {'width': x_pixels, 'height': y_pixels});\n",
       "}\n",
       "\n",
       "mpl.figure.prototype.send_message = function(type, properties) {\n",
       "    properties['type'] = type;\n",
       "    properties['figure_id'] = this.id;\n",
       "    this.ws.send(JSON.stringify(properties));\n",
       "}\n",
       "\n",
       "mpl.figure.prototype.send_draw_message = function() {\n",
       "    if (!this.waiting) {\n",
       "        this.waiting = true;\n",
       "        this.ws.send(JSON.stringify({type: \"draw\", figure_id: this.id}));\n",
       "    }\n",
       "}\n",
       "\n",
       "\n",
       "mpl.figure.prototype.handle_save = function(fig, msg) {\n",
       "    var format_dropdown = fig.format_dropdown;\n",
       "    var format = format_dropdown.options[format_dropdown.selectedIndex].value;\n",
       "    fig.ondownload(fig, format);\n",
       "}\n",
       "\n",
       "\n",
       "mpl.figure.prototype.handle_resize = function(fig, msg) {\n",
       "    var size = msg['size'];\n",
       "    if (size[0] != fig.canvas.width || size[1] != fig.canvas.height) {\n",
       "        fig._resize_canvas(size[0], size[1]);\n",
       "        fig.send_message(\"refresh\", {});\n",
       "    };\n",
       "}\n",
       "\n",
       "mpl.figure.prototype.handle_rubberband = function(fig, msg) {\n",
       "    var x0 = msg['x0'] / mpl.ratio;\n",
       "    var y0 = (fig.canvas.height - msg['y0']) / mpl.ratio;\n",
       "    var x1 = msg['x1'] / mpl.ratio;\n",
       "    var y1 = (fig.canvas.height - msg['y1']) / mpl.ratio;\n",
       "    x0 = Math.floor(x0) + 0.5;\n",
       "    y0 = Math.floor(y0) + 0.5;\n",
       "    x1 = Math.floor(x1) + 0.5;\n",
       "    y1 = Math.floor(y1) + 0.5;\n",
       "    var min_x = Math.min(x0, x1);\n",
       "    var min_y = Math.min(y0, y1);\n",
       "    var width = Math.abs(x1 - x0);\n",
       "    var height = Math.abs(y1 - y0);\n",
       "\n",
       "    fig.rubberband_context.clearRect(\n",
       "        0, 0, fig.canvas.width, fig.canvas.height);\n",
       "\n",
       "    fig.rubberband_context.strokeRect(min_x, min_y, width, height);\n",
       "}\n",
       "\n",
       "mpl.figure.prototype.handle_figure_label = function(fig, msg) {\n",
       "    // Updates the figure title.\n",
       "    fig.header.textContent = msg['label'];\n",
       "}\n",
       "\n",
       "mpl.figure.prototype.handle_cursor = function(fig, msg) {\n",
       "    var cursor = msg['cursor'];\n",
       "    switch(cursor)\n",
       "    {\n",
       "    case 0:\n",
       "        cursor = 'pointer';\n",
       "        break;\n",
       "    case 1:\n",
       "        cursor = 'default';\n",
       "        break;\n",
       "    case 2:\n",
       "        cursor = 'crosshair';\n",
       "        break;\n",
       "    case 3:\n",
       "        cursor = 'move';\n",
       "        break;\n",
       "    }\n",
       "    fig.rubberband_canvas.style.cursor = cursor;\n",
       "}\n",
       "\n",
       "mpl.figure.prototype.handle_message = function(fig, msg) {\n",
       "    fig.message.textContent = msg['message'];\n",
       "}\n",
       "\n",
       "mpl.figure.prototype.handle_draw = function(fig, msg) {\n",
       "    // Request the server to send over a new figure.\n",
       "    fig.send_draw_message();\n",
       "}\n",
       "\n",
       "mpl.figure.prototype.handle_image_mode = function(fig, msg) {\n",
       "    fig.image_mode = msg['mode'];\n",
       "}\n",
       "\n",
       "mpl.figure.prototype.updated_canvas_event = function() {\n",
       "    // Called whenever the canvas gets updated.\n",
       "    this.send_message(\"ack\", {});\n",
       "}\n",
       "\n",
       "// A function to construct a web socket function for onmessage handling.\n",
       "// Called in the figure constructor.\n",
       "mpl.figure.prototype._make_on_message_function = function(fig) {\n",
       "    return function socket_on_message(evt) {\n",
       "        if (evt.data instanceof Blob) {\n",
       "            /* FIXME: We get \"Resource interpreted as Image but\n",
       "             * transferred with MIME type text/plain:\" errors on\n",
       "             * Chrome.  But how to set the MIME type?  It doesn't seem\n",
       "             * to be part of the websocket stream */\n",
       "            evt.data.type = \"image/png\";\n",
       "\n",
       "            /* Free the memory for the previous frames */\n",
       "            if (fig.imageObj.src) {\n",
       "                (window.URL || window.webkitURL).revokeObjectURL(\n",
       "                    fig.imageObj.src);\n",
       "            }\n",
       "\n",
       "            fig.imageObj.src = (window.URL || window.webkitURL).createObjectURL(\n",
       "                evt.data);\n",
       "            fig.updated_canvas_event();\n",
       "            fig.waiting = false;\n",
       "            return;\n",
       "        }\n",
       "        else if (typeof evt.data === 'string' && evt.data.slice(0, 21) == \"data:image/png;base64\") {\n",
       "            fig.imageObj.src = evt.data;\n",
       "            fig.updated_canvas_event();\n",
       "            fig.waiting = false;\n",
       "            return;\n",
       "        }\n",
       "\n",
       "        var msg = JSON.parse(evt.data);\n",
       "        var msg_type = msg['type'];\n",
       "\n",
       "        // Call the  \"handle_{type}\" callback, which takes\n",
       "        // the figure and JSON message as its only arguments.\n",
       "        try {\n",
       "            var callback = fig[\"handle_\" + msg_type];\n",
       "        } catch (e) {\n",
       "            console.log(\"No handler for the '\" + msg_type + \"' message type: \", msg);\n",
       "            return;\n",
       "        }\n",
       "\n",
       "        if (callback) {\n",
       "            try {\n",
       "                // console.log(\"Handling '\" + msg_type + \"' message: \", msg);\n",
       "                callback(fig, msg);\n",
       "            } catch (e) {\n",
       "                console.log(\"Exception inside the 'handler_\" + msg_type + \"' callback:\", e, e.stack, msg);\n",
       "            }\n",
       "        }\n",
       "    };\n",
       "}\n",
       "\n",
       "// from http://stackoverflow.com/questions/1114465/getting-mouse-location-in-canvas\n",
       "mpl.findpos = function(e) {\n",
       "    //this section is from http://www.quirksmode.org/js/events_properties.html\n",
       "    var targ;\n",
       "    if (!e)\n",
       "        e = window.event;\n",
       "    if (e.target)\n",
       "        targ = e.target;\n",
       "    else if (e.srcElement)\n",
       "        targ = e.srcElement;\n",
       "    if (targ.nodeType == 3) // defeat Safari bug\n",
       "        targ = targ.parentNode;\n",
       "\n",
       "    // jQuery normalizes the pageX and pageY\n",
       "    // pageX,Y are the mouse positions relative to the document\n",
       "    // offset() returns the position of the element relative to the document\n",
       "    var x = e.pageX - $(targ).offset().left;\n",
       "    var y = e.pageY - $(targ).offset().top;\n",
       "\n",
       "    return {\"x\": x, \"y\": y};\n",
       "};\n",
       "\n",
       "/*\n",
       " * return a copy of an object with only non-object keys\n",
       " * we need this to avoid circular references\n",
       " * http://stackoverflow.com/a/24161582/3208463\n",
       " */\n",
       "function simpleKeys (original) {\n",
       "  return Object.keys(original).reduce(function (obj, key) {\n",
       "    if (typeof original[key] !== 'object')\n",
       "        obj[key] = original[key]\n",
       "    return obj;\n",
       "  }, {});\n",
       "}\n",
       "\n",
       "mpl.figure.prototype.mouse_event = function(event, name) {\n",
       "    var canvas_pos = mpl.findpos(event)\n",
       "\n",
       "    if (name === 'button_press')\n",
       "    {\n",
       "        this.canvas.focus();\n",
       "        this.canvas_div.focus();\n",
       "    }\n",
       "\n",
       "    var x = canvas_pos.x * mpl.ratio;\n",
       "    var y = canvas_pos.y * mpl.ratio;\n",
       "\n",
       "    this.send_message(name, {x: x, y: y, button: event.button,\n",
       "                             step: event.step,\n",
       "                             guiEvent: simpleKeys(event)});\n",
       "\n",
       "    /* This prevents the web browser from automatically changing to\n",
       "     * the text insertion cursor when the button is pressed.  We want\n",
       "     * to control all of the cursor setting manually through the\n",
       "     * 'cursor' event from matplotlib */\n",
       "    event.preventDefault();\n",
       "    return false;\n",
       "}\n",
       "\n",
       "mpl.figure.prototype._key_event_extra = function(event, name) {\n",
       "    // Handle any extra behaviour associated with a key event\n",
       "}\n",
       "\n",
       "mpl.figure.prototype.key_event = function(event, name) {\n",
       "\n",
       "    // Prevent repeat events\n",
       "    if (name == 'key_press')\n",
       "    {\n",
       "        if (event.which === this._key)\n",
       "            return;\n",
       "        else\n",
       "            this._key = event.which;\n",
       "    }\n",
       "    if (name == 'key_release')\n",
       "        this._key = null;\n",
       "\n",
       "    var value = '';\n",
       "    if (event.ctrlKey && event.which != 17)\n",
       "        value += \"ctrl+\";\n",
       "    if (event.altKey && event.which != 18)\n",
       "        value += \"alt+\";\n",
       "    if (event.shiftKey && event.which != 16)\n",
       "        value += \"shift+\";\n",
       "\n",
       "    value += 'k';\n",
       "    value += event.which.toString();\n",
       "\n",
       "    this._key_event_extra(event, name);\n",
       "\n",
       "    this.send_message(name, {key: value,\n",
       "                             guiEvent: simpleKeys(event)});\n",
       "    return false;\n",
       "}\n",
       "\n",
       "mpl.figure.prototype.toolbar_button_onclick = function(name) {\n",
       "    if (name == 'download') {\n",
       "        this.handle_save(this, null);\n",
       "    } else {\n",
       "        this.send_message(\"toolbar_button\", {name: name});\n",
       "    }\n",
       "};\n",
       "\n",
       "mpl.figure.prototype.toolbar_button_onmouseover = function(tooltip) {\n",
       "    this.message.textContent = tooltip;\n",
       "};\n",
       "mpl.toolbar_items = [[\"Home\", \"Reset original view\", \"fa fa-home icon-home\", \"home\"], [\"Back\", \"Back to  previous view\", \"fa fa-arrow-left icon-arrow-left\", \"back\"], [\"Forward\", \"Forward to next view\", \"fa fa-arrow-right icon-arrow-right\", \"forward\"], [\"\", \"\", \"\", \"\"], [\"Pan\", \"Pan axes with left mouse, zoom with right\", \"fa fa-arrows icon-move\", \"pan\"], [\"Zoom\", \"Zoom to rectangle\", \"fa fa-square-o icon-check-empty\", \"zoom\"], [\"\", \"\", \"\", \"\"], [\"Download\", \"Download plot\", \"fa fa-floppy-o icon-save\", \"download\"]];\n",
       "\n",
       "mpl.extensions = [\"eps\", \"jpeg\", \"pdf\", \"png\", \"ps\", \"raw\", \"svg\", \"tif\"];\n",
       "\n",
       "mpl.default_extension = \"png\";var comm_websocket_adapter = function(comm) {\n",
       "    // Create a \"websocket\"-like object which calls the given IPython comm\n",
       "    // object with the appropriate methods. Currently this is a non binary\n",
       "    // socket, so there is still some room for performance tuning.\n",
       "    var ws = {};\n",
       "\n",
       "    ws.close = function() {\n",
       "        comm.close()\n",
       "    };\n",
       "    ws.send = function(m) {\n",
       "        //console.log('sending', m);\n",
       "        comm.send(m);\n",
       "    };\n",
       "    // Register the callback with on_msg.\n",
       "    comm.on_msg(function(msg) {\n",
       "        //console.log('receiving', msg['content']['data'], msg);\n",
       "        // Pass the mpl event to the overriden (by mpl) onmessage function.\n",
       "        ws.onmessage(msg['content']['data'])\n",
       "    });\n",
       "    return ws;\n",
       "}\n",
       "\n",
       "mpl.mpl_figure_comm = function(comm, msg) {\n",
       "    // This is the function which gets called when the mpl process\n",
       "    // starts-up an IPython Comm through the \"matplotlib\" channel.\n",
       "\n",
       "    var id = msg.content.data.id;\n",
       "    // Get hold of the div created by the display call when the Comm\n",
       "    // socket was opened in Python.\n",
       "    var element = $(\"#\" + id);\n",
       "    var ws_proxy = comm_websocket_adapter(comm)\n",
       "\n",
       "    function ondownload(figure, format) {\n",
       "        window.open(figure.imageObj.src);\n",
       "    }\n",
       "\n",
       "    var fig = new mpl.figure(id, ws_proxy,\n",
       "                           ondownload,\n",
       "                           element.get(0));\n",
       "\n",
       "    // Call onopen now - mpl needs it, as it is assuming we've passed it a real\n",
       "    // web socket which is closed, not our websocket->open comm proxy.\n",
       "    ws_proxy.onopen();\n",
       "\n",
       "    fig.parent_element = element.get(0);\n",
       "    fig.cell_info = mpl.find_output_cell(\"<div id='\" + id + \"'></div>\");\n",
       "    if (!fig.cell_info) {\n",
       "        console.error(\"Failed to find cell for figure\", id, fig);\n",
       "        return;\n",
       "    }\n",
       "\n",
       "    var output_index = fig.cell_info[2]\n",
       "    var cell = fig.cell_info[0];\n",
       "\n",
       "};\n",
       "\n",
       "mpl.figure.prototype.handle_close = function(fig, msg) {\n",
       "    var width = fig.canvas.width/mpl.ratio\n",
       "    fig.root.unbind('remove')\n",
       "\n",
       "    // Update the output cell to use the data from the current canvas.\n",
       "    fig.push_to_output();\n",
       "    var dataURL = fig.canvas.toDataURL();\n",
       "    // Re-enable the keyboard manager in IPython - without this line, in FF,\n",
       "    // the notebook keyboard shortcuts fail.\n",
       "    IPython.keyboard_manager.enable()\n",
       "    $(fig.parent_element).html('<img src=\"' + dataURL + '\" width=\"' + width + '\">');\n",
       "    fig.close_ws(fig, msg);\n",
       "}\n",
       "\n",
       "mpl.figure.prototype.close_ws = function(fig, msg){\n",
       "    fig.send_message('closing', msg);\n",
       "    // fig.ws.close()\n",
       "}\n",
       "\n",
       "mpl.figure.prototype.push_to_output = function(remove_interactive) {\n",
       "    // Turn the data on the canvas into data in the output cell.\n",
       "    var width = this.canvas.width/mpl.ratio\n",
       "    var dataURL = this.canvas.toDataURL();\n",
       "    this.cell_info[1]['text/html'] = '<img src=\"' + dataURL + '\" width=\"' + width + '\">';\n",
       "}\n",
       "\n",
       "mpl.figure.prototype.updated_canvas_event = function() {\n",
       "    // Tell IPython that the notebook contents must change.\n",
       "    IPython.notebook.set_dirty(true);\n",
       "    this.send_message(\"ack\", {});\n",
       "    var fig = this;\n",
       "    // Wait a second, then push the new image to the DOM so\n",
       "    // that it is saved nicely (might be nice to debounce this).\n",
       "    setTimeout(function () { fig.push_to_output() }, 1000);\n",
       "}\n",
       "\n",
       "mpl.figure.prototype._init_toolbar = function() {\n",
       "    var fig = this;\n",
       "\n",
       "    var nav_element = $('<div/>')\n",
       "    nav_element.attr('style', 'width: 100%');\n",
       "    this.root.append(nav_element);\n",
       "\n",
       "    // Define a callback function for later on.\n",
       "    function toolbar_event(event) {\n",
       "        return fig.toolbar_button_onclick(event['data']);\n",
       "    }\n",
       "    function toolbar_mouse_event(event) {\n",
       "        return fig.toolbar_button_onmouseover(event['data']);\n",
       "    }\n",
       "\n",
       "    for(var toolbar_ind in mpl.toolbar_items){\n",
       "        var name = mpl.toolbar_items[toolbar_ind][0];\n",
       "        var tooltip = mpl.toolbar_items[toolbar_ind][1];\n",
       "        var image = mpl.toolbar_items[toolbar_ind][2];\n",
       "        var method_name = mpl.toolbar_items[toolbar_ind][3];\n",
       "\n",
       "        if (!name) { continue; };\n",
       "\n",
       "        var button = $('<button class=\"btn btn-default\" href=\"#\" title=\"' + name + '\"><i class=\"fa ' + image + ' fa-lg\"></i></button>');\n",
       "        button.click(method_name, toolbar_event);\n",
       "        button.mouseover(tooltip, toolbar_mouse_event);\n",
       "        nav_element.append(button);\n",
       "    }\n",
       "\n",
       "    // Add the status bar.\n",
       "    var status_bar = $('<span class=\"mpl-message\" style=\"text-align:right; float: right;\"/>');\n",
       "    nav_element.append(status_bar);\n",
       "    this.message = status_bar[0];\n",
       "\n",
       "    // Add the close button to the window.\n",
       "    var buttongrp = $('<div class=\"btn-group inline pull-right\"></div>');\n",
       "    var button = $('<button class=\"btn btn-mini btn-primary\" href=\"#\" title=\"Stop Interaction\"><i class=\"fa fa-power-off icon-remove icon-large\"></i></button>');\n",
       "    button.click(function (evt) { fig.handle_close(fig, {}); } );\n",
       "    button.mouseover('Stop Interaction', toolbar_mouse_event);\n",
       "    buttongrp.append(button);\n",
       "    var titlebar = this.root.find($('.ui-dialog-titlebar'));\n",
       "    titlebar.prepend(buttongrp);\n",
       "}\n",
       "\n",
       "mpl.figure.prototype._root_extra_style = function(el){\n",
       "    var fig = this\n",
       "    el.on(\"remove\", function(){\n",
       "\tfig.close_ws(fig, {});\n",
       "    });\n",
       "}\n",
       "\n",
       "mpl.figure.prototype._canvas_extra_style = function(el){\n",
       "    // this is important to make the div 'focusable\n",
       "    el.attr('tabindex', 0)\n",
       "    // reach out to IPython and tell the keyboard manager to turn it's self\n",
       "    // off when our div gets focus\n",
       "\n",
       "    // location in version 3\n",
       "    if (IPython.notebook.keyboard_manager) {\n",
       "        IPython.notebook.keyboard_manager.register_events(el);\n",
       "    }\n",
       "    else {\n",
       "        // location in version 2\n",
       "        IPython.keyboard_manager.register_events(el);\n",
       "    }\n",
       "\n",
       "}\n",
       "\n",
       "mpl.figure.prototype._key_event_extra = function(event, name) {\n",
       "    var manager = IPython.notebook.keyboard_manager;\n",
       "    if (!manager)\n",
       "        manager = IPython.keyboard_manager;\n",
       "\n",
       "    // Check for shift+enter\n",
       "    if (event.shiftKey && event.which == 13) {\n",
       "        this.canvas_div.blur();\n",
       "        // select the cell after this one\n",
       "        var index = IPython.notebook.find_cell_index(this.cell_info[0]);\n",
       "        IPython.notebook.select(index + 1);\n",
       "    }\n",
       "}\n",
       "\n",
       "mpl.figure.prototype.handle_save = function(fig, msg) {\n",
       "    fig.ondownload(fig, null);\n",
       "}\n",
       "\n",
       "\n",
       "mpl.find_output_cell = function(html_output) {\n",
       "    // Return the cell and output element which can be found *uniquely* in the notebook.\n",
       "    // Note - this is a bit hacky, but it is done because the \"notebook_saving.Notebook\"\n",
       "    // IPython event is triggered only after the cells have been serialised, which for\n",
       "    // our purposes (turning an active figure into a static one), is too late.\n",
       "    var cells = IPython.notebook.get_cells();\n",
       "    var ncells = cells.length;\n",
       "    for (var i=0; i<ncells; i++) {\n",
       "        var cell = cells[i];\n",
       "        if (cell.cell_type === 'code'){\n",
       "            for (var j=0; j<cell.output_area.outputs.length; j++) {\n",
       "                var data = cell.output_area.outputs[j];\n",
       "                if (data.data) {\n",
       "                    // IPython >= 3 moved mimebundle to data attribute of output\n",
       "                    data = data.data;\n",
       "                }\n",
       "                if (data['text/html'] == html_output) {\n",
       "                    return [cell, data, j];\n",
       "                }\n",
       "            }\n",
       "        }\n",
       "    }\n",
       "}\n",
       "\n",
       "// Register the function which deals with the matplotlib target/channel.\n",
       "// The kernel may be null if the page has been refreshed.\n",
       "if (IPython.notebook.kernel != null) {\n",
       "    IPython.notebook.kernel.comm_manager.register_target('matplotlib', mpl.mpl_figure_comm);\n",
       "}\n"
      ],
      "text/plain": [
       "<IPython.core.display.Javascript object>"
      ]
     },
     "metadata": {},
     "output_type": "display_data"
    },
    {
     "data": {
      "text/html": [
       "<img src=\"data:image/png;base64,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\" width=\"640\">"
      ],
      "text/plain": [
       "<IPython.core.display.HTML object>"
      ]
     },
     "metadata": {},
     "output_type": "display_data"
    },
    {
     "data": {
      "text/plain": [
       "<mpl_toolkits.mplot3d.art3d.Path3DCollection at 0x7ff34476fe10>"
      ]
     },
     "execution_count": 5,
     "metadata": {},
     "output_type": "execute_result"
    }
   ],
   "source": [
    "from mpl_toolkits.mplot3d import Axes3D\n",
    "fig = plt.figure(1)\n",
    "ax = fig.add_subplot(111, projection='3d')\n",
    "ax.scatter(X[:,0], X[:,1], Y)\n",
    "# Added the origin \n",
    "ax.scatter([0],[0],[0], \"o\", color='red')"
   ]
  },
  {
   "cell_type": "markdown",
   "metadata": {},
   "source": [
    "## Question 1\n",
    "\n",
    "Recall from class that when we solve the normal equations we obtain the following estimate for our linear model:\n",
    "\n",
    "$$\n",
    "\\hat{\\theta{}} = (X^T X)^{-1} (X^T y)\n",
    "$$\n",
    "\n",
    "Complete the following function to compute the parameter estimate $\\hat{\\theta{}}$:"
   ]
  },
  {
   "cell_type": "code",
   "execution_count": 10,
   "metadata": {
    "collapsed": true,
    "tags": [
     "student"
    ]
   },
   "outputs": [],
   "source": [
    "def least_squares_est(X, Y):\n",
    "    \"\"\"\n",
    "    Solve the normal equations for the data X and Y.\n",
    "    \n",
    "        X: is the covariate matrix where each row is a record\n",
    "            and each column is a feature\n",
    "        Y: is a vector containing the response values\n",
    "    \n",
    "    \n",
    "    returns the solution to the normal equations\n",
    "        inv(X.T @ X) @ (X.T @ Y)\n",
    "    \n",
    "    \"\"\"\n",
    "    # Read the documentation on this function\n",
    "    from numpy.linalg import solve, inv\n",
    "    return inv(X.T @ X) @ (X.T @ Y)\n",
    "    "
   ]
  },
  {
   "cell_type": "markdown",
   "metadata": {},
   "source": [
    "Let's look at our estimate for the model parameters:"
   ]
  },
  {
   "cell_type": "code",
   "execution_count": 11,
   "metadata": {},
   "outputs": [
    {
     "data": {
      "text/plain": [
       "array([-2.5883789105125627,  0.6953174687410613])"
      ]
     },
     "execution_count": 11,
     "metadata": {},
     "output_type": "execute_result"
    }
   ],
   "source": [
    "theta_hat = least_squares_est(X, Y)\n",
    "theta_hat"
   ]
  },
  {
   "cell_type": "code",
   "execution_count": null,
   "metadata": {
    "tags": [
     "test",
     "q01"
    ]
   },
   "outputs": [
    {
     "name": "stdout",
     "output_type": "stream",
     "text": [
      "~~~~~~~~~~~~~~~~~~~~~~~~~~~~~~~~~~~~~~~~~~~~~~~~~~~~~~~~~~~~~~~~~~~~~\n",
      "Running tests\n",
      "\n",
      "---------------------------------------------------------------------\n",
      "Test summary\n",
      "    Passed: 1\n",
      "    Failed: 0\n",
      "[ooooooooook] 100.0% passed\n",
      "\n"
     ]
    },
    {
     "data": {
      "application/javascript": [
       "IPython.notebook.save_checkpoint();"
      ],
      "text/plain": [
       "<IPython.core.display.Javascript object>"
      ]
     },
     "metadata": {},
     "output_type": "display_data"
    }
   ],
   "source": [
    "_ = ok.grade('q01')\n",
    "_ = ok.backup()"
   ]
  },
  {
   "cell_type": "markdown",
   "metadata": {},
   "source": [
    "## Question 2\n",
    "\n",
    "Let's compute the correlation coefficient:\n",
    "\n",
    "$$\n",
    "r(x,y) = \\frac{1}{n} \\sum_{i=1}^n \\frac{(x_i - \\bar{x})}{\\sigma_x}  * \n",
    "\\frac{(y_i - \\bar{y})}{\\sigma_y}\n",
    "$$\n",
    "\n",
    "where:\n",
    "\n",
    "$$\n",
    "\\sigma_x = \\sqrt{\\frac{1}{n}\\sum_{i=1}^n (x-\\bar{x})^2}\n",
    "$$\n",
    "\n",
    "and\n",
    "\n",
    "$$\n",
    "\\sigma_y = \\sqrt{\\frac{1}{n}\\sum_{i=1}^n (y-\\bar{y})^2}\n",
    "$$\n",
    "\n",
    "Complete the following function:"
   ]
  },
  {
   "cell_type": "code",
   "execution_count": null,
   "metadata": {
    "collapsed": true,
    "tags": [
     "student"
    ]
   },
   "outputs": [],
   "source": [
    "def correlation(x, y):\n",
    "    \"\"\"\n",
    "    Compute the correlation between the vectors x and y.\n",
    "    \n",
    "        x: a 1-dimensional vector of length n\n",
    "        y: a 1-dimensional vector of length n\n",
    "        \n",
    "    return the correlation coefficient defined as above.\n",
    "    \"\"\"\n",
    "    ..."
   ]
  },
  {
   "cell_type": "code",
   "execution_count": null,
   "metadata": {
    "collapsed": true,
    "tags": [
     "test",
     "q02"
    ]
   },
   "outputs": [],
   "source": [
    "_ = ok.grade('q02')\n",
    "_ = ok.backup()"
   ]
  },
  {
   "cell_type": "markdown",
   "metadata": {},
   "source": [
    "In the following we compute the correlation coefficient for `X[:,0]` and `X[:,1]`"
   ]
  },
  {
   "cell_type": "code",
   "execution_count": null,
   "metadata": {
    "collapsed": true
   },
   "outputs": [],
   "source": [
    "correlation(X[:,0], Y)\n"
   ]
  },
  {
   "cell_type": "code",
   "execution_count": null,
   "metadata": {
    "collapsed": true
   },
   "outputs": [],
   "source": [
    "correlation(X[:,1], Y)"
   ]
  },
  {
   "cell_type": "markdown",
   "metadata": {},
   "source": [
    "Which dimension has a stronger linear relationship?"
   ]
  },
  {
   "cell_type": "code",
   "execution_count": null,
   "metadata": {
    "collapsed": true,
    "tags": [
     "student"
    ]
   },
   "outputs": [],
   "source": [
    "q2_text = r\"\"\"your answer\"\"\""
   ]
  },
  {
   "cell_type": "markdown",
   "metadata": {},
   "source": [
    "## Question 3\n",
    "\n",
    "How well do we fit the data?  Let's examine our prediction error.  Finish the following function to compute the root mean squared error for a given theta:\n",
    "\n",
    "$$\n",
    "RMSE = \\sqrt{\\frac{1}{n} \\sum_{i=1}^n (\\theta^T X_{i,:} - Y_i)^2}\n",
    "$$"
   ]
  },
  {
   "cell_type": "code",
   "execution_count": null,
   "metadata": {
    "collapsed": true,
    "tags": [
     "student"
    ]
   },
   "outputs": [],
   "source": [
    "def rmse(theta, X, Y):\n",
    "    \"\"\"\n",
    "    Compute the root mean squared error for the parameters theta\n",
    "    \n",
    "        theta: the estimated parameter vector\n",
    "        X: the n by p covariate matrix\n",
    "        Y: the n response values\n",
    "    \n",
    "    return the np.sqrt of the np.mean of X.dot(theta) - Y)^2 \n",
    "    \n",
    "    \"\"\"\n",
    "    ..."
   ]
  },
  {
   "cell_type": "code",
   "execution_count": null,
   "metadata": {
    "collapsed": true,
    "tags": [
     "test",
     "q03"
    ]
   },
   "outputs": [],
   "source": [
    "_ = ok.grade('q03')\n",
    "_ = ok.backup()"
   ]
  },
  {
   "cell_type": "markdown",
   "metadata": {},
   "source": [
    "Examining the error in our estimate $\\hat{\\theta{}}$"
   ]
  },
  {
   "cell_type": "code",
   "execution_count": null,
   "metadata": {
    "collapsed": true
   },
   "outputs": [],
   "source": [
    "rmse(theta_true, X, Y)"
   ]
  },
  {
   "cell_type": "code",
   "execution_count": null,
   "metadata": {
    "collapsed": true
   },
   "outputs": [],
   "source": [
    "rmse(theta_hat, X, Y)"
   ]
  },
  {
   "cell_type": "markdown",
   "metadata": {},
   "source": [
    "Why might the estimator have a lower error than the true theta?"
   ]
  },
  {
   "cell_type": "code",
   "execution_count": null,
   "metadata": {
    "collapsed": true,
    "tags": [
     "student"
    ]
   },
   "outputs": [],
   "source": [
    "q3_text = r\"\"\"your answer\"\"\""
   ]
  },
  {
   "cell_type": "code",
   "execution_count": null,
   "metadata": {
    "collapsed": true
   },
   "outputs": [],
   "source": []
  },
  {
   "cell_type": "markdown",
   "metadata": {},
   "source": [
    "## Question 4\n",
    "\n",
    "Currently our model has the form:\n",
    "\n",
    "$$\n",
    "y = x_0  \\theta_0 + x_1 \\theta_1\n",
    "$$\n",
    "\n",
    "However we might want to add an additional intercept term:\n",
    "\n",
    "$$\n",
    "y = x_0  \\theta_0 + x_1 \\theta_1 + \\mathbf{\\theta_3}\n",
    "$$\n",
    "\n",
    "A common \"trick\" to add an extra constant term is to add an extra dimension (column) to our covariate matrix $X$:\n",
    "\n",
    "$$\n",
    "\\textbf{addConst}(X) = \n",
    "\\left(\n",
    "\\begin{matrix}\n",
    "X_{0,0} & X_{0,1} & \\color{red}{1.0} \\\\\n",
    "X_{1,0} & X_{1,1} & \\color{red}{1.0} \\\\\n",
    "\\ldots & \\ldots & \\ldots \\\\\n",
    "X_{n,0} & X_{n,1} & \\color{red}{1.0}\n",
    "\\end{matrix}\n",
    "\\right)\n",
    "$$\n",
    "\n",
    "Complete the following function.  You may want to use `np.hstack` and `np.ones((n,1))`.\n"
   ]
  },
  {
   "cell_type": "code",
   "execution_count": null,
   "metadata": {
    "collapsed": true,
    "tags": [
     "student"
    ]
   },
   "outputs": [],
   "source": [
    "def add_const(X):\n",
    "    \"\"\"\n",
    "    Add an extra column of 1.0 to n by p matrix.\n",
    "    \n",
    "        X: an n by p matrix\n",
    "        return: an n by (p+1) matrix with the last column \n",
    "            containing 1.0\n",
    "    \"\"\"\n",
    "    # Hint: use np.hstack\n",
    "    ..."
   ]
  },
  {
   "cell_type": "code",
   "execution_count": null,
   "metadata": {
    "collapsed": true,
    "tags": [
     "test",
     "q04"
    ]
   },
   "outputs": [],
   "source": [
    "_ = ok.grade('q04')\n",
    "_ = ok.backup()"
   ]
  },
  {
   "cell_type": "markdown",
   "metadata": {},
   "source": [
    "## Question 5\n",
    "\n",
    "Use the above code to compute the parameters for the model:\n",
    "\n",
    "$$\n",
    "y = x_0  \\theta_0 + x_1 \\theta_1 + \\mathbf{\\theta_3}\n",
    "$$\n"
   ]
  },
  {
   "cell_type": "code",
   "execution_count": null,
   "metadata": {
    "collapsed": true,
    "tags": [
     "student"
    ]
   },
   "outputs": [],
   "source": [
    "theta_hat_with_intercept = ..."
   ]
  },
  {
   "cell_type": "code",
   "execution_count": null,
   "metadata": {
    "collapsed": true,
    "tags": [
     "test",
     "q05"
    ]
   },
   "outputs": [],
   "source": [
    "_ = ok.grade('q05')\n",
    "_ = ok.backup()"
   ]
  },
  {
   "cell_type": "markdown",
   "metadata": {},
   "source": [
    "Let's compare the estimator parameters with the true parameters (which we know because we fabricated the data)."
   ]
  },
  {
   "cell_type": "code",
   "execution_count": null,
   "metadata": {
    "collapsed": true
   },
   "outputs": [],
   "source": [
    "theta_hat_with_intercept"
   ]
  },
  {
   "cell_type": "code",
   "execution_count": null,
   "metadata": {
    "collapsed": true
   },
   "outputs": [],
   "source": [
    "print(\"True theta_0 and theta_1\", theta_true)\n",
    "print(\"True intercept (theta_2)\", intercept)"
   ]
  },
  {
   "cell_type": "markdown",
   "metadata": {},
   "source": [
    "How did we do?  The numbers should be relatively close however there was noise in our data so it is possible that we are slightly off.  What about the RMSE?"
   ]
  },
  {
   "cell_type": "code",
   "execution_count": null,
   "metadata": {
    "collapsed": true
   },
   "outputs": [],
   "source": [
    "print(\"RMSE with intercept term:\", \n",
    "      rmse(theta_hat_with_intercept, add_const(X), Y))"
   ]
  },
  {
   "cell_type": "code",
   "execution_count": null,
   "metadata": {
    "collapsed": true
   },
   "outputs": [],
   "source": [
    "print(\"RMSE without intercept:\", \n",
    "      rmse(theta_hat, X, Y))"
   ]
  },
  {
   "cell_type": "markdown",
   "metadata": {},
   "source": [
    "That is a substantial improvement!"
   ]
  },
  {
   "cell_type": "markdown",
   "metadata": {},
   "source": [
    "## Question 6\n",
    "\n",
    "Uses `sns.distplot` to plot the distribution of the residual for our estimator with an intercept term.  Note if there is a any skew"
   ]
  },
  {
   "cell_type": "code",
   "execution_count": null,
   "metadata": {
    "collapsed": true,
    "tags": [
     "student"
    ]
   },
   "outputs": [],
   "source": [
    "plt.figure(2)\n",
    "resid = ...\n",
    "# sns.distplot(resid)"
   ]
  },
  {
   "cell_type": "markdown",
   "metadata": {},
   "source": [
    "## Question 7 \n",
    "\n",
    "Calculate the sum of residual in question 6. Show that the sum is roughly zero."
   ]
  },
  {
   "cell_type": "code",
   "execution_count": null,
   "metadata": {
    "collapsed": true,
    "tags": [
     "student"
    ]
   },
   "outputs": [],
   "source": [
    "sum_resid = ..."
   ]
  },
  {
   "cell_type": "code",
   "execution_count": null,
   "metadata": {
    "collapsed": true,
    "tags": [
     "test",
     "q07"
    ]
   },
   "outputs": [],
   "source": [
    "_ = ok.grade('q07')\n",
    "_ = ok.backup()"
   ]
  },
  {
   "cell_type": "markdown",
   "metadata": {},
   "source": [
    "# Submitting your assignment\n",
    "\n",
    "Congratulations, you're done with this lab!\n",
    "\n",
    "Run the next cell to run all the tests at once."
   ]
  },
  {
   "cell_type": "code",
   "execution_count": null,
   "metadata": {
    "collapsed": true
   },
   "outputs": [],
   "source": [
    "_ = ok.grade_all()    "
   ]
  },
  {
   "cell_type": "markdown",
   "metadata": {},
   "source": [
    "Now, run the cell below to submit your assignment to OkPy. The autograder should email you shortly with your autograded score. The autograder will only run once every 30 minutes.\n",
    "\n",
    "**If you're failing tests on the autograder but pass them locally**, you should simulate the autograder by doing the following:\n",
    "\n",
    "1. In the top menu, click Kernel -> Restart and Run all.\n",
    "2. Run the cell above to run each OkPy test.\n",
    "\n",
    "**You must make sure that you pass all the tests when running steps 1 and 2 in order.** If you are still failing autograder tests, you should double check your results."
   ]
  },
  {
   "cell_type": "code",
   "execution_count": null,
   "metadata": {
    "collapsed": true
   },
   "outputs": [],
   "source": [
    "_ = ok.submit()"
   ]
  }
 ],
 "metadata": {
  "anaconda-cloud": {},
  "kernelspec": {
   "display_name": "Python 3",
   "language": "python",
   "name": "python3"
  },
  "language_info": {
   "codemirror_mode": {
    "name": "ipython",
    "version": 3
   },
   "file_extension": ".py",
   "mimetype": "text/x-python",
   "name": "python",
   "nbconvert_exporter": "python",
   "pygments_lexer": "ipython3",
   "version": "3.6.1"
  },
  "toc": {
   "colors": {
    "hover_highlight": "#DAA520",
    "navigate_num": "#000000",
    "navigate_text": "#333333",
    "running_highlight": "#FF0000",
    "selected_highlight": "#FFD700",
    "sidebar_border": "#EEEEEE",
    "wrapper_background": "#FFFFFF"
   },
   "moveMenuLeft": true,
   "nav_menu": {
    "height": "174px",
    "width": "252px"
   },
   "navigate_menu": true,
   "number_sections": true,
   "sideBar": true,
   "threshold": 4,
   "toc_cell": false,
   "toc_section_display": "block",
   "toc_window_display": false,
   "widenNotebook": false
  }
 },
 "nbformat": 4,
 "nbformat_minor": 1
}
