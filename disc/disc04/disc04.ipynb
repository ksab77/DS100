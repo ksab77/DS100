{
 "cells": [
  {
   "cell_type": "markdown",
   "metadata": {},
   "source": [
    "# Discussion 4: Visualizations\n",
    "\n",
    "\n",
    "In today's discussion, you'll get practice identifying poor visualizations\n",
    "and suggesting improvements to them.\n",
    "\n",
    "The purpose of this exercise is to think about and communicate your point of view, so\n",
    "please work through these problems together in **groups of 2 or 3**."
   ]
  },
  {
   "cell_type": "markdown",
   "metadata": {},
   "source": [
    "## Question 1: Intel Chips\n",
    "\n",
    "The chips that are present in your computer contain electrical components called\n",
    "transistors. Intel is one of the leading manufacturers of these chips; they\n",
    "released the first chip for home computers in 1979.\n",
    "\n",
    "We'd like to visualize the improvements in chips that Intel has made since 1979.\n",
    "\n",
    "You can see a portion of the data at http://computer.howstuffworks.com/microprocessor1.htm.\n",
    "\n",
    "Inspect the following plot.\n",
    "\n",
    "![](intel1.png)\n",
    "\n",
    "### Question 1a\n",
    "\n",
    "What is the plot trying to communicate?"
   ]
  },
  {
   "cell_type": "markdown",
   "metadata": {},
   "source": [
    "Rapid growth of transistor numbers"
   ]
  },
  {
   "cell_type": "markdown",
   "metadata": {},
   "source": [
    "### Question 1b\n",
    "\n",
    "What are the problems with this plot? (There are quite a few.)\n",
    "\n",
    "Scale - can't see the details of the trend. Too large.\n",
    "\n"
   ]
  },
  {
   "cell_type": "markdown",
   "metadata": {},
   "source": [
    "Here's an attempt to improve the plot:\n",
    "\n",
    "![](intel2.png)"
   ]
  },
  {
   "cell_type": "markdown",
   "metadata": {},
   "source": [
    "### Question 1c\n",
    "\n",
    "What is clear from this plot that isn't clear in the previous one?"
   ]
  },
  {
   "cell_type": "code",
   "execution_count": null,
   "metadata": {
    "collapsed": true
   },
   "outputs": [],
   "source": []
  },
  {
   "cell_type": "markdown",
   "metadata": {},
   "source": [
    "Here's a third attempt to improve the plot:\n",
    "\n",
    "![](intel3.png)"
   ]
  },
  {
   "cell_type": "markdown",
   "metadata": {},
   "source": [
    "### Question 1d\n",
    "\n",
    "What is better about this plot compared to the previous one?"
   ]
  },
  {
   "cell_type": "markdown",
   "metadata": {},
   "source": [
    "## Question 2\n",
    "What are the problems with this visualization?\n",
    "\n",
    "<img src=\"indian_circle.png\" width= 600>"
   ]
  },
  {
   "cell_type": "markdown",
   "metadata": {
    "tags": [
     "solution"
    ]
   },
   "source": [
    "It uses area of circle to encode the data and make comparison, which is confusing. The interior circle looks bigger \n",
    "\n",
    "Also the red/green order is not consistent."
   ]
  },
  {
   "cell_type": "markdown",
   "metadata": {
    "collapsed": true
   },
   "source": [
    "### Question 3\n",
    "What are the problems for the following graphs:\n",
    "<img src=\"iphone-sales.jpg\" width= 600>\n",
    "<img src=\"stack.png\" width= 600>\n"
   ]
  },
  {
   "cell_type": "markdown",
   "metadata": {
    "tags": [
     "solution"
    ]
   },
   "source": [
    "Stack graph and cumulative graph can gives false intuitions.\n",
    "\n"
   ]
  },
  {
   "cell_type": "markdown",
   "metadata": {},
   "source": [
    "## Question 4\n",
    "\n",
    "How we're showing some modified plots from http://vis.berkeley.edu/papers/revision/revision.pdf\n",
    "<img src=\"revison.png\" width= 500>\n"
   ]
  },
  {
   "cell_type": "markdown",
   "metadata": {},
   "source": [
    "### Question 4a\n",
    "\n",
    "What is the purpose of this visualization? What is it trying to communicate?"
   ]
  },
  {
   "cell_type": "code",
   "execution_count": null,
   "metadata": {
    "collapsed": true
   },
   "outputs": [],
   "source": []
  },
  {
   "cell_type": "markdown",
   "metadata": {},
   "source": [
    "### Question 4b\n",
    "\n",
    "Which visualizations convey well? "
   ]
  },
  {
   "cell_type": "code",
   "execution_count": null,
   "metadata": {
    "collapsed": true
   },
   "outputs": [],
   "source": []
  }
 ],
 "metadata": {
  "anaconda-cloud": {},
  "celltoolbar": "Tags",
  "kernelspec": {
   "display_name": "Python 3",
   "language": "python",
   "name": "python3"
  },
  "language_info": {
   "codemirror_mode": {
    "name": "ipython",
    "version": 3
   },
   "file_extension": ".py",
   "mimetype": "text/x-python",
   "name": "python",
   "nbconvert_exporter": "python",
   "pygments_lexer": "ipython3",
   "version": "3.6.1"
  }
 },
 "nbformat": 4,
 "nbformat_minor": 1
}
