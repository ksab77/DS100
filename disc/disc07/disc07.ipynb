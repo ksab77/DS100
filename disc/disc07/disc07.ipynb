{
 "cells": [
  {
   "cell_type": "markdown",
   "metadata": {},
   "source": [
    "# Discussion 07: SQL\n",
    "\n",
    "In this discussion, we will be covering a review of basic SQL and exploring more advanced and interesting SQL queries and questions.\n",
    "\n",
    "Optional SQL Reference: https://www.w3schools.com/sql/default.asp"
   ]
  },
  {
   "cell_type": "code",
   "execution_count": null,
   "metadata": {
    "collapsed": true
   },
   "outputs": [],
   "source": [
    "# !conda install -y psycopg2\n",
    "# !conda install -y postgresql\n",
    "# !pip install ipython-sql\n",
    "# !pip install sqlalchemy\n",
    "\n",
    "import os\n",
    "import numpy as np\n",
    "import pandas as pd\n",
    "import sqlalchemy\n",
    "\n",
    "%load_ext sql"
   ]
  },
  {
   "cell_type": "code",
   "execution_count": null,
   "metadata": {
    "collapsed": true
   },
   "outputs": [],
   "source": [
    "postgresql_uri = \"postgres://{}:@localhost:5432/ds100\".format(os.environ['USER'])\n",
    "default_db = postgresql_uri\n",
    "\n",
    "%sql $postgresql_uri"
   ]
  },
  {
   "cell_type": "markdown",
   "metadata": {},
   "source": [
    "## Basic Table Creation, Manipulation, and Queries\n",
    "\n",
    "### Creating or dropping a table\n",
    "```sql\n",
    "CREATE TABLE table_name (\n",
    "    column1 datatype,\n",
    "    column2 datatype,\n",
    "    column3 datatype,\n",
    "   ....\n",
    ");\n",
    "```\n",
    "```sql\n",
    "DROP TABLE IF EXISTS table_name;\n",
    "```\n",
    "### Adding rows \n",
    "```sql\n",
    "INSERT INTO table_name\n",
    "VALUES (value1, value2, value3, ...);\n",
    "```\n",
    "### Updating rows\n",
    "```sql\n",
    "UPDATE table_name\n",
    "SET column1 = value1, column2 = value2, ...\n",
    "WHERE condition;\n",
    "```\n",
    "### Deleting rows\n",
    "```sql\n",
    "DELETE FROM table_name\n",
    "WHERE condition;\n",
    "```"
   ]
  },
  {
   "cell_type": "markdown",
   "metadata": {},
   "source": [
    "## SQL: Structured Query Language\n",
    "\n",
    "The canonical SQL query block includes the following clauses, in the order they appear. Square brackets indicate optional clauses.\n",
    "```sql\n",
    "SELECT ...   \n",
    "  FROM ...\n",
    "[WHERE ...]\n",
    "[GROUP BY ...]\n",
    "[HAVING ...]\n",
    "[ORDER BY ...]\n",
    "[LIMIT ...];\n",
    "```\n",
    "Query blocks can reference **one or more** tables, and be nested in various ways.\n",
    "\n",
    "### Reading a SQL Expression: Order of Evaluation\n",
    "We've seen a bunch of different query clauses in lecture and lab, and done some mixing and matching. How do they fit together? The order of evaluation should be thought of like this:\n",
    "\n",
    "1. The `FROM` and `WHERE` clauses are evaluated to compute selections and joins.\n",
    "2. The `GROUP BY` and `HAVING` clauses are evaluated to for groups resulting from the previous step\n",
    "3. The `SELECT` clause is evaluated, including any aggregates\n",
    "4. The `ORDER BY` clause is evaluated\n",
    "5. The `LIMIT` clause is used to cut off output production.\n"
   ]
  },
  {
   "cell_type": "markdown",
   "metadata": {},
   "source": [
    "## Joins\n",
    "\n",
    "### Different Types of SQL JOINs\n",
    "Here are the different types of the JOINs in SQL:\n",
    "\n",
    "1. (INNER) JOIN: Returns records that have matching values in both tables\n",
    "2. LEFT (OUTER) JOIN: Return all records from the left table, and the matched records from the right table\n",
    "3. RIGHT (OUTER) JOIN: Return all records from the right table, and the matched records from the left table\n",
    "4. FULL (OUTER) JOIN: Return all records when there is a match in either left or right table\n",
    "\n",
    "<img src=\"joins.png\">\n",
    "\n",
    "Note: You do not always have to use the `JOIN` keyword to join sql tables. The following are equivalent:\n",
    "\n",
    "```sql\n",
    "SELECT column1, column2\n",
    "FROM table1, table2\n",
    "WHERE table1.id = table2.id;\n",
    "```\n",
    "```sql\n",
    "SELECT column1, column2\n",
    "FROM table1 JOIN table2 \n",
    "ON table1.id = table2.id;\n",
    "```"
   ]
  },
  {
   "cell_type": "markdown",
   "metadata": {},
   "source": [
    "### Example: Joining Three Tables\n",
    "\n",
    "Suppose we have the following tables:\n",
    "\n",
    "**Clowns**( cid integer, cname text, booth text )  \n",
    "**Balloons**( bid integer, bshape text, bcolor text )  \n",
    "**Catalog**( cid integer, bid integer, cost float )\n",
    "\n",
    "The **Catalog** table contains prices for **Balloons** sold by different **Clowns** standing at certain booths in a fair.\n",
    "\n",
    "**Question 1**  \n",
    "How may we query for the top 10 most expensive shapes sold by Whompers LeFou?\n",
    "\n",
    "```sql\n",
    "SELECT bshape, cost\n",
    "FROM Clowns, Balloons, Catalog \n",
    "WHERE Clowns.cid=Catalog.cid\n",
    "    AND Balloons.bid=Catalog.bid\n",
    "    AND cname='Whompers LeFou'\n",
    "ORDER BY cost DESC\n",
    "LIMIT 10;\n",
    "```\n",
    "\n",
    "**Question 2**  \n",
    "How many different colors are available at each booth?\n",
    "```sql\n",
    "SELECT booth, COUNT(DISTINCT bcolor)\n",
    "FROM Clowns, Balloons, Catalog\n",
    "WHERE Clowns.cid=Catalog.cid\n",
    "    AND Balloons.bid=Catalog.bid\n",
    "GROUP BY booth\n",
    "```\n",
    "\n",
    "**Question 3**  \n",
    "What is the average cost of a balloon at booths that offer more than 3 red shapes per clown? Each clown at the booth does not necessarily have to be selling more than 3 shapes.\n",
    "\n",
    "```sql\n",
    "SELECT booth, avg(cost)\n",
    "FROM Clowns, Balloons, Catalog\n",
    "WHERE Clowns.cid=Catalog.cid\n",
    "    AND Balloons.cid=Catalog.cid\n",
    "    AND bcolor='red'\n",
    "GROUP BY booth\n",
    "HAVING COUNT(DISTINCT bshape)/COUNT(DISTINCT Clowns.cid) > 3\n",
    "```"
   ]
  },
  {
   "cell_type": "markdown",
   "metadata": {},
   "source": [
    "## Transposing Matrices in SQL\n",
    "\n",
    "Recall in lecture how we can represent a \"matrix\" relation as `my_matrix(r, c, v)`."
   ]
  },
  {
   "cell_type": "code",
   "execution_count": null,
   "metadata": {
    "collapsed": true
   },
   "outputs": [],
   "source": [
    "%%sql\n",
    "DROP TABLE IF EXISTS my_matrix;\n",
    "\n",
    "CREATE TABLE my_matrix(r INTEGER, c INTEGER, val FLOAT, PRIMARY KEY(r, c));\n",
    "\n",
    "INSERT INTO my_matrix\n",
    "SELECT rows.r, columns.c, CEIL(6*RANDOM())::INTEGER AS v\n",
    "  FROM generate_series(0,2) AS rows(r),\n",
    "       generate_series(0,1) AS columns(c); "
   ]
  },
  {
   "cell_type": "code",
   "execution_count": null,
   "metadata": {
    "collapsed": true
   },
   "outputs": [],
   "source": [
    "%%sql\n",
    "\n",
    "SELECT *  \n",
    "FROM my_matrix;"
   ]
  },
  {
   "cell_type": "markdown",
   "metadata": {},
   "source": [
    "How can we transpose this matrix? Let's think about the implementation. \n",
    "\n",
    "First, we should think about the definition. Let $M$ denote a matrix and $[M]_{ij}$ be the element in the $i^{th}$ row and $j^{th}$ column. The matrix transpose is defined as $$[M^T]_{ij}=[M]_{ji}$$ This suggests that all we naively have to do is make a SELECT statement that swaps `row` and `col`."
   ]
  },
  {
   "cell_type": "code",
   "execution_count": null,
   "metadata": {
    "collapsed": true
   },
   "outputs": [],
   "source": [
    "%%sql\n",
    "\n",
    "SELECT M.c AS r, M.r AS c, val \n",
    "FROM my_matrix AS M;"
   ]
  },
  {
   "cell_type": "markdown",
   "metadata": {
    "collapsed": true
   },
   "source": [
    "## Matrix Multiplication w/ SQL\n",
    "\n",
    "We already know how we may do matrix multiplication in numpy but how may we achieve this in SQL? \n",
    "\n",
    "Recall how two matrices are multiplied together: \n",
    "If A is an *n × m* matrix and B is an *m × p* matrix, their matrix product AB is an *n × p* matrix, in which the m entries across a row of A are multiplied with the m entries down a column of B and summed to produce an entry of AB."
   ]
  },
  {
   "cell_type": "code",
   "execution_count": null,
   "metadata": {
    "collapsed": true
   },
   "outputs": [],
   "source": [
    "np.random.seed(43)\n",
    "\n",
    "# normally distributed random numbers, mean 0 variance 1\n",
    "my_matrixA = np.random.randint(1,6, (3,2)).astype('float')\n",
    "my_matrixA"
   ]
  },
  {
   "cell_type": "code",
   "execution_count": null,
   "metadata": {
    "collapsed": true
   },
   "outputs": [],
   "source": [
    "my_matrixB = np.random.randint(1,6, (2,3)).astype('float')\n",
    "my_matrixB"
   ]
  },
  {
   "cell_type": "code",
   "execution_count": null,
   "metadata": {
    "collapsed": true
   },
   "outputs": [],
   "source": [
    "# Dot Product of MatrixA and MatrixB\n",
    "my_matrixA @ my_matrixB"
   ]
  },
  {
   "cell_type": "markdown",
   "metadata": {},
   "source": [
    "Let's first save these as tables in pandas."
   ]
  },
  {
   "cell_type": "code",
   "execution_count": null,
   "metadata": {
    "collapsed": true
   },
   "outputs": [],
   "source": [
    "(col_id, row_id) = np.meshgrid(np.arange(2), np.arange(3))\n",
    "\n",
    "mat_a = pd.DataFrame(\n",
    "    np.vstack([row_id.flatten().T, col_id.flatten(), my_matrixA.flatten()]).T, \n",
    "    columns=['r', 'c', 'v'])\n",
    "\n",
    "mat_a"
   ]
  },
  {
   "cell_type": "code",
   "execution_count": null,
   "metadata": {
    "collapsed": true
   },
   "outputs": [],
   "source": [
    "(col_id, row_id) = np.meshgrid(np.arange(3), np.arange(2))\n",
    "\n",
    "mat_b = pd.DataFrame(\n",
    "    np.vstack([row_id.flatten().T, col_id.flatten(), my_matrixB.flatten()]).T, \n",
    "    columns=['r', 'c', 'v'])\n",
    "\n",
    "mat_b"
   ]
  },
  {
   "cell_type": "code",
   "execution_count": null,
   "metadata": {
    "collapsed": true
   },
   "outputs": [],
   "source": [
    "engine = sqlalchemy.create_engine(postgresql_uri)\n",
    "with engine.connect() as conn:\n",
    "    conn.execute(\"DROP TABLE IF EXISTS mat_a\")\n",
    "    mat_a.to_sql(\"mat_a\", conn, index=False)\n",
    "\n",
    "    conn.execute(\"DROP TABLE IF EXISTS mat_b\")\n",
    "    mat_b.to_sql(\"mat_b\", conn, index=False)"
   ]
  },
  {
   "cell_type": "code",
   "execution_count": null,
   "metadata": {
    "collapsed": true
   },
   "outputs": [],
   "source": [
    "%%sql\n",
    "-- verify the existence and correctness of our tables\n",
    "select * from mat_a;"
   ]
  },
  {
   "cell_type": "markdown",
   "metadata": {},
   "source": [
    "### Implementation \n",
    "How can we multiply these matrices? Let's recall how any single entry in AB is produced. \n",
    "\n",
    "<img src=\"mat_mul.png\" width=\"300px\"> \n",
    "\n",
    "Remember the formula for entry $(i,j)$ of the product AB. It is the sum of $A(i,k)*B(k,j)$ for all k. Thus, the `JOIN` condition `A.c = B.r` makes sure that both `A.v` and `B.v` has the *same k*. The `GROUP BY` clause makes sure that we sum over all k's.\n"
   ]
  },
  {
   "cell_type": "code",
   "execution_count": null,
   "metadata": {
    "collapsed": true
   },
   "outputs": [],
   "source": [
    "%%sql \n",
    "\n",
    "SELECT A.r::INTEGER,\n",
    "   B.c::INTEGER,\n",
    "   SUM(A.v * B.v) AS value\n",
    "FROM mat_a A\n",
    "INNER JOIN mat_b B\n",
    "ON A.c = B.r\n",
    "GROUP BY A.r, B.c;"
   ]
  }
 ],
 "metadata": {
  "celltoolbar": "Tags",
  "kernelspec": {
   "display_name": "Python 3",
   "language": "python",
   "name": "python3"
  },
  "language_info": {
   "codemirror_mode": {
    "name": "ipython",
    "version": 3
   },
   "file_extension": ".py",
   "mimetype": "text/x-python",
   "name": "python",
   "nbconvert_exporter": "python",
   "pygments_lexer": "ipython3",
   "version": "3.6.3"
  }
 },
 "nbformat": 4,
 "nbformat_minor": 2
}
